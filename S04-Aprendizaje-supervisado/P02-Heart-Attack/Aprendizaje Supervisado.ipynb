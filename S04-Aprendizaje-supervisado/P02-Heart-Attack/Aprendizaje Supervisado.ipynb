{
 "cells": [
  {
   "cell_type": "markdown",
   "metadata": {},
   "source": [
    "## Supervised Learning\n",
    "\n",
    "- Instructor: Aldo Alducin\n",
    "- Presenta: Juliho Castillo Colmenares\n"
   ]
  },
  {
   "cell_type": "markdown",
   "metadata": {},
   "source": [
    "\n",
    "<p><img src=\"https://preview.redd.it/rfgtsej8fhv71.jpg?auto=webp&s=99a5d000ff2baaac79a8d15c7135c3677f105159\" width=\"1000\"></p>"
   ]
  },
  {
   "cell_type": "markdown",
   "metadata": {},
   "source": [
    "## Exploratory Data Analysis\n",
    "<p>Vamos a trabajar con el conjunto de datos de <code>Heart Attack</code>, el objetivo es predecir bajo que escenario es más probable que un paciente pueda tener un ataque al corazón  Un experto en medicina cardiovasuclar puede predecir esto sin hacer uso de <i>Machine Learning</i>, pero probablemente no instantáneamente, ¡y ciertamente no si estamos tratando con cientos o miles de muestras!.\n",
    "    \n",
    "A continuación una breve explicación de las variables del dataset:\n",
    "    \n",
    "- <b>age:</b> Age of the patient\n",
    "- <b>sex:</b> Sex of the patient\n",
    "- <b>cp:</b> Chest pain type ~ 0 = Typical Angina, 1 = Atypical Angina, 2 = Non-anginal Pain, 3 = Asymptomatic\n",
    "- <b>trtbps:</b> Resting blood pressure (in mm Hg)\n",
    "- <b>chol:</b> Cholestoral in mg/dl fetched via BMI sensor\n",
    "- <b>fbs:</b> (fasting blood sugar > 120 mg/dl) ~ 1 = True, 0 = False\n",
    "- <b>restecg:</b> Resting electrocardiographic results ~ 0 = Normal, 1 = ST-T wave normality, 2 = Left ventricular hypertrophy\n",
    "- <b>thalachh:</b> Maximum heart rate achieved\n",
    "- <b>oldpeak:</b> Previous peak\n",
    "- <b>slp:</b> Slope\n",
    "- <b>caa:</b> Number of major vessels\n",
    "- <b>thall:</b> Thalium Stress Test result ~ (0,3)\n",
    "- <b>exng:</b> Exercise induced angina ~ 1 = Yes, 0 = No\n",
    "- <b>output:</b>  Target variable</p>"
   ]
  },
  {
   "cell_type": "code",
   "execution_count": 91,
   "metadata": {},
   "outputs": [
    {
     "name": "stdout",
     "output_type": "stream",
     "text": [
      "<class 'pandas.core.frame.DataFrame'>\n",
      "RangeIndex: 303 entries, 0 to 302\n",
      "Data columns (total 14 columns):\n",
      " #   Column    Non-Null Count  Dtype  \n",
      "---  ------    --------------  -----  \n",
      " 0   age       303 non-null    int64  \n",
      " 1   sex       303 non-null    int64  \n",
      " 2   cp        303 non-null    int64  \n",
      " 3   trtbps    303 non-null    int64  \n",
      " 4   chol      303 non-null    int64  \n",
      " 5   fbs       303 non-null    int64  \n",
      " 6   restecg   303 non-null    int64  \n",
      " 7   thalachh  303 non-null    int64  \n",
      " 8   exng      303 non-null    int64  \n",
      " 9   oldpeak   303 non-null    float64\n",
      " 10  slp       303 non-null    int64  \n",
      " 11  caa       303 non-null    int64  \n",
      " 12  thall     303 non-null    int64  \n",
      " 13  output    303 non-null    int64  \n",
      "dtypes: float64(1), int64(13)\n",
      "memory usage: 33.3 KB\n"
     ]
    }
   ],
   "source": [
    "# Archivo Heart Attack.csv - ¿Cuales son los factores que pueden incrementar o disminuir la probabilidad de un ataque al corazón?\n",
    "\n",
    "import pandas as pd\n",
    "\n",
    "df = pd.read_csv('Heart Attack.csv')\n",
    "df.info()\n"
   ]
  },
  {
   "cell_type": "code",
   "execution_count": 92,
   "metadata": {},
   "outputs": [
    {
     "data": {
      "text/plain": [
       "age         0\n",
       "sex         0\n",
       "cp          0\n",
       "trtbps      0\n",
       "chol        0\n",
       "fbs         0\n",
       "restecg     0\n",
       "thalachh    0\n",
       "exng        0\n",
       "oldpeak     0\n",
       "slp         0\n",
       "caa         0\n",
       "thall       0\n",
       "output      0\n",
       "dtype: int64"
      ]
     },
     "execution_count": 92,
     "metadata": {},
     "output_type": "execute_result"
    }
   ],
   "source": [
    "# There are not null values in the dataset\n",
    "df.isna().sum()"
   ]
  },
  {
   "cell_type": "code",
   "execution_count": 93,
   "metadata": {},
   "outputs": [
    {
     "name": "stdout",
     "output_type": "stream",
     "text": [
      "   sex_1  cp_1  cp_2  cp_3  fbs_1  restecg_1  restecg_2  slp_1  slp_2  caa_1  \\\n",
      "0    1.0   0.0   0.0   1.0    1.0        0.0        0.0    0.0    0.0    0.0   \n",
      "1    1.0   0.0   1.0   0.0    0.0        1.0        0.0    0.0    0.0    0.0   \n",
      "2    0.0   1.0   0.0   0.0    0.0        0.0        0.0    0.0    1.0    0.0   \n",
      "3    1.0   1.0   0.0   0.0    0.0        1.0        0.0    0.0    1.0    0.0   \n",
      "4    0.0   0.0   0.0   0.0    0.0        1.0        0.0    0.0    1.0    0.0   \n",
      "\n",
      "   ...  thall_1  thall_2  thall_3  exng_1  bucket_age  bucket_trtbps  \\\n",
      "0  ...      1.0      0.0      0.0     0.0         3.0            2.0   \n",
      "1  ...      0.0      1.0      0.0     0.0         0.0            1.0   \n",
      "2  ...      0.0      1.0      0.0     0.0         1.0            1.0   \n",
      "3  ...      0.0      1.0      0.0     0.0         2.0            1.0   \n",
      "4  ...      0.0      1.0      0.0     1.0         2.0            1.0   \n",
      "\n",
      "   bucket_chol  bucket_thalachh  bucket_oldpeak  output  \n",
      "0          1.0              3.0             1.0     1.0  \n",
      "1          1.0              4.0             2.0     1.0  \n",
      "2          0.0              3.0             1.0     1.0  \n",
      "3          1.0              4.0             0.0     1.0  \n",
      "4          2.0              3.0             0.0     1.0  \n",
      "\n",
      "[5 rows x 23 columns]\n"
     ]
    }
   ],
   "source": [
    "from sklearn.compose import ColumnTransformer\n",
    "from sklearn.preprocessing import OneHotEncoder, KBinsDiscretizer\n",
    "from sklearn.pipeline import Pipeline\n",
    "\n",
    "def transform_data(df):\n",
    "    # Definir las variables categóricas y numéricas\n",
    "    categorical_vars = ['sex', 'cp', 'fbs', 'restecg', 'slp', 'caa', 'thall', 'exng']\n",
    "    numerical_vars = ['age', 'trtbps', 'chol', 'thalachh', 'oldpeak']\n",
    "\n",
    "    # Crear el transformador de columnas para las variables categóricas\n",
    "    categorical_transformers = ('categorical', OneHotEncoder(drop='first'), categorical_vars)\n",
    "\n",
    "    # Crear el transformador de columnas para las variables numéricas\n",
    "    numerical_transformers = ('numerical', KBinsDiscretizer(n_bins=5, encode='ordinal', strategy='uniform'), numerical_vars)\n",
    "\n",
    "    # Combinar ambos transformadores en un ColumnTransformer\n",
    "    column_transformer = ColumnTransformer(transformers=[categorical_transformers, numerical_transformers], remainder='passthrough')\n",
    "\n",
    "    # Crear el pipeline\n",
    "    pipeline = Pipeline(steps=[\n",
    "        ('preprocessor', column_transformer)\n",
    "    ])\n",
    "\n",
    "    # Ajustar y transformar los datos\n",
    "    df_transformed = pipeline.fit_transform(df)\n",
    "\n",
    "    # Obtener nombres de las columnas transformadas\n",
    "    categorical_feature_names = pipeline.named_steps['preprocessor'].transformers_[0][1].get_feature_names_out(categorical_vars)\n",
    "    numerical_feature_names = [f'bucket_{var}' for var in numerical_vars]\n",
    "    other_feature_names = [col for col in df.columns if col not in categorical_vars + numerical_vars]\n",
    "\n",
    "    # Combinar todos los nombres de las columnas\n",
    "    all_feature_names = list(categorical_feature_names) + numerical_feature_names + other_feature_names\n",
    "\n",
    "    # Convertir el resultado a un DataFrame\n",
    "    df_transformed = pd.DataFrame(df_transformed, columns=all_feature_names)\n",
    "\n",
    "    return df_transformed\n",
    "\n",
    "# Ejemplo de uso\n",
    "df = transform_data(df)"
   ]
  },
  {
   "cell_type": "code",
   "execution_count": 94,
   "metadata": {},
   "outputs": [
    {
     "data": {
      "text/html": [
       "<div>\n",
       "<style scoped>\n",
       "    .dataframe tbody tr th:only-of-type {\n",
       "        vertical-align: middle;\n",
       "    }\n",
       "\n",
       "    .dataframe tbody tr th {\n",
       "        vertical-align: top;\n",
       "    }\n",
       "\n",
       "    .dataframe thead th {\n",
       "        text-align: right;\n",
       "    }\n",
       "</style>\n",
       "<table border=\"1\" class=\"dataframe\">\n",
       "  <thead>\n",
       "    <tr style=\"text-align: right;\">\n",
       "      <th></th>\n",
       "      <th>sex_1</th>\n",
       "      <th>cp_1</th>\n",
       "      <th>cp_2</th>\n",
       "      <th>cp_3</th>\n",
       "      <th>fbs_1</th>\n",
       "      <th>restecg_1</th>\n",
       "      <th>restecg_2</th>\n",
       "      <th>slp_1</th>\n",
       "      <th>slp_2</th>\n",
       "      <th>caa_1</th>\n",
       "      <th>...</th>\n",
       "      <th>thall_1</th>\n",
       "      <th>thall_2</th>\n",
       "      <th>thall_3</th>\n",
       "      <th>exng_1</th>\n",
       "      <th>bucket_age</th>\n",
       "      <th>bucket_trtbps</th>\n",
       "      <th>bucket_chol</th>\n",
       "      <th>bucket_thalachh</th>\n",
       "      <th>bucket_oldpeak</th>\n",
       "      <th>output</th>\n",
       "    </tr>\n",
       "  </thead>\n",
       "  <tbody>\n",
       "    <tr>\n",
       "      <th>0</th>\n",
       "      <td>1.0</td>\n",
       "      <td>0.0</td>\n",
       "      <td>0.0</td>\n",
       "      <td>1.0</td>\n",
       "      <td>1.0</td>\n",
       "      <td>0.0</td>\n",
       "      <td>0.0</td>\n",
       "      <td>0.0</td>\n",
       "      <td>0.0</td>\n",
       "      <td>0.0</td>\n",
       "      <td>...</td>\n",
       "      <td>1.0</td>\n",
       "      <td>0.0</td>\n",
       "      <td>0.0</td>\n",
       "      <td>0.0</td>\n",
       "      <td>3.0</td>\n",
       "      <td>2.0</td>\n",
       "      <td>1.0</td>\n",
       "      <td>3.0</td>\n",
       "      <td>1.0</td>\n",
       "      <td>1.0</td>\n",
       "    </tr>\n",
       "    <tr>\n",
       "      <th>1</th>\n",
       "      <td>1.0</td>\n",
       "      <td>0.0</td>\n",
       "      <td>1.0</td>\n",
       "      <td>0.0</td>\n",
       "      <td>0.0</td>\n",
       "      <td>1.0</td>\n",
       "      <td>0.0</td>\n",
       "      <td>0.0</td>\n",
       "      <td>0.0</td>\n",
       "      <td>0.0</td>\n",
       "      <td>...</td>\n",
       "      <td>0.0</td>\n",
       "      <td>1.0</td>\n",
       "      <td>0.0</td>\n",
       "      <td>0.0</td>\n",
       "      <td>0.0</td>\n",
       "      <td>1.0</td>\n",
       "      <td>1.0</td>\n",
       "      <td>4.0</td>\n",
       "      <td>2.0</td>\n",
       "      <td>1.0</td>\n",
       "    </tr>\n",
       "    <tr>\n",
       "      <th>2</th>\n",
       "      <td>0.0</td>\n",
       "      <td>1.0</td>\n",
       "      <td>0.0</td>\n",
       "      <td>0.0</td>\n",
       "      <td>0.0</td>\n",
       "      <td>0.0</td>\n",
       "      <td>0.0</td>\n",
       "      <td>0.0</td>\n",
       "      <td>1.0</td>\n",
       "      <td>0.0</td>\n",
       "      <td>...</td>\n",
       "      <td>0.0</td>\n",
       "      <td>1.0</td>\n",
       "      <td>0.0</td>\n",
       "      <td>0.0</td>\n",
       "      <td>1.0</td>\n",
       "      <td>1.0</td>\n",
       "      <td>0.0</td>\n",
       "      <td>3.0</td>\n",
       "      <td>1.0</td>\n",
       "      <td>1.0</td>\n",
       "    </tr>\n",
       "    <tr>\n",
       "      <th>3</th>\n",
       "      <td>1.0</td>\n",
       "      <td>1.0</td>\n",
       "      <td>0.0</td>\n",
       "      <td>0.0</td>\n",
       "      <td>0.0</td>\n",
       "      <td>1.0</td>\n",
       "      <td>0.0</td>\n",
       "      <td>0.0</td>\n",
       "      <td>1.0</td>\n",
       "      <td>0.0</td>\n",
       "      <td>...</td>\n",
       "      <td>0.0</td>\n",
       "      <td>1.0</td>\n",
       "      <td>0.0</td>\n",
       "      <td>0.0</td>\n",
       "      <td>2.0</td>\n",
       "      <td>1.0</td>\n",
       "      <td>1.0</td>\n",
       "      <td>4.0</td>\n",
       "      <td>0.0</td>\n",
       "      <td>1.0</td>\n",
       "    </tr>\n",
       "    <tr>\n",
       "      <th>4</th>\n",
       "      <td>0.0</td>\n",
       "      <td>0.0</td>\n",
       "      <td>0.0</td>\n",
       "      <td>0.0</td>\n",
       "      <td>0.0</td>\n",
       "      <td>1.0</td>\n",
       "      <td>0.0</td>\n",
       "      <td>0.0</td>\n",
       "      <td>1.0</td>\n",
       "      <td>0.0</td>\n",
       "      <td>...</td>\n",
       "      <td>0.0</td>\n",
       "      <td>1.0</td>\n",
       "      <td>0.0</td>\n",
       "      <td>1.0</td>\n",
       "      <td>2.0</td>\n",
       "      <td>1.0</td>\n",
       "      <td>2.0</td>\n",
       "      <td>3.0</td>\n",
       "      <td>0.0</td>\n",
       "      <td>1.0</td>\n",
       "    </tr>\n",
       "  </tbody>\n",
       "</table>\n",
       "<p>5 rows × 23 columns</p>\n",
       "</div>"
      ],
      "text/plain": [
       "   sex_1  cp_1  cp_2  cp_3  fbs_1  restecg_1  restecg_2  slp_1  slp_2  caa_1  \\\n",
       "0    1.0   0.0   0.0   1.0    1.0        0.0        0.0    0.0    0.0    0.0   \n",
       "1    1.0   0.0   1.0   0.0    0.0        1.0        0.0    0.0    0.0    0.0   \n",
       "2    0.0   1.0   0.0   0.0    0.0        0.0        0.0    0.0    1.0    0.0   \n",
       "3    1.0   1.0   0.0   0.0    0.0        1.0        0.0    0.0    1.0    0.0   \n",
       "4    0.0   0.0   0.0   0.0    0.0        1.0        0.0    0.0    1.0    0.0   \n",
       "\n",
       "   ...  thall_1  thall_2  thall_3  exng_1  bucket_age  bucket_trtbps  \\\n",
       "0  ...      1.0      0.0      0.0     0.0         3.0            2.0   \n",
       "1  ...      0.0      1.0      0.0     0.0         0.0            1.0   \n",
       "2  ...      0.0      1.0      0.0     0.0         1.0            1.0   \n",
       "3  ...      0.0      1.0      0.0     0.0         2.0            1.0   \n",
       "4  ...      0.0      1.0      0.0     1.0         2.0            1.0   \n",
       "\n",
       "   bucket_chol  bucket_thalachh  bucket_oldpeak  output  \n",
       "0          1.0              3.0             1.0     1.0  \n",
       "1          1.0              4.0             2.0     1.0  \n",
       "2          0.0              3.0             1.0     1.0  \n",
       "3          1.0              4.0             0.0     1.0  \n",
       "4          2.0              3.0             0.0     1.0  \n",
       "\n",
       "[5 rows x 23 columns]"
      ]
     },
     "execution_count": 94,
     "metadata": {},
     "output_type": "execute_result"
    }
   ],
   "source": [
    "df.head()"
   ]
  },
  {
   "cell_type": "code",
   "execution_count": 95,
   "metadata": {},
   "outputs": [
    {
     "data": {
      "text/plain": [
       "output\n",
       "1.0    165\n",
       "0.0    138\n",
       "Name: count, dtype: int64"
      ]
     },
     "execution_count": 95,
     "metadata": {},
     "output_type": "execute_result"
    }
   ],
   "source": [
    "df['output'].value_counts()"
   ]
  },
  {
   "cell_type": "code",
   "execution_count": 96,
   "metadata": {},
   "outputs": [],
   "source": [
    "# Compute the correlation matrix\n",
    "correlation_matrix = df.corr()"
   ]
  },
  {
   "cell_type": "code",
   "execution_count": 97,
   "metadata": {},
   "outputs": [
    {
     "name": "stdout",
     "output_type": "stream",
     "text": [
      "output             1.000000\n",
      "thall_2            0.527334\n",
      "slp_2              0.394066\n",
      "bucket_thalachh    0.389400\n",
      "cp_2               0.316742\n",
      "cp_1               0.245879\n",
      "restecg_1          0.175322\n",
      "cp_3               0.086957\n",
      "caa_4              0.066441\n",
      "fbs_1             -0.028046\n",
      "bucket_chol       -0.051922\n",
      "restecg_2         -0.068410\n",
      "thall_1           -0.106589\n",
      "bucket_trtbps     -0.122897\n",
      "caa_3             -0.210615\n",
      "bucket_age        -0.221598\n",
      "caa_1             -0.232412\n",
      "caa_2             -0.273998\n",
      "sex_1             -0.280937\n",
      "slp_1             -0.362053\n",
      "bucket_oldpeak    -0.383148\n",
      "exng_1            -0.436757\n",
      "thall_3           -0.486112\n",
      "Name: output, dtype: float64\n"
     ]
    }
   ],
   "source": [
    "\n",
    "# Extract the correlation values for the 'output' variable\n",
    "output_correlation = correlation_matrix['output']\n",
    "\n",
    "# Sort the correlation values in descending order\n",
    "sorted_correlation = output_correlation.sort_values(ascending=False)\n",
    "\n",
    "# Display the top correlated variables\n",
    "print(sorted_correlation)"
   ]
  },
  {
   "cell_type": "raw",
   "metadata": {
    "vscode": {
     "languageId": "raw"
    }
   },
   "source": [
    "# Hacer EDA (Exploratory Data Analysis) suele ser un tanto laborioso dependiendo del detalle al que se quiera llevar, pero prueba la siguiente librería, puede que a partir de ahora, tu EDA sea más fácil ;)\n",
    "!pip install dataprep\n",
    "from dataprep.eda import create_report\n",
    "\n",
    "create_report(df)"
   ]
  },
  {
   "cell_type": "markdown",
   "metadata": {},
   "source": [
    "Fue imposible instalar la librería anterior debido a este error:\n",
    "```\n",
    "Failed to build levenshtein regex\n",
    "ERROR: ERROR: Failed to build installable wheels for some pyproject.toml based projects (levenshtein, regex)\n",
    "```"
   ]
  },
  {
   "cell_type": "markdown",
   "metadata": {},
   "source": [
    "## k-Nearest Neighbors\n",
    "<p>Habiendo hecho un Análisis Exploratorio de los factores que pueden o no tener más posibilidad de un ataque al corazón, es hora de crear tu primer clasificador!!! usando el algoritmo de k-NN.\n",
    "    \n",
    "<b>Nota</b>: es importante garantizar que los datos esten en el formato requerido por la librería de <code>scikit-learn</code>. La información debe estar en una matriz en la que cada columna sea una variable y cada fila una observación diferente, en este caso, el registro de análisis clinico por paciente. Y la variable objetivo debe ser una sola columna con el mismo número de observaciones.</p>"
   ]
  },
  {
   "cell_type": "code",
   "execution_count": 98,
   "metadata": {},
   "outputs": [
    {
     "data": {
      "text/html": [
       "<style>#sk-container-id-5 {color: black;}#sk-container-id-5 pre{padding: 0;}#sk-container-id-5 div.sk-toggleable {background-color: white;}#sk-container-id-5 label.sk-toggleable__label {cursor: pointer;display: block;width: 100%;margin-bottom: 0;padding: 0.3em;box-sizing: border-box;text-align: center;}#sk-container-id-5 label.sk-toggleable__label-arrow:before {content: \"▸\";float: left;margin-right: 0.25em;color: #696969;}#sk-container-id-5 label.sk-toggleable__label-arrow:hover:before {color: black;}#sk-container-id-5 div.sk-estimator:hover label.sk-toggleable__label-arrow:before {color: black;}#sk-container-id-5 div.sk-toggleable__content {max-height: 0;max-width: 0;overflow: hidden;text-align: left;background-color: #f0f8ff;}#sk-container-id-5 div.sk-toggleable__content pre {margin: 0.2em;color: black;border-radius: 0.25em;background-color: #f0f8ff;}#sk-container-id-5 input.sk-toggleable__control:checked~div.sk-toggleable__content {max-height: 200px;max-width: 100%;overflow: auto;}#sk-container-id-5 input.sk-toggleable__control:checked~label.sk-toggleable__label-arrow:before {content: \"▾\";}#sk-container-id-5 div.sk-estimator input.sk-toggleable__control:checked~label.sk-toggleable__label {background-color: #d4ebff;}#sk-container-id-5 div.sk-label input.sk-toggleable__control:checked~label.sk-toggleable__label {background-color: #d4ebff;}#sk-container-id-5 input.sk-hidden--visually {border: 0;clip: rect(1px 1px 1px 1px);clip: rect(1px, 1px, 1px, 1px);height: 1px;margin: -1px;overflow: hidden;padding: 0;position: absolute;width: 1px;}#sk-container-id-5 div.sk-estimator {font-family: monospace;background-color: #f0f8ff;border: 1px dotted black;border-radius: 0.25em;box-sizing: border-box;margin-bottom: 0.5em;}#sk-container-id-5 div.sk-estimator:hover {background-color: #d4ebff;}#sk-container-id-5 div.sk-parallel-item::after {content: \"\";width: 100%;border-bottom: 1px solid gray;flex-grow: 1;}#sk-container-id-5 div.sk-label:hover label.sk-toggleable__label {background-color: #d4ebff;}#sk-container-id-5 div.sk-serial::before {content: \"\";position: absolute;border-left: 1px solid gray;box-sizing: border-box;top: 0;bottom: 0;left: 50%;z-index: 0;}#sk-container-id-5 div.sk-serial {display: flex;flex-direction: column;align-items: center;background-color: white;padding-right: 0.2em;padding-left: 0.2em;position: relative;}#sk-container-id-5 div.sk-item {position: relative;z-index: 1;}#sk-container-id-5 div.sk-parallel {display: flex;align-items: stretch;justify-content: center;background-color: white;position: relative;}#sk-container-id-5 div.sk-item::before, #sk-container-id-5 div.sk-parallel-item::before {content: \"\";position: absolute;border-left: 1px solid gray;box-sizing: border-box;top: 0;bottom: 0;left: 50%;z-index: -1;}#sk-container-id-5 div.sk-parallel-item {display: flex;flex-direction: column;z-index: 1;position: relative;background-color: white;}#sk-container-id-5 div.sk-parallel-item:first-child::after {align-self: flex-end;width: 50%;}#sk-container-id-5 div.sk-parallel-item:last-child::after {align-self: flex-start;width: 50%;}#sk-container-id-5 div.sk-parallel-item:only-child::after {width: 0;}#sk-container-id-5 div.sk-dashed-wrapped {border: 1px dashed gray;margin: 0 0.4em 0.5em 0.4em;box-sizing: border-box;padding-bottom: 0.4em;background-color: white;}#sk-container-id-5 div.sk-label label {font-family: monospace;font-weight: bold;display: inline-block;line-height: 1.2em;}#sk-container-id-5 div.sk-label-container {text-align: center;}#sk-container-id-5 div.sk-container {/* jupyter's `normalize.less` sets `[hidden] { display: none; }` but bootstrap.min.css set `[hidden] { display: none !important; }` so we also need the `!important` here to be able to override the default hidden behavior on the sphinx rendered scikit-learn.org. See: https://github.com/scikit-learn/scikit-learn/issues/21755 */display: inline-block !important;position: relative;}#sk-container-id-5 div.sk-text-repr-fallback {display: none;}</style><div id=\"sk-container-id-5\" class=\"sk-top-container\"><div class=\"sk-text-repr-fallback\"><pre>KNeighborsClassifier(n_neighbors=6)</pre><b>In a Jupyter environment, please rerun this cell to show the HTML representation or trust the notebook. <br />On GitHub, the HTML representation is unable to render, please try loading this page with nbviewer.org.</b></div><div class=\"sk-container\" hidden><div class=\"sk-item\"><div class=\"sk-estimator sk-toggleable\"><input class=\"sk-toggleable__control sk-hidden--visually\" id=\"sk-estimator-id-5\" type=\"checkbox\" checked><label for=\"sk-estimator-id-5\" class=\"sk-toggleable__label sk-toggleable__label-arrow\">KNeighborsClassifier</label><div class=\"sk-toggleable__content\"><pre>KNeighborsClassifier(n_neighbors=6)</pre></div></div></div></div></div>"
      ],
      "text/plain": [
       "KNeighborsClassifier(n_neighbors=6)"
      ]
     },
     "execution_count": 98,
     "metadata": {},
     "output_type": "execute_result"
    }
   ],
   "source": [
    "# Importa la librería para un clasificador k-NN de sklearn\n",
    "from sklearn.neighbors import KNeighborsClassifier\n",
    "\n",
    "# Crea dos arreglos \"X\", \"y\" que contengan los valores de las variables independientes y la variable objetivo\n",
    "X = df.drop('output', axis=1)\n",
    "y = df['output']\n",
    "\n",
    "# Crea un clasificador k-NN con 6 vecinos\n",
    "model = KNeighborsClassifier(n_neighbors=6)\n",
    "\n",
    "# Ajusta el clasificador a las variables\n",
    "model.fit(X, y)"
   ]
  },
  {
   "cell_type": "markdown",
   "metadata": {},
   "source": [
    "## Predicción\n",
    "<p>Una vez que entrenamos al clasificador k-NN, ahora lo podemos usar para predecir un nuevo registro. Para este caso,  no hay datos sin clasificar disponibles ya que todos se usaron para entrenar al modelo. Para poder calcular una predicción, vamos a usar el método <code>.predict()</code> pero, para esto vamos a simular una observación completamente nueva</p>"
   ]
  },
  {
   "cell_type": "code",
   "execution_count": 99,
   "metadata": {},
   "outputs": [
    {
     "name": "stdout",
     "output_type": "stream",
     "text": [
      "Prediction: [1.]\n"
     ]
    }
   ],
   "source": [
    "# Crea un arreglo simulando una observación\n",
    "X_new = X.median().values.reshape(1, -1)\n",
    "\n",
    "# Predice la clasificación para el arreglo que creaste\n",
    "y_new_pred = model.predict(X_new)\n",
    "print(\"Prediction: {}\".format(y_new_pred))"
   ]
  },
  {
   "cell_type": "markdown",
   "metadata": {},
   "source": [
    "## Reconocimiento de digitos\n",
    "<p>Hasta ahora, solo hemos realizado una clasificación binaria, ya que la variable objetivo tenía dos resultados posibles. En los siguientes ejercicios, trabajarás con el conjunto de datos de reconocimiento de dígitos MNIST, que tiene 10 clases, ¡los dígitos del 0 al 9! Una versión reducida del conjunto de datos <a href=\"http://yann.lecun.com/exdb/mnist/\">MNIST</a> es uno de los conjuntos de datos incluidos en <code>scikit-learn</code>\n",
    "\n",
    "Cada muestra de este conjunto de datos es una imagen de 28x28 que representa un dígito escrito a mano. Cada píxel está representado por un número entero en el rango de 1 a 784, lo que indica niveles variables de negro.\n",
    "\n",
    "<p><img src=\"https://miro.medium.com/max/1400/1*hVdoiW35FXUE-fZ0HI30Tw.jpeg\" width=\"350\"></p>"
   ]
  },
  {
   "cell_type": "code",
   "execution_count": 100,
   "metadata": {},
   "outputs": [],
   "source": [
    "# Importa el archivo de MNIST\n",
    "digits = pd.read_csv('mnist.csv')\n"
   ]
  },
  {
   "cell_type": "code",
   "execution_count": 101,
   "metadata": {},
   "outputs": [
    {
     "data": {
      "text/plain": [
       "Index(['label', 'pixel0', 'pixel1', 'pixel2', 'pixel3', 'pixel4', 'pixel5',\n",
       "       'pixel6', 'pixel7', 'pixel8',\n",
       "       ...\n",
       "       'pixel774', 'pixel775', 'pixel776', 'pixel777', 'pixel778', 'pixel779',\n",
       "       'pixel780', 'pixel781', 'pixel782', 'pixel783'],\n",
       "      dtype='object', length=785)"
      ]
     },
     "execution_count": 101,
     "metadata": {},
     "output_type": "execute_result"
    }
   ],
   "source": [
    "\n",
    "digits.columns\n"
   ]
  },
  {
   "cell_type": "code",
   "execution_count": 102,
   "metadata": {},
   "outputs": [],
   "source": [
    "# Crea una variable 'cols' para hacer referencia a todas las columnas que contienen la palabra 'pixel'\n",
    "cols = [col for col in digits.columns if 'pixel' in col]"
   ]
  },
  {
   "cell_type": "code",
   "execution_count": 103,
   "metadata": {},
   "outputs": [
    {
     "name": "stdout",
     "output_type": "stream",
     "text": [
      "El número es: 1.0\n"
     ]
    }
   ],
   "source": [
    "# Vamos a imprimir un digito\n",
    "i = 0\n",
    "print(\"El número es:\", df.loc[i, 'output'])\t\n"
   ]
  },
  {
   "cell_type": "code",
   "execution_count": 104,
   "metadata": {},
   "outputs": [
    {
     "data": {
      "image/png": "[encoded data removed]",
      "text/plain": [
       "<Figure size 640x480 with 1 Axes>"
      ]
     },
     "metadata": {},
     "output_type": "display_data"
    }
   ],
   "source": [
    "import matplotlib.pyplot as plt\n",
    "\n",
    "# Mostrar la imagen\n",
    "plt.imshow(digits.loc[i, cols].values.reshape((28, 28)).astype(float), cmap=plt.cm.gray_r, interpolation='nearest')\n",
    "plt.show()"
   ]
  },
  {
   "cell_type": "markdown",
   "metadata": {},
   "source": [
    "## Train/Test\n",
    "<p>Una de las principales diferencias entre la Estadística Clasica y el <i>Machine Learning</i> es la división del conjunto de datos en conjuntos de entrenamiento y prueba, con el objetivo de medir y cuantificar la precisión y el nivel de error en los datos que de alguna manera el modelo <i>\"No ha visto\"</i>. A continuación crearemos nuestros conjuntos de entrenamiento y prueba con el método <code>train_test_split</code> y mediremos cual es el nivel de precisión de nuestro modelo. El objetivo es <b>predecir cual es el digito dada una imagen</b>!!!. Para lo cual entrenaremos un clasificador <i>k-NN</i> a los datos de entrenamiento y luego calcularemos su precisión usando el método <code>accuracy_score()</code> en los datos de prueba ¿Como crees que en un modelo de Clasificación se calcule su precisión?. Parece bastante dificil, pero no lo es ;)</p>"
   ]
  },
  {
   "cell_type": "code",
   "execution_count": 105,
   "metadata": {},
   "outputs": [],
   "source": [
    "# Importa la librería para entrenamiento y prueba de datos y la librería para calcular la precisión\n",
    "from sklearn.model_selection import train_test_split"
   ]
  },
  {
   "cell_type": "code",
   "execution_count": 106,
   "metadata": {},
   "outputs": [],
   "source": [
    "# Crea los arreglos para las variables independientes y la variable objetivo\n",
    "from sklearn.metrics import accuracy_score\n",
    "\n",
    "X = digits.drop('label', axis=1)\n",
    "y = digits['label']\n",
    "\n",
    "# Divide los arreglos anteriores en conjuntos de training y test en una proporcion del 70/30\n",
    "X_train, X_test, y_train, y_test = train_test_split(X, y, test_size = 0.20, random_state=2024)\n",
    "\n",
    "# Convertir X_train y X_test a arrays de NumPy y asegurarse de que sean C-contiguos\n",
    "X_train = np.ascontiguousarray(X_train)\n",
    "X_test = np.ascontiguousarray(X_test)\n",
    "\n",
    "\n",
    "# Instancia un clasificador k-NN con 14 vecinos\n",
    "knn = KNeighborsClassifier(n_neighbors=14)\n",
    "\n",
    "# Ajusta (Entrenamiento) el clasificador en el conjunto de entrenamiento\n",
    "knn.fit(X_train, y_train)\n",
    "\n",
    "# Calcular las predicciones sobre el conjunto de prueba\n",
    "y_pred = knn.predict(X_test)\n"
   ]
  },
  {
   "cell_type": "code",
   "execution_count": 107,
   "metadata": {},
   "outputs": [
    {
     "data": {
      "text/plain": [
       "(8400,)"
      ]
     },
     "execution_count": 107,
     "metadata": {},
     "output_type": "execute_result"
    }
   ],
   "source": [
    "y_test.shape"
   ]
  },
  {
   "cell_type": "code",
   "execution_count": 108,
   "metadata": {},
   "outputs": [
    {
     "name": "stdout",
     "output_type": "stream",
     "text": [
      "0.9570238095238095\n"
     ]
    }
   ],
   "source": [
    "\n",
    "# Verificar la precisión del modelo \n",
    "print(accuracy_score(y_test, y_pred))"
   ]
  },
  {
   "cell_type": "markdown",
   "metadata": {},
   "source": [
    "## Reconocimiento de tu imagen\n",
    "<p>Con todo lo anterior, podemos hacer el reconocimiento de cualquier digito que dibujes, ¿Estás list@?</p>"
   ]
  },
  {
   "cell_type": "code",
   "execution_count": 109,
   "metadata": {},
   "outputs": [
    {
     "data": {
      "text/plain": [
       "<matplotlib.image.AxesImage at 0x1decf01e750>"
      ]
     },
     "execution_count": 109,
     "metadata": {},
     "output_type": "execute_result"
    },
    {
     "data": {
      "image/png": "[encoded data removed]",
      "text/plain": [
       "<Figure size 640x480 with 1 Axes>"
      ]
     },
     "metadata": {},
     "output_type": "display_data"
    }
   ],
   "source": [
    "# Vamos a visualizar la imagen de un número que vas a crear en tu computador con la aplicación de paint, ésta imagen debe de tener un fondo negro y ser pintada en blanco, encontrarás un ejemplo en el repositorio\n",
    "path = 'sample_image-300x298.png'\n",
    "image = plt.imread(path) # Coloca aquí la ruta de la imagen que hayas creado en formato jpg o png\n",
    "plt.imshow(image)"
   ]
  },
  {
   "cell_type": "code",
   "execution_count": 110,
   "metadata": {},
   "outputs": [],
   "source": [
    "# Con esta libreria transformaremos la imagen creada a un formato de 28x28 pixeles\n",
    "from PIL import Image\n",
    "import numpy as np \n",
    "pil = Image.open(path)\n",
    "image_resize = pil.resize((28, 28))\n",
    "\n",
    "# Vamos transformar la nueva imagen en un array donde se almacenara la información de los pixeles\n",
    "pixels = np.asarray(image_resize)"
   ]
  },
  {
   "cell_type": "code",
   "execution_count": 111,
   "metadata": {},
   "outputs": [],
   "source": [
    "# Necesitamos hacer algunas configuraciones a la imagen debido al formato de datos que esta alimentando al modelo y a la configuración de sklearn\n",
    "arr = pixels.transpose(2, 0, 1).reshape(-1, pixels.shape[1])[0:28]\n",
    "\n",
    "image_final = arr.ravel().reshape(1, -1)"
   ]
  },
  {
   "cell_type": "code",
   "execution_count": 112,
   "metadata": {},
   "outputs": [
    {
     "data": {
      "text/plain": [
       "array([7], dtype=int64)"
      ]
     },
     "execution_count": 112,
     "metadata": {},
     "output_type": "execute_result"
    }
   ],
   "source": [
    "# Calcula la predicción del modelo con el número que creaste, ¿Fue la clasificación correcta? :O\n",
    "prediction = knn.predict(image_final)\n",
    "prediction \n"
   ]
  },
  {
   "cell_type": "code",
   "execution_count": 113,
   "metadata": {},
   "outputs": [
    {
     "name": "stdout",
     "output_type": "stream",
     "text": [
      "El número es: [7]\n"
     ]
    },
    {
     "data": {
      "text/plain": [
       "<matplotlib.image.AxesImage at 0x1de8ca72390>"
      ]
     },
     "execution_count": 113,
     "metadata": {},
     "output_type": "execute_result"
    },
    {
     "data": {
      "image/png": "[encoded data removed]",
      "text/plain": [
       "<Figure size 640x480 with 1 Axes>"
      ]
     },
     "metadata": {},
     "output_type": "display_data"
    }
   ],
   "source": [
    "print(\"El número es:\", prediction)\n",
    "plt.imshow(arr, cmap=plt.cm.gray_r, interpolation='nearest')"
   ]
  },
  {
   "cell_type": "markdown",
   "metadata": {},
   "source": [
    "## Overfit and Underfit\n",
    "<p>¿Cual es mi numero ideal para elegir el parametro <i>k</i>? Vamos a calcular los valores de precisión para los conjuntos e entrenamiento y prueba para una rango de valores k. Al observar cómo difieren estos valores podremos observar cual es el mejor parametro sin caer en un <i>Overfit</i> o un <i>Underfit</i>.</p>"
   ]
  },
  {
   "cell_type": "code",
   "execution_count": 114,
   "metadata": {},
   "outputs": [
    {
     "data": {
      "image/png": "[encoded data removed]",
      "text/plain": [
       "<Figure size 640x480 with 1 Axes>"
      ]
     },
     "metadata": {},
     "output_type": "display_data"
    }
   ],
   "source": [
    "# Coniguración de arreglos iniciales\n",
    "neighbors = np.arange(1, 9)\n",
    "train_accuracy = np.empty(len(neighbors))\n",
    "test_accuracy = np.empty(len(neighbors))\n",
    "\n",
    "# Loop para diferentes valores de k\n",
    "for i, k in enumerate(neighbors):\n",
    "    # Clasificador k-NN para el parametro k\n",
    "    knn = KNeighborsClassifier(n_neighbors=k)\n",
    "\n",
    "    # Ajuste del clasificador al dataset de entrenamiento\n",
    "    knn.fit(X_train, y_train)\n",
    "    \n",
    "    # Calculo de precision sobre el dataset de entrenamiento\n",
    "    train_accuracy[i] = knn.score(X_train, y_train)\n",
    "\n",
    "    # Calculo de precision sobre el dataset de prueba\n",
    "    test_accuracy[i] = knn.score(X_test, y_test)\n",
    "\n",
    "# Grafico para encontrar un valor optimo de k\n",
    "plt.plot(neighbors, test_accuracy, label = 'Testing Accuracy')\n",
    "plt.plot(neighbors, train_accuracy, label = 'Training Accuracy')\n",
    "plt.title('k-NN: by Number of Neighbors')\n",
    "plt.xlabel('Number of Neighbors')\n",
    "plt.ylabel('Accuracy')\n",
    "plt.legend()\n",
    "plt.show()"
   ]
  },
  {
   "cell_type": "markdown",
   "metadata": {},
   "source": [
    "## Regresión Logística\n",
    "<p>Haz la predicción de tu imagen, pero esta vez por medio de una Regresión Logística, ¿Cuál de los dos modelos te da mejores resultados?</p>"
   ]
  },
  {
   "cell_type": "code",
   "execution_count": 117,
   "metadata": {},
   "outputs": [
    {
     "name": "stdout",
     "output_type": "stream",
     "text": [
      "Best KNN parameters: {'metric': 'manhattan', 'n_neighbors': 8, 'weights': 'distance'}\n",
      "Best KNN accuracy: 0.8224489795918366\n",
      "Best Logistic Regression parameters: {'C': 10, 'max_iter': 100, 'solver': 'liblinear'}\n",
      "Best Logistic Regression accuracy: 0.8302721088435374\n",
      "Test accuracy for KNN: 0.8524590163934426\n",
      "Test accuracy for Logistic Regression: 0.8688524590163934\n"
     ]
    }
   ],
   "source": [
    "from sklearn.model_selection import GridSearchCV, train_test_split\n",
    "from sklearn.neighbors import KNeighborsClassifier\n",
    "from sklearn.linear_model import LogisticRegression\n",
    "from sklearn.metrics import accuracy_score\n",
    "import warnings\n",
    "warnings.filterwarnings('ignore')\n",
    "\n",
    "# Split the data into training and testing sets\n",
    "X = df.drop('output', axis=1)\n",
    "y = df['output']\n",
    "X_train, X_test, y_train, y_test = train_test_split(X, y, test_size=0.2, random_state=42)\n",
    "\n",
    "# Define the parameter grid for KNN and Logistic Regression\n",
    "param_grid = {\n",
    "    'knn': {\n",
    "        'n_neighbors': range(1, 15),\n",
    "        'weights': ['uniform', 'distance'],\n",
    "        'metric': ['euclidean', 'manhattan']\n",
    "    },\n",
    "    'logreg': {\n",
    "        'C': [0.1, 1, 10, 100],\n",
    "        'solver': ['liblinear', 'lbfgs'],\n",
    "        'max_iter': [100, 200, 300]\n",
    "    }\n",
    "}\n",
    "\n",
    "# Create the models\n",
    "knn = KNeighborsClassifier()\n",
    "logreg = LogisticRegression()\n",
    "\n",
    "# Set up GridSearchCV for both models\n",
    "grid_search_knn = GridSearchCV(knn, param_grid['knn'], cv=5, scoring='accuracy')\n",
    "grid_search_logreg = GridSearchCV(logreg, param_grid['logreg'], cv=5, scoring='accuracy')\n",
    "\n",
    "# Fit the models\n",
    "grid_search_knn.fit(X_train, y_train)\n",
    "grid_search_logreg.fit(X_train, y_train)\n",
    "\n",
    "# Evaluate the results\n",
    "best_knn = grid_search_knn.best_estimator_\n",
    "best_logreg = grid_search_logreg.best_estimator_\n",
    "\n",
    "print(\"Best KNN parameters:\", grid_search_knn.best_params_)\n",
    "print(\"Best KNN accuracy:\", grid_search_knn.best_score_)\n",
    "\n",
    "print(\"Best Logistic Regression parameters:\", grid_search_logreg.best_params_)\n",
    "print(\"Best Logistic Regression accuracy:\", grid_search_logreg.best_score_)\n",
    "\n",
    "# Test the best models on the test set\n",
    "y_pred_knn = best_knn.predict(X_test)\n",
    "y_pred_logreg = best_logreg.predict(X_test)\n",
    "\n",
    "print(\"Test accuracy for KNN:\", accuracy_score(y_test, y_pred_knn))\n",
    "print(\"Test accuracy for Logistic Regression:\", accuracy_score(y_test, y_pred_logreg))"
   ]
  },
  {
   "cell_type": "markdown",
   "metadata": {},
   "source": [
    "Al comparar los valores en de la precisión de los modelos, podemos observar que el modelo de Regresión Logística tiene un mejor desempeño que el modelo de k-NN."
   ]
  },
  {
   "cell_type": "markdown",
   "metadata": {},
   "source": []
  }
 ],
 "metadata": {
  "kernelspec": {
   "display_name": "Python 3 (ipykernel)",
   "language": "python",
   "name": "python3"
  },
  "language_info": {
   "codemirror_mode": {
    "name": "ipython",
    "version": 3
   },
   "file_extension": ".py",
   "mimetype": "text/x-python",
   "name": "python",
   "nbconvert_exporter": "python",
   "pygments_lexer": "ipython3",
   "version": "3.11.5"
  }
 },
 "nbformat": 4,
 "nbformat_minor": 4
}
