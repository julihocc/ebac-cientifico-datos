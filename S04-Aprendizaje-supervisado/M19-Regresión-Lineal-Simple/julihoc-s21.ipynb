{
 "cells": [
  {
   "cell_type": "markdown",
   "metadata": {},
   "source": [
    "# Semana 21 \n",
    "\n",
    "Presenta Juliho David Castillo Colmenares       "
   ]
  },
  {
   "cell_type": "markdown",
   "metadata": {},
   "source": [
    "- Considere los valores históricos del Producto Interno Bruto (GDP) para México de acuerdo a los registros del banco mundial."
   ]
  },
  {
   "cell_type": "code",
   "execution_count": 103,
   "metadata": {},
   "outputs": [
    {
     "data": {
      "text/html": [
       "<div>\n",
       "<style scoped>\n",
       "    .dataframe tbody tr th:only-of-type {\n",
       "        vertical-align: middle;\n",
       "    }\n",
       "\n",
       "    .dataframe tbody tr th {\n",
       "        vertical-align: top;\n",
       "    }\n",
       "\n",
       "    .dataframe thead th {\n",
       "        text-align: right;\n",
       "    }\n",
       "</style>\n",
       "<table border=\"1\" class=\"dataframe\">\n",
       "  <thead>\n",
       "    <tr style=\"text-align: right;\">\n",
       "      <th></th>\n",
       "      <th>Country Name</th>\n",
       "      <th>Country Code</th>\n",
       "      <th>Indicator Name</th>\n",
       "      <th>Indicator Code</th>\n",
       "      <th>1960</th>\n",
       "      <th>1961</th>\n",
       "      <th>1962</th>\n",
       "      <th>1963</th>\n",
       "      <th>1964</th>\n",
       "      <th>1965</th>\n",
       "      <th>...</th>\n",
       "      <th>2015</th>\n",
       "      <th>2016</th>\n",
       "      <th>2017</th>\n",
       "      <th>2018</th>\n",
       "      <th>2019</th>\n",
       "      <th>2020</th>\n",
       "      <th>2021</th>\n",
       "      <th>2022</th>\n",
       "      <th>2023</th>\n",
       "      <th>Unnamed: 68</th>\n",
       "    </tr>\n",
       "  </thead>\n",
       "  <tbody>\n",
       "    <tr>\n",
       "      <th>0</th>\n",
       "      <td>Aruba</td>\n",
       "      <td>ABW</td>\n",
       "      <td>GDP (current US$)</td>\n",
       "      <td>NY.GDP.MKTP.CD</td>\n",
       "      <td>NaN</td>\n",
       "      <td>NaN</td>\n",
       "      <td>NaN</td>\n",
       "      <td>NaN</td>\n",
       "      <td>NaN</td>\n",
       "      <td>NaN</td>\n",
       "      <td>...</td>\n",
       "      <td>2.962907e+09</td>\n",
       "      <td>2.983635e+09</td>\n",
       "      <td>3.092429e+09</td>\n",
       "      <td>3.276184e+09</td>\n",
       "      <td>3.395799e+09</td>\n",
       "      <td>2.558906e+09</td>\n",
       "      <td>3.103184e+09</td>\n",
       "      <td>3.544708e+09</td>\n",
       "      <td>NaN</td>\n",
       "      <td>NaN</td>\n",
       "    </tr>\n",
       "    <tr>\n",
       "      <th>1</th>\n",
       "      <td>Africa Eastern and Southern</td>\n",
       "      <td>AFE</td>\n",
       "      <td>GDP (current US$)</td>\n",
       "      <td>NY.GDP.MKTP.CD</td>\n",
       "      <td>1.847810e+10</td>\n",
       "      <td>1.936631e+10</td>\n",
       "      <td>2.050647e+10</td>\n",
       "      <td>2.224273e+10</td>\n",
       "      <td>2.429433e+10</td>\n",
       "      <td>2.661956e+10</td>\n",
       "      <td>...</td>\n",
       "      <td>9.325135e+11</td>\n",
       "      <td>8.900514e+11</td>\n",
       "      <td>1.028394e+12</td>\n",
       "      <td>1.012521e+12</td>\n",
       "      <td>1.006191e+12</td>\n",
       "      <td>9.288802e+11</td>\n",
       "      <td>1.086531e+12</td>\n",
       "      <td>1.185138e+12</td>\n",
       "      <td>NaN</td>\n",
       "      <td>NaN</td>\n",
       "    </tr>\n",
       "    <tr>\n",
       "      <th>2</th>\n",
       "      <td>Afghanistan</td>\n",
       "      <td>AFG</td>\n",
       "      <td>GDP (current US$)</td>\n",
       "      <td>NY.GDP.MKTP.CD</td>\n",
       "      <td>5.377778e+08</td>\n",
       "      <td>5.488889e+08</td>\n",
       "      <td>5.466667e+08</td>\n",
       "      <td>7.511112e+08</td>\n",
       "      <td>8.000000e+08</td>\n",
       "      <td>1.006667e+09</td>\n",
       "      <td>...</td>\n",
       "      <td>1.913422e+10</td>\n",
       "      <td>1.811657e+10</td>\n",
       "      <td>1.875346e+10</td>\n",
       "      <td>1.805322e+10</td>\n",
       "      <td>1.879944e+10</td>\n",
       "      <td>1.995593e+10</td>\n",
       "      <td>1.426650e+10</td>\n",
       "      <td>NaN</td>\n",
       "      <td>NaN</td>\n",
       "      <td>NaN</td>\n",
       "    </tr>\n",
       "    <tr>\n",
       "      <th>3</th>\n",
       "      <td>Africa Western and Central</td>\n",
       "      <td>AFW</td>\n",
       "      <td>GDP (current US$)</td>\n",
       "      <td>NY.GDP.MKTP.CD</td>\n",
       "      <td>1.041165e+10</td>\n",
       "      <td>1.113592e+10</td>\n",
       "      <td>1.195171e+10</td>\n",
       "      <td>1.268581e+10</td>\n",
       "      <td>1.384900e+10</td>\n",
       "      <td>1.487476e+10</td>\n",
       "      <td>...</td>\n",
       "      <td>7.692632e+11</td>\n",
       "      <td>6.921149e+11</td>\n",
       "      <td>6.856303e+11</td>\n",
       "      <td>7.681582e+11</td>\n",
       "      <td>8.234056e+11</td>\n",
       "      <td>7.869624e+11</td>\n",
       "      <td>8.449275e+11</td>\n",
       "      <td>8.753937e+11</td>\n",
       "      <td>NaN</td>\n",
       "      <td>NaN</td>\n",
       "    </tr>\n",
       "    <tr>\n",
       "      <th>4</th>\n",
       "      <td>Angola</td>\n",
       "      <td>AGO</td>\n",
       "      <td>GDP (current US$)</td>\n",
       "      <td>NY.GDP.MKTP.CD</td>\n",
       "      <td>NaN</td>\n",
       "      <td>NaN</td>\n",
       "      <td>NaN</td>\n",
       "      <td>NaN</td>\n",
       "      <td>NaN</td>\n",
       "      <td>NaN</td>\n",
       "      <td>...</td>\n",
       "      <td>9.049642e+10</td>\n",
       "      <td>5.276162e+10</td>\n",
       "      <td>7.369016e+10</td>\n",
       "      <td>7.945069e+10</td>\n",
       "      <td>7.089796e+10</td>\n",
       "      <td>4.850156e+10</td>\n",
       "      <td>6.650513e+10</td>\n",
       "      <td>1.067828e+11</td>\n",
       "      <td>NaN</td>\n",
       "      <td>NaN</td>\n",
       "    </tr>\n",
       "  </tbody>\n",
       "</table>\n",
       "<p>5 rows × 69 columns</p>\n",
       "</div>"
      ],
      "text/plain": [
       "                  Country Name Country Code     Indicator Name  \\\n",
       "0                        Aruba          ABW  GDP (current US$)   \n",
       "1  Africa Eastern and Southern          AFE  GDP (current US$)   \n",
       "2                  Afghanistan          AFG  GDP (current US$)   \n",
       "3   Africa Western and Central          AFW  GDP (current US$)   \n",
       "4                       Angola          AGO  GDP (current US$)   \n",
       "\n",
       "   Indicator Code          1960          1961          1962          1963  \\\n",
       "0  NY.GDP.MKTP.CD           NaN           NaN           NaN           NaN   \n",
       "1  NY.GDP.MKTP.CD  1.847810e+10  1.936631e+10  2.050647e+10  2.224273e+10   \n",
       "2  NY.GDP.MKTP.CD  5.377778e+08  5.488889e+08  5.466667e+08  7.511112e+08   \n",
       "3  NY.GDP.MKTP.CD  1.041165e+10  1.113592e+10  1.195171e+10  1.268581e+10   \n",
       "4  NY.GDP.MKTP.CD           NaN           NaN           NaN           NaN   \n",
       "\n",
       "           1964          1965  ...          2015          2016          2017  \\\n",
       "0           NaN           NaN  ...  2.962907e+09  2.983635e+09  3.092429e+09   \n",
       "1  2.429433e+10  2.661956e+10  ...  9.325135e+11  8.900514e+11  1.028394e+12   \n",
       "2  8.000000e+08  1.006667e+09  ...  1.913422e+10  1.811657e+10  1.875346e+10   \n",
       "3  1.384900e+10  1.487476e+10  ...  7.692632e+11  6.921149e+11  6.856303e+11   \n",
       "4           NaN           NaN  ...  9.049642e+10  5.276162e+10  7.369016e+10   \n",
       "\n",
       "           2018          2019          2020          2021          2022  2023  \\\n",
       "0  3.276184e+09  3.395799e+09  2.558906e+09  3.103184e+09  3.544708e+09   NaN   \n",
       "1  1.012521e+12  1.006191e+12  9.288802e+11  1.086531e+12  1.185138e+12   NaN   \n",
       "2  1.805322e+10  1.879944e+10  1.995593e+10  1.426650e+10           NaN   NaN   \n",
       "3  7.681582e+11  8.234056e+11  7.869624e+11  8.449275e+11  8.753937e+11   NaN   \n",
       "4  7.945069e+10  7.089796e+10  4.850156e+10  6.650513e+10  1.067828e+11   NaN   \n",
       "\n",
       "   Unnamed: 68  \n",
       "0          NaN  \n",
       "1          NaN  \n",
       "2          NaN  \n",
       "3          NaN  \n",
       "4          NaN  \n",
       "\n",
       "[5 rows x 69 columns]"
      ]
     },
     "execution_count": 103,
     "metadata": {},
     "output_type": "execute_result"
    }
   ],
   "source": [
    "import pandas as pd \n",
    "\n",
    "data = pd.read_csv('./data/API_NY.GDP.MKTP.CD_DS2_en_csv_v2_238055.csv', skiprows=4)\n",
    "\n",
    "data.head()"
   ]
  },
  {
   "cell_type": "code",
   "execution_count": 104,
   "metadata": {},
   "outputs": [
    {
     "data": {
      "text/html": [
       "<div>\n",
       "<style scoped>\n",
       "    .dataframe tbody tr th:only-of-type {\n",
       "        vertical-align: middle;\n",
       "    }\n",
       "\n",
       "    .dataframe tbody tr th {\n",
       "        vertical-align: top;\n",
       "    }\n",
       "\n",
       "    .dataframe thead th {\n",
       "        text-align: right;\n",
       "    }\n",
       "</style>\n",
       "<table border=\"1\" class=\"dataframe\">\n",
       "  <thead>\n",
       "    <tr style=\"text-align: right;\">\n",
       "      <th></th>\n",
       "      <th>Country Name</th>\n",
       "      <th>Country Code</th>\n",
       "      <th>Indicator Name</th>\n",
       "      <th>Indicator Code</th>\n",
       "      <th>1960</th>\n",
       "      <th>1961</th>\n",
       "      <th>1962</th>\n",
       "      <th>1963</th>\n",
       "      <th>1964</th>\n",
       "      <th>1965</th>\n",
       "      <th>...</th>\n",
       "      <th>2015</th>\n",
       "      <th>2016</th>\n",
       "      <th>2017</th>\n",
       "      <th>2018</th>\n",
       "      <th>2019</th>\n",
       "      <th>2020</th>\n",
       "      <th>2021</th>\n",
       "      <th>2022</th>\n",
       "      <th>2023</th>\n",
       "      <th>Unnamed: 68</th>\n",
       "    </tr>\n",
       "  </thead>\n",
       "  <tbody>\n",
       "    <tr>\n",
       "      <th>154</th>\n",
       "      <td>Mexico</td>\n",
       "      <td>MEX</td>\n",
       "      <td>GDP (current US$)</td>\n",
       "      <td>NY.GDP.MKTP.CD</td>\n",
       "      <td>1.304000e+10</td>\n",
       "      <td>1.416000e+10</td>\n",
       "      <td>1.520000e+10</td>\n",
       "      <td>1.696000e+10</td>\n",
       "      <td>2.008000e+10</td>\n",
       "      <td>2.184000e+10</td>\n",
       "      <td>...</td>\n",
       "      <td>1.213294e+12</td>\n",
       "      <td>1.112233e+12</td>\n",
       "      <td>1.190721e+12</td>\n",
       "      <td>1.256300e+12</td>\n",
       "      <td>1.305212e+12</td>\n",
       "      <td>1.120741e+12</td>\n",
       "      <td>1.312558e+12</td>\n",
       "      <td>1.465854e+12</td>\n",
       "      <td>NaN</td>\n",
       "      <td>NaN</td>\n",
       "    </tr>\n",
       "  </tbody>\n",
       "</table>\n",
       "<p>1 rows × 69 columns</p>\n",
       "</div>"
      ],
      "text/plain": [
       "    Country Name Country Code     Indicator Name  Indicator Code  \\\n",
       "154       Mexico          MEX  GDP (current US$)  NY.GDP.MKTP.CD   \n",
       "\n",
       "             1960          1961          1962          1963          1964  \\\n",
       "154  1.304000e+10  1.416000e+10  1.520000e+10  1.696000e+10  2.008000e+10   \n",
       "\n",
       "             1965  ...          2015          2016          2017  \\\n",
       "154  2.184000e+10  ...  1.213294e+12  1.112233e+12  1.190721e+12   \n",
       "\n",
       "             2018          2019          2020          2021          2022  \\\n",
       "154  1.256300e+12  1.305212e+12  1.120741e+12  1.312558e+12  1.465854e+12   \n",
       "\n",
       "     2023  Unnamed: 68  \n",
       "154   NaN          NaN  \n",
       "\n",
       "[1 rows x 69 columns]"
      ]
     },
     "execution_count": 104,
     "metadata": {},
     "output_type": "execute_result"
    }
   ],
   "source": [
    "data_mx = data[data['Country Name'] == 'Mexico']\n",
    "data_mx.head()"
   ]
  },
  {
   "cell_type": "code",
   "execution_count": 105,
   "metadata": {},
   "outputs": [
    {
     "data": {
      "text/html": [
       "<div>\n",
       "<style scoped>\n",
       "    .dataframe tbody tr th:only-of-type {\n",
       "        vertical-align: middle;\n",
       "    }\n",
       "\n",
       "    .dataframe tbody tr th {\n",
       "        vertical-align: top;\n",
       "    }\n",
       "\n",
       "    .dataframe thead th {\n",
       "        text-align: right;\n",
       "    }\n",
       "</style>\n",
       "<table border=\"1\" class=\"dataframe\">\n",
       "  <thead>\n",
       "    <tr style=\"text-align: right;\">\n",
       "      <th></th>\n",
       "      <th>GDP</th>\n",
       "    </tr>\n",
       "  </thead>\n",
       "  <tbody>\n",
       "    <tr>\n",
       "      <th>1960-01-01</th>\n",
       "      <td>1.304000e+10</td>\n",
       "    </tr>\n",
       "    <tr>\n",
       "      <th>1961-01-01</th>\n",
       "      <td>1.416000e+10</td>\n",
       "    </tr>\n",
       "    <tr>\n",
       "      <th>1962-01-01</th>\n",
       "      <td>1.520000e+10</td>\n",
       "    </tr>\n",
       "    <tr>\n",
       "      <th>1963-01-01</th>\n",
       "      <td>1.696000e+10</td>\n",
       "    </tr>\n",
       "    <tr>\n",
       "      <th>1964-01-01</th>\n",
       "      <td>2.008000e+10</td>\n",
       "    </tr>\n",
       "  </tbody>\n",
       "</table>\n",
       "</div>"
      ],
      "text/plain": [
       "                     GDP\n",
       "1960-01-01  1.304000e+10\n",
       "1961-01-01  1.416000e+10\n",
       "1962-01-01  1.520000e+10\n",
       "1963-01-01  1.696000e+10\n",
       "1964-01-01  2.008000e+10"
      ]
     },
     "execution_count": 105,
     "metadata": {},
     "output_type": "execute_result"
    }
   ],
   "source": [
    "ts = data_mx.iloc[:, 4:-2].T\n",
    "ts.columns = ['GDP']\n",
    "ts.index = pd.to_datetime(ts.index)\n",
    "ts.head()"
   ]
  },
  {
   "cell_type": "code",
   "execution_count": 106,
   "metadata": {},
   "outputs": [
    {
     "data": {
      "text/plain": [
       "GDP    0\n",
       "dtype: int64"
      ]
     },
     "execution_count": 106,
     "metadata": {},
     "output_type": "execute_result"
    }
   ],
   "source": [
    "# Count nans in the time series\n",
    "ts.isna().sum()\n"
   ]
  },
  {
   "cell_type": "code",
   "execution_count": 107,
   "metadata": {},
   "outputs": [
    {
     "data": {
      "text/plain": [
       "DatetimeIndex(['1960-01-01', '1961-01-01', '1962-01-01', '1963-01-01',\n",
       "               '1964-01-01', '1965-01-01', '1966-01-01', '1967-01-01',\n",
       "               '1968-01-01', '1969-01-01', '1970-01-01', '1971-01-01',\n",
       "               '1972-01-01', '1973-01-01', '1974-01-01', '1975-01-01',\n",
       "               '1976-01-01', '1977-01-01', '1978-01-01', '1979-01-01',\n",
       "               '1980-01-01', '1981-01-01', '1982-01-01', '1983-01-01',\n",
       "               '1984-01-01', '1985-01-01', '1986-01-01', '1987-01-01',\n",
       "               '1988-01-01', '1989-01-01', '1990-01-01', '1991-01-01',\n",
       "               '1992-01-01', '1993-01-01', '1994-01-01', '1995-01-01',\n",
       "               '1996-01-01', '1997-01-01', '1998-01-01', '1999-01-01',\n",
       "               '2000-01-01', '2001-01-01', '2002-01-01', '2003-01-01',\n",
       "               '2004-01-01', '2005-01-01', '2006-01-01', '2007-01-01',\n",
       "               '2008-01-01', '2009-01-01', '2010-01-01', '2011-01-01',\n",
       "               '2012-01-01', '2013-01-01', '2014-01-01', '2015-01-01',\n",
       "               '2016-01-01', '2017-01-01', '2018-01-01', '2019-01-01',\n",
       "               '2020-01-01', '2021-01-01', '2022-01-01'],\n",
       "              dtype='datetime64[ns]', freq='AS-JAN')"
      ]
     },
     "execution_count": 107,
     "metadata": {},
     "output_type": "execute_result"
    }
   ],
   "source": [
    "ts = ts.asfreq('AS')\n",
    "ts.index"
   ]
  },
  {
   "cell_type": "code",
   "execution_count": 108,
   "metadata": {},
   "outputs": [
    {
     "name": "stdout",
     "output_type": "stream",
     "text": [
      "<class 'pandas.core.frame.DataFrame'>\n",
      "DatetimeIndex: 63 entries, 1960-01-01 to 2022-01-01\n",
      "Freq: AS-JAN\n",
      "Data columns (total 1 columns):\n",
      " #   Column  Non-Null Count  Dtype  \n",
      "---  ------  --------------  -----  \n",
      " 0   GDP     63 non-null     float64\n",
      "dtypes: float64(1)\n",
      "memory usage: 1008.0 bytes\n"
     ]
    }
   ],
   "source": [
    "ts.info()"
   ]
  },
  {
   "cell_type": "code",
   "execution_count": 109,
   "metadata": {},
   "outputs": [
    {
     "data": {
      "text/html": [
       "<div>\n",
       "<style scoped>\n",
       "    .dataframe tbody tr th:only-of-type {\n",
       "        vertical-align: middle;\n",
       "    }\n",
       "\n",
       "    .dataframe tbody tr th {\n",
       "        vertical-align: top;\n",
       "    }\n",
       "\n",
       "    .dataframe thead th {\n",
       "        text-align: right;\n",
       "    }\n",
       "</style>\n",
       "<table border=\"1\" class=\"dataframe\">\n",
       "  <thead>\n",
       "    <tr style=\"text-align: right;\">\n",
       "      <th></th>\n",
       "      <th>GDP</th>\n",
       "    </tr>\n",
       "  </thead>\n",
       "  <tbody>\n",
       "    <tr>\n",
       "      <th>count</th>\n",
       "      <td>6.300000e+01</td>\n",
       "    </tr>\n",
       "    <tr>\n",
       "      <th>mean</th>\n",
       "      <td>5.192872e+11</td>\n",
       "    </tr>\n",
       "    <tr>\n",
       "      <th>std</th>\n",
       "      <td>4.844297e+11</td>\n",
       "    </tr>\n",
       "    <tr>\n",
       "      <th>min</th>\n",
       "      <td>1.304000e+10</td>\n",
       "    </tr>\n",
       "    <tr>\n",
       "      <th>25%</th>\n",
       "      <td>8.495601e+10</td>\n",
       "    </tr>\n",
       "    <tr>\n",
       "      <th>50%</th>\n",
       "      <td>3.131397e+11</td>\n",
       "    </tr>\n",
       "    <tr>\n",
       "      <th>75%</th>\n",
       "      <td>9.818512e+11</td>\n",
       "    </tr>\n",
       "    <tr>\n",
       "      <th>max</th>\n",
       "      <td>1.465854e+12</td>\n",
       "    </tr>\n",
       "  </tbody>\n",
       "</table>\n",
       "</div>"
      ],
      "text/plain": [
       "                GDP\n",
       "count  6.300000e+01\n",
       "mean   5.192872e+11\n",
       "std    4.844297e+11\n",
       "min    1.304000e+10\n",
       "25%    8.495601e+10\n",
       "50%    3.131397e+11\n",
       "75%    9.818512e+11\n",
       "max    1.465854e+12"
      ]
     },
     "execution_count": 109,
     "metadata": {},
     "output_type": "execute_result"
    }
   ],
   "source": [
    "ts.describe()"
   ]
  },
  {
   "cell_type": "code",
   "execution_count": 110,
   "metadata": {},
   "outputs": [
    {
     "data": {
      "image/png": "[encoded data removed]",
      "text/plain": [
       "<Figure size 640x480 with 1 Axes>"
      ]
     },
     "metadata": {},
     "output_type": "display_data"
    }
   ],
   "source": [
    "# Visualize the time series\n",
    "import matplotlib.pyplot as plt\n",
    "ts.plot()\n",
    "plt.show()\n"
   ]
  },
  {
   "cell_type": "markdown",
   "metadata": {},
   "source": [
    "- Mediante una regresión de mínimos cuadrados ajuste los datos del archivo anterior al modelo logístico siguiente: $$\\hat{Y} = \\dfrac{1}{1+e^{\\beta_1(X-\\beta_2)}}$$ donde X representa el período (año) y Y el PIB. De lo anterior es evidente que debe estimar dos parámetros (Beta1 y Beta2 ). ¿Tuvo algún problema en el proceso de estimación de parámetros? ¿A qué crees que se debe? "
   ]
  },
  {
   "cell_type": "markdown",
   "metadata": {},
   "source": [
    "El primer problema es que el modelo tiene una imagen $(0,1)$, lo cual no corresponde con el rango de valores de la serie de tiempo. \n",
    "Por lo cual tendríamos que añadir otro parámetro, digamos $A>0$, de manera que ajustemos el siguiente modelo: $$\\hat{Y} = \\dfrac{A}{1+e^{\\beta_1(X-\\beta_2)}}$$.\n",
    "\n",
    "Ahora bien, podemos estimar este modelo utilizando el máximo sobre los valores de la serie de tiempo o normalizando estos valores.\n",
    "Pero considerando que esto último se hará en los siguientes pasos, tomaré otra aproximación, ajustado la curva con `curve_fit` de la biblioteca `scipy`."
   ]
  },
  {
   "cell_type": "code",
   "execution_count": 111,
   "metadata": {},
   "outputs": [],
   "source": [
    "from scipy.optimize import curve_fit\n",
    "\n",
    "def model(t, A, k, t0):\n",
    "    return A /( 1 + np.exp(k*(t-t0)))"
   ]
  },
  {
   "cell_type": "code",
   "execution_count": 112,
   "metadata": {},
   "outputs": [
    {
     "data": {
      "text/plain": [
       "[1465854089286.47, -1.1778736429605428, 2000]"
      ]
     },
     "execution_count": 112,
     "metadata": {},
     "output_type": "execute_result"
    }
   ],
   "source": [
    "# Guess initial parameters\n",
    "import numpy as np\n",
    "\n",
    "A = np.max(ts['GDP'])\n",
    "#loc year 2000 value\n",
    "t0 = 2000\n",
    "t1 = 2001\n",
    "y1 = ts['GDP'].loc['2020'].values[0]\n",
    "k = (1/(t1-t0)) * np.log((A-y1)/y1)\n",
    "p0 = [A, k, t0]\n",
    "p0"
   ]
  },
  {
   "cell_type": "code",
   "execution_count": 113,
   "metadata": {},
   "outputs": [
    {
     "data": {
      "text/plain": [
       "array([ 1.41728426e+12, -1.29322289e-01,  2.00003681e+03])"
      ]
     },
     "execution_count": 113,
     "metadata": {},
     "output_type": "execute_result"
    }
   ],
   "source": [
    "popt, _ = curve_fit(model, ts.index.year, ts['GDP'], p0=p0)\n",
    "popt"
   ]
  },
  {
   "cell_type": "code",
   "execution_count": 114,
   "metadata": {},
   "outputs": [
    {
     "data": {
      "image/png": "[encoded data removed]",
      "text/plain": [
       "<Figure size 640x480 with 1 Axes>"
      ]
     },
     "metadata": {},
     "output_type": "display_data"
    }
   ],
   "source": [
    "def adjusted_model(t):\n",
    "    return model(t, *popt)\n",
    "\n",
    "# ts['GDP'].plot()\n",
    "plt.plot(ts.index.year, adjusted_model(ts.index.year), 'r')\n",
    "plt.plot(ts.index.year, ts['GDP'], 'b')\n",
    "plt.show()\n"
   ]
  },
  {
   "cell_type": "code",
   "execution_count": 115,
   "metadata": {},
   "outputs": [],
   "source": [
    "# Score the model\n",
    "from sklearn.metrics import r2_score, mean_squared_error\n",
    "\n",
    "def report(y_true, y_pred):\n",
    "    r2 = r2_score(y_true, y_pred)\n",
    "    mse = mean_squared_error(y_true, y_pred)\n",
    "    print(f'R2: {r2:.2f}')\n",
    "    print(f'MSE: {mse:.2e}')"
   ]
  },
  {
   "cell_type": "code",
   "execution_count": 116,
   "metadata": {},
   "outputs": [
    {
     "name": "stdout",
     "output_type": "stream",
     "text": [
      "R2: 0.98\n",
      "MSE: 5.02e+21\n"
     ]
    }
   ],
   "source": [
    "report(ts['GDP'], adjusted_model(ts.index.year))"
   ]
  },
  {
   "cell_type": "code",
   "execution_count": 133,
   "metadata": {},
   "outputs": [
    {
     "name": "stdout",
     "output_type": "stream",
     "text": [
      "2022: 1.34e+12\n"
     ]
    }
   ],
   "source": [
    "# Forecast for 2022\n",
    "t = 2022\n",
    "forecast_1 = adjusted_model(t)\n",
    "print(f\"{t}: {forecast_1:.2e}\") "
   ]
  },
  {
   "cell_type": "markdown",
   "metadata": {},
   "source": []
  },
  {
   "cell_type": "markdown",
   "metadata": {},
   "source": [
    "- Transforme la base de datos previa dividiendo cada observación entre el valor máximo de la columna a la que pertenece. A este proceso se le denomina “Normalización”."
   ]
  },
  {
   "cell_type": "code",
   "execution_count": 117,
   "metadata": {},
   "outputs": [
    {
     "data": {
      "text/plain": [
       "1465854089286.47"
      ]
     },
     "execution_count": 117,
     "metadata": {},
     "output_type": "execute_result"
    }
   ],
   "source": [
    "y = ts['GDP']\n",
    "y_max = np.max(y)\n",
    "y_max"
   ]
  },
  {
   "cell_type": "code",
   "execution_count": 118,
   "metadata": {},
   "outputs": [
    {
     "data": {
      "text/plain": [
       "array([1960, 1961, 1962, 1963, 1964, 1965, 1966, 1967, 1968, 1969, 1970,\n",
       "       1971, 1972, 1973, 1974, 1975, 1976, 1977, 1978, 1979, 1980, 1981,\n",
       "       1982, 1983, 1984, 1985, 1986, 1987, 1988, 1989, 1990, 1991, 1992,\n",
       "       1993, 1994, 1995, 1996, 1997, 1998, 1999, 2000, 2001, 2002, 2003,\n",
       "       2004, 2005, 2006, 2007, 2008, 2009, 2010, 2011, 2012, 2013, 2014,\n",
       "       2015, 2016, 2017, 2018, 2019, 2020, 2021, 2022])"
      ]
     },
     "execution_count": 118,
     "metadata": {},
     "output_type": "execute_result"
    }
   ],
   "source": [
    "t = ts.index.year.values\n",
    "t"
   ]
  },
  {
   "cell_type": "code",
   "execution_count": 119,
   "metadata": {},
   "outputs": [
    {
     "data": {
      "image/png": "[encoded data removed]",
      "text/plain": [
       "<Figure size 640x480 with 1 Axes>"
      ]
     },
     "metadata": {},
     "output_type": "display_data"
    }
   ],
   "source": [
    "y_norm = y/y_max\n",
    "\n",
    "plt.plot(t, y_norm, 'b')\n",
    "plt.show()\n"
   ]
  },
  {
   "cell_type": "markdown",
   "metadata": {},
   "source": [
    "- Vuelva a intentar el ajuste del problema anterior para las dos nuevas columnas resultantes. \n",
    "  - ¿Obtuvo resultados satisfactorios en esta ocasión?\n",
    "  - Explique a detalle comentando sobre la bonda de ajuste. \n",
    "  - ¿Cuál sería su pronóstico del PIB (GDP) para México en el 2022? \n",
    "  - ¿Qué mecanismo de transformación tendría que realizar en dicho caso? \n",
    "\n",
    "Ahora, ajustaremos el modelo utilizando una trasformación para poder calcular los parámetros del modelo lineal subyacente. "
   ]
  },
  {
   "cell_type": "code",
   "execution_count": 120,
   "metadata": {},
   "outputs": [],
   "source": [
    "# Link function\n",
    "def link_fn(y):\n",
    "    return np.log((1-y)/y)\n"
   ]
  },
  {
   "cell_type": "code",
   "execution_count": 121,
   "metadata": {},
   "outputs": [
    {
     "name": "stderr",
     "output_type": "stream",
     "text": [
      "c:\\Users\\julih\\anaconda3\\envs\\machine_learning\\Lib\\site-packages\\pandas\\core\\arraylike.py:396: RuntimeWarning: divide by zero encountered in log\n",
      "  result = getattr(ufunc, method)(*inputs, **kwargs)\n"
     ]
    },
    {
     "data": {
      "image/png": "[encoded data removed]",
      "text/plain": [
       "<Figure size 640x480 with 1 Axes>"
      ]
     },
     "metadata": {},
     "output_type": "display_data"
    }
   ],
   "source": [
    "# Adjust the transformed data with a linear regression\n",
    "\n",
    "z = link_fn(y_norm)\n",
    "plt.plot(t, z, 'b')\n",
    "plt.show()"
   ]
  },
  {
   "cell_type": "code",
   "execution_count": 122,
   "metadata": {},
   "outputs": [
    {
     "data": {
      "text/plain": [
       "0"
      ]
     },
     "execution_count": 122,
     "metadata": {},
     "output_type": "execute_result"
    }
   ],
   "source": [
    "# Count nans in z\n",
    "np.isnan(z).sum()"
   ]
  },
  {
   "cell_type": "code",
   "execution_count": 123,
   "metadata": {},
   "outputs": [
    {
     "data": {
      "text/plain": [
       "1"
      ]
     },
     "execution_count": 123,
     "metadata": {},
     "output_type": "execute_result"
    }
   ],
   "source": [
    "# Check is there is some infinite value\n",
    "np.isinf(z).sum()"
   ]
  },
  {
   "cell_type": "code",
   "execution_count": 124,
   "metadata": {},
   "outputs": [],
   "source": [
    "z = z.replace([np.inf, -np.inf], np.nan)"
   ]
  },
  {
   "cell_type": "code",
   "execution_count": 125,
   "metadata": {},
   "outputs": [
    {
     "data": {
      "text/plain": [
       "array([ 4.73919519,  4.62317747,  4.50715975,  4.39114204,  4.27512432,\n",
       "        4.1591066 ,  4.04308889,  3.92707117,  3.81105345,  3.69503574,\n",
       "        3.57901802,  3.4630003 ,  3.34698259,  3.23096487,  3.11494715,\n",
       "        2.99892944,  2.88291172,  2.766894  ,  2.65087629,  2.53485857,\n",
       "        2.41884085,  2.30282314,  2.18680542,  2.0707877 ,  1.95476999,\n",
       "        1.83875227,  1.72273455,  1.60671684,  1.49069912,  1.3746814 ,\n",
       "        1.25866369,  1.14264597,  1.02662825,  0.91061054,  0.79459282,\n",
       "        0.67857511,  0.56255739,  0.44653967,  0.33052196,  0.21450424,\n",
       "        0.09848652, -0.01753119, -0.13354891, -0.24956663, -0.36558434,\n",
       "       -0.48160206, -0.59761978, -0.71363749, -0.82965521, -0.94567293,\n",
       "       -1.06169064, -1.17770836, -1.29372608, -1.40974379, -1.52576151,\n",
       "       -1.64177923, -1.75779694, -1.87381466, -1.98983238, -2.10585009,\n",
       "       -2.22186781, -2.33788553, -2.45390324])"
      ]
     },
     "execution_count": 125,
     "metadata": {},
     "output_type": "execute_result"
    }
   ],
   "source": [
    "from sklearn.linear_model import LinearRegression\n",
    "\n",
    "lr = LinearRegression()\n",
    "lr.fit(t[~np.isnan(z)].reshape(-1, 1), z[~np.isnan(z)])\n",
    "\n",
    "z_pred = lr.predict(t.reshape(-1, 1))\n",
    "z_pred"
   ]
  },
  {
   "cell_type": "code",
   "execution_count": 126,
   "metadata": {},
   "outputs": [
    {
     "data": {
      "image/png": "[encoded data removed]",
      "text/plain": [
       "<Figure size 640x480 with 1 Axes>"
      ]
     },
     "metadata": {},
     "output_type": "display_data"
    }
   ],
   "source": [
    "plt.plot(t, z, 'b')\n",
    "plt.plot(t, z_pred, 'r')\n",
    "plt.show()"
   ]
  },
  {
   "cell_type": "markdown",
   "metadata": {},
   "source": [
    "Utilizaremos ahora esta regresión para crear el modelo logístico"
   ]
  },
  {
   "cell_type": "code",
   "execution_count": 127,
   "metadata": {},
   "outputs": [
    {
     "data": {
      "image/png": "[encoded data removed]",
      "text/plain": [
       "<Figure size 640x480 with 1 Axes>"
      ]
     },
     "metadata": {},
     "output_type": "display_data"
    }
   ],
   "source": [
    "y_pred = 1/(1+np.exp(z_pred))\n",
    "\n",
    "plt.plot(t, y_norm, 'b')\n",
    "plt.plot(t, y_pred, 'r')\n",
    "plt.show()"
   ]
  },
  {
   "cell_type": "code",
   "execution_count": 128,
   "metadata": {},
   "outputs": [
    {
     "name": "stdout",
     "output_type": "stream",
     "text": [
      "R2: 0.98\n",
      "MSE: 2.44e-03\n"
     ]
    }
   ],
   "source": [
    "report(y_norm, y_pred)"
   ]
  },
  {
   "cell_type": "code",
   "execution_count": 129,
   "metadata": {},
   "outputs": [
    {
     "name": "stdout",
     "output_type": "stream",
     "text": [
      "R2: 0.98\n",
      "MSE: 5.25e+21\n"
     ]
    }
   ],
   "source": [
    "report(A*y_norm, A*y_pred)"
   ]
  },
  {
   "cell_type": "code",
   "execution_count": 134,
   "metadata": {},
   "outputs": [
    {
     "name": "stdout",
     "output_type": "stream",
     "text": [
      "2022: 1.35e+12\n"
     ]
    }
   ],
   "source": [
    "# Forecast for 2022\n",
    "t = 2022\n",
    "forecast_2 = A*y_pred[t-1960]\n",
    "print(f\"{t}: {forecast_2:.2e}\")"
   ]
  },
  {
   "cell_type": "markdown",
   "metadata": {},
   "source": [
    "### Conclusiones\n",
    "\n",
    "Ambos métodos arrojan resultados similares, aunque en el primero, confiamos más en la implementación de la librería `scipy`, para ajustar curvas en general, pero sin conocer los detalles. \n",
    "\n",
    "En cambio, el segundo método es más transparente, porque incluso cuando utilizamos `scikit-learn`, en realidad fue solo para automatizar el cálculo de las predicciones de una regresión similar simple, pero se puede realizar incluso con una rutina implementada por el usuario. \n",
    "\n",
    "Entre las ventajas del primer método, podemos señalar que no es necesario realizar transformación alguna de datos, y se pueden proveer valores iniciales aproximados, que se optimizarán con la rutina implementada por `scipy`.\n",
    "\n",
    "Sin embargo, para otra clase de modeo, realizar estas optimizaciones puede resultar computacionalmente más costoso. \n",
    "\n",
    "El segundo método es más económico desde el punto de vista computacional, pero si el modelo no es lineal generalizado, la función de enlace podría no existir, y por lo tanto no sería aplicable. \n",
    "\n",
    "Finalmente, el pronóstico para 2022 es muy similar, pero sería interesante realizar una validación con más años, para saber que modelo realiza mejores predicciones, y no solo la bondad del ajuste de la interpolación. \n"
   ]
  }
 ],
 "metadata": {
  "kernelspec": {
   "display_name": "machine_learning",
   "language": "python",
   "name": "python3"
  },
  "language_info": {
   "codemirror_mode": {
    "name": "ipython",
    "version": 3
   },
   "file_extension": ".py",
   "mimetype": "text/x-python",
   "name": "python",
   "nbconvert_exporter": "python",
   "pygments_lexer": "ipython3",
   "version": "3.11.5"
  }
 },
 "nbformat": 4,
 "nbformat_minor": 2
}
