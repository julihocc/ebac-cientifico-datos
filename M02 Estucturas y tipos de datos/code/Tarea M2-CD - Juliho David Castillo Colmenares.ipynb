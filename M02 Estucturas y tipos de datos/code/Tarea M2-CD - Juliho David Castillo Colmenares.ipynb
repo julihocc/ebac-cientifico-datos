{
 "cells": [
  {
   "cell_type": "code",
   "execution_count": 3,
   "metadata": {},
   "outputs": [
    {
     "name": "stdout",
     "output_type": "stream",
     "text": [
      "La palabra ' El ' re repite 1 instancia(s).\n",
      "La palabra ' amor ' re repite 1 instancia(s).\n",
      "La palabra ' es ' re repite 1 instancia(s).\n",
      "La palabra ' una ' re repite 2 instancia(s).\n",
      "La palabra ' locura ' re repite 2 instancia(s).\n",
      "La palabra ' que ' re repite 1 instancia(s).\n",
      "La palabra ' ni ' re repite 1 instancia(s).\n",
      "La palabra ' el ' re repite 2 instancia(s).\n",
      "La palabra ' cura ' re repite 5 instancia(s).\n",
      "La palabra ' lo ' re repite 2 instancia(s).\n",
      "La palabra ' porque ' re repite 1 instancia(s).\n",
      "La palabra ' si ' re repite 1 instancia(s).\n",
      "La palabra ' sería ' re repite 1 instancia(s).\n",
      "La palabra ' del ' re repite 1 instancia(s).\n"
     ]
    }
   ],
   "source": [
    "texto = \"El amor es una locura que ni el cura lo cura porque si el cura lo cura sería una locura del cura\"\n",
    "\n",
    "conteo = {}\n",
    "\n",
    "tokens = texto.split()\n",
    "\n",
    "for token in tokens:\n",
    "    if token in conteo:\n",
    "        conteo[token] += 1\n",
    "    else:\n",
    "        conteo[token] = 1\n",
    "\n",
    "for palabra in conteo:\n",
    "    print(\n",
    "        f\"La palabra ' {palabra} ' re repite {conteo[palabra]} instancia(s).\"\n",
    "    )"
   ]
  }
 ],
 "metadata": {
  "kernelspec": {
   "display_name": "machine_learning",
   "language": "python",
   "name": "python3"
  },
  "language_info": {
   "codemirror_mode": {
    "name": "ipython",
    "version": 3
   },
   "file_extension": ".py",
   "mimetype": "text/x-python",
   "name": "python",
   "nbconvert_exporter": "python",
   "pygments_lexer": "ipython3",
   "version": "3.11.5"
  }
 },
 "nbformat": 4,
 "nbformat_minor": 2
}
