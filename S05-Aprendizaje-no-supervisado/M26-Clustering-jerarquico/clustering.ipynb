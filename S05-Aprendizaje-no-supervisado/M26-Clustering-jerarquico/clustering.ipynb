{
 "cells": [
  {
   "cell_type": "markdown",
   "metadata": {},
   "source": [
    "# Clustering jerarquico\n",
    "Presenta: Juliho Castillo Colmenares\n",
    "\n",
    "**¡Bienvenidos a la actividad práctica del módulo!**\n",
    "\n",
    "*Antes de empezar*\n",
    "\n",
    "En este ejercicio usaremos Clustering jerárquico para hacer recomendaciones de compras a los clientes. La idea consiste en recomendar a un cliente los productos que ha comprado otra persona que pertenece al mismo clúster o segmento.\n",
    "\n",
    "El objetivo de esta actividad es que realices un análisis de agrupación por “Clustering Jerárquico” a una base de datos de manera que  puedas generar conclusiones de acuerdo a diversas categorías.\n",
    "\n",
    "*Paso a paso:*\n",
    "\n",
    "- Extrae de internet la base de datos “Amazon.xlsx” de la siguiente liga y agregala a un DataFrame en Python.\n",
    "https://github.com/JoseRaulCastro/EBAC/blob/main/Amazon.xlsx\n",
    "- El archivo “Amazon.xlsx” contiene los promedios de evaluación de 100 personas que adquirieron los mismos productos o muy similares en la tienda AMAZON.\n",
    "- Con base en los resultados de su análisis, ¿qué productos recomendaría a Salomé? ¿Qué productos recomendaría a Stephanía? ¿Qué productos recomendaría a Lydia? La respuesta debe estar reflejada en función de otros clientes. Por ejemplo, “Recomendaría a Salomé los mismos productos que compró XXXXX”. Dé nombres de clientes en cada caso. Expliqué claramente sus conclusiones."
   ]
  },
  {
   "cell_type": "code",
   "execution_count": 65,
   "metadata": {},
   "outputs": [
    {
     "data": {
      "text/html": [
       "<div>\n",
       "<style scoped>\n",
       "    .dataframe tbody tr th:only-of-type {\n",
       "        vertical-align: middle;\n",
       "    }\n",
       "\n",
       "    .dataframe tbody tr th {\n",
       "        vertical-align: top;\n",
       "    }\n",
       "\n",
       "    .dataframe thead th {\n",
       "        text-align: right;\n",
       "    }\n",
       "</style>\n",
       "<table border=\"1\" class=\"dataframe\">\n",
       "  <thead>\n",
       "    <tr style=\"text-align: right;\">\n",
       "      <th></th>\n",
       "      <th>Consumidor</th>\n",
       "      <th>Velocidad Entrega</th>\n",
       "      <th>Precio</th>\n",
       "      <th>Durabilidad</th>\n",
       "      <th>Imagen Producto</th>\n",
       "      <th>Valor Educativo</th>\n",
       "      <th>Servicio Retorno</th>\n",
       "      <th>Tamano Paquete</th>\n",
       "      <th>Calidad Producto</th>\n",
       "      <th>Numero Estrellas</th>\n",
       "    </tr>\n",
       "  </thead>\n",
       "  <tbody>\n",
       "    <tr>\n",
       "      <th>0</th>\n",
       "      <td>Adam</td>\n",
       "      <td>205</td>\n",
       "      <td>3</td>\n",
       "      <td>345</td>\n",
       "      <td>235</td>\n",
       "      <td>24</td>\n",
       "      <td>23</td>\n",
       "      <td>26</td>\n",
       "      <td>21</td>\n",
       "      <td>17</td>\n",
       "    </tr>\n",
       "    <tr>\n",
       "      <th>1</th>\n",
       "      <td>Anna</td>\n",
       "      <td>9</td>\n",
       "      <td>15</td>\n",
       "      <td>315</td>\n",
       "      <td>33</td>\n",
       "      <td>25</td>\n",
       "      <td>4</td>\n",
       "      <td>42</td>\n",
       "      <td>215</td>\n",
       "      <td>28</td>\n",
       "    </tr>\n",
       "    <tr>\n",
       "      <th>2</th>\n",
       "      <td>Bernard</td>\n",
       "      <td>17</td>\n",
       "      <td>26</td>\n",
       "      <td>285</td>\n",
       "      <td>3</td>\n",
       "      <td>43</td>\n",
       "      <td>27</td>\n",
       "      <td>41</td>\n",
       "      <td>26</td>\n",
       "      <td>33</td>\n",
       "    </tr>\n",
       "    <tr>\n",
       "      <th>3</th>\n",
       "      <td>Edward</td>\n",
       "      <td>135</td>\n",
       "      <td>5</td>\n",
       "      <td>355</td>\n",
       "      <td>295</td>\n",
       "      <td>18</td>\n",
       "      <td>23</td>\n",
       "      <td>39</td>\n",
       "      <td>195</td>\n",
       "      <td>17</td>\n",
       "    </tr>\n",
       "    <tr>\n",
       "      <th>4</th>\n",
       "      <td>Emilia</td>\n",
       "      <td>3</td>\n",
       "      <td>45</td>\n",
       "      <td>48</td>\n",
       "      <td>39</td>\n",
       "      <td>34</td>\n",
       "      <td>46</td>\n",
       "      <td>225</td>\n",
       "      <td>34</td>\n",
       "      <td>43</td>\n",
       "    </tr>\n",
       "  </tbody>\n",
       "</table>\n",
       "</div>"
      ],
      "text/plain": [
       "  Consumidor  Velocidad Entrega  Precio  Durabilidad  Imagen Producto  \\\n",
       "0       Adam                205       3          345              235   \n",
       "1       Anna                  9      15          315               33   \n",
       "2    Bernard                 17      26          285                3   \n",
       "3     Edward                135       5          355              295   \n",
       "4     Emilia                  3      45           48               39   \n",
       "\n",
       "   Valor Educativo  Servicio Retorno  Tamano Paquete  Calidad Producto  \\\n",
       "0               24                23              26                21   \n",
       "1               25                 4              42               215   \n",
       "2               43                27              41                26   \n",
       "3               18                23              39               195   \n",
       "4               34                46             225                34   \n",
       "\n",
       "   Numero Estrellas  \n",
       "0                17  \n",
       "1                28  \n",
       "2                33  \n",
       "3                17  \n",
       "4                43  "
      ]
     },
     "execution_count": 65,
     "metadata": {},
     "output_type": "execute_result"
    }
   ],
   "source": [
    "import pandas as pd\n",
    "from sklearn.preprocessing import StandardScaler\n",
    "from sklearn.cluster import AgglomerativeClustering\n",
    "import matplotlib.pyplot as plt\n",
    "import seaborn as sns\n",
    "\n",
    "# Load the data\n",
    "dataframe = pd.read_excel('Amazon.xlsx')\n",
    "\n",
    "# Rename the 'Unnamed: 0' column to 'Consumidor'\n",
    "dataframe.rename(columns={'Unnamed: 0': 'Consumidor'}, inplace=True)\n",
    "\n",
    "# Display the first few rows to verify the change\n",
    "dataframe.head()"
   ]
  },
  {
   "cell_type": "code",
   "execution_count": 66,
   "metadata": {},
   "outputs": [],
   "source": [
    "\n",
    "# Select relevant features for clustering\n",
    "features = dataframe[['Velocidad Entrega', 'Precio', 'Durabilidad', 'Imagen Producto', \n",
    "                      'Valor Educativo', 'Servicio Retorno', 'Tamano Paquete', \n",
    "                      'Calidad Producto', 'Numero Estrellas']]\n",
    "\n",
    "# Standardize the data\n",
    "scaler = StandardScaler()\n",
    "scaled_features = scaler.fit_transform(features)"
   ]
  },
  {
   "cell_type": "code",
   "execution_count": 67,
   "metadata": {},
   "outputs": [
    {
     "data": {
      "image/png": "[encoded data removed]",
      "text/plain": [
       "<Figure size 1000x700 with 1 Axes>"
      ]
     },
     "metadata": {},
     "output_type": "display_data"
    }
   ],
   "source": [
    "\n",
    "# Perform Ward clustering\n",
    "ward = AgglomerativeClustering(n_clusters=3, linkage='ward')\n",
    "clusters = ward.fit_predict(scaled_features)\n",
    "\n",
    "# Add the cluster labels to the dataframe\n",
    "dataframe['Cluster'] = clusters\n",
    "\n",
    "# Visualize the clusters\n",
    "plt.figure(figsize=(10, 7))\n",
    "sns.scatterplot(data=dataframe, x='Velocidad Entrega', y='Precio', hue='Cluster', palette='viridis')\n",
    "plt.title('Ward Clustering')\n",
    "plt.show()"
   ]
  },
  {
   "cell_type": "code",
   "execution_count": 68,
   "metadata": {},
   "outputs": [
    {
     "data": {
      "text/html": [
       "<div>\n",
       "<style scoped>\n",
       "    .dataframe tbody tr th:only-of-type {\n",
       "        vertical-align: middle;\n",
       "    }\n",
       "\n",
       "    .dataframe tbody tr th {\n",
       "        vertical-align: top;\n",
       "    }\n",
       "\n",
       "    .dataframe thead th {\n",
       "        text-align: right;\n",
       "    }\n",
       "</style>\n",
       "<table border=\"1\" class=\"dataframe\">\n",
       "  <thead>\n",
       "    <tr style=\"text-align: right;\">\n",
       "      <th></th>\n",
       "      <th>Consumidor</th>\n",
       "      <th>Velocidad Entrega</th>\n",
       "      <th>Precio</th>\n",
       "      <th>Durabilidad</th>\n",
       "      <th>Imagen Producto</th>\n",
       "      <th>Valor Educativo</th>\n",
       "      <th>Servicio Retorno</th>\n",
       "      <th>Tamano Paquete</th>\n",
       "      <th>Calidad Producto</th>\n",
       "      <th>Numero Estrellas</th>\n",
       "      <th>Cluster</th>\n",
       "    </tr>\n",
       "  </thead>\n",
       "  <tbody>\n",
       "    <tr>\n",
       "      <th>81</th>\n",
       "      <td>Salome</td>\n",
       "      <td>17</td>\n",
       "      <td>23</td>\n",
       "      <td>275</td>\n",
       "      <td>41</td>\n",
       "      <td>4</td>\n",
       "      <td>44</td>\n",
       "      <td>315</td>\n",
       "      <td>28</td>\n",
       "      <td>32</td>\n",
       "      <td>0</td>\n",
       "    </tr>\n",
       "  </tbody>\n",
       "</table>\n",
       "</div>"
      ],
      "text/plain": [
       "   Consumidor  Velocidad Entrega  Precio  Durabilidad  Imagen Producto  \\\n",
       "81     Salome                 17      23          275               41   \n",
       "\n",
       "    Valor Educativo  Servicio Retorno  Tamano Paquete  Calidad Producto  \\\n",
       "81                4                44             315                28   \n",
       "\n",
       "    Numero Estrellas  Cluster  \n",
       "81                32        0  "
      ]
     },
     "execution_count": 68,
     "metadata": {},
     "output_type": "execute_result"
    }
   ],
   "source": [
    "salome = dataframe[dataframe['Consumidor'] == 'Salome']\n",
    "salome "
   ]
  },
  {
   "cell_type": "code",
   "execution_count": 69,
   "metadata": {},
   "outputs": [
    {
     "data": {
      "text/plain": [
       "np.int64(0)"
      ]
     },
     "execution_count": 69,
     "metadata": {},
     "output_type": "execute_result"
    }
   ],
   "source": [
    "salome_cluster = salome['Cluster'].values[0]\n",
    "salome_cluster"
   ]
  },
  {
   "cell_type": "code",
   "execution_count": 70,
   "metadata": {},
   "outputs": [],
   "source": [
    "similiar_to_salome = dataframe[dataframe['Cluster'] == salome_cluster]\n",
    "similiar_to_salome.to_csv('similiar_to_salome.csv', index=False)"
   ]
  },
  {
   "cell_type": "code",
   "execution_count": 71,
   "metadata": {},
   "outputs": [
    {
     "data": {
      "text/plain": [
       "True"
      ]
     },
     "execution_count": 71,
     "metadata": {},
     "output_type": "execute_result"
    }
   ],
   "source": [
    "# Create a function with the code to find similar consumers\n",
    "def get_similar_consumers(dataframe, consumer):\n",
    "  try:\n",
    "    cluster = dataframe[dataframe['Consumidor'] == consumer]['Cluster'].values[0]\n",
    "    similar_consumers = dataframe[dataframe['Cluster'] == cluster]\n",
    "    return similar_consumers\n",
    "  except IndexError:\n",
    "    return 'Consumer not found in the dataframe'\n",
    "\n",
    "salome = get_similar_consumers(dataframe, 'Salome')\n",
    "salome.equals(similiar_to_salome)"
   ]
  },
  {
   "cell_type": "code",
   "execution_count": 72,
   "metadata": {},
   "outputs": [
    {
     "data": {
      "text/plain": [
       "array([0])"
      ]
     },
     "execution_count": 72,
     "metadata": {},
     "output_type": "execute_result"
    }
   ],
   "source": [
    "salome['Cluster'].unique()"
   ]
  },
  {
   "cell_type": "code",
   "execution_count": 73,
   "metadata": {},
   "outputs": [
    {
     "data": {
      "text/plain": [
       "array([1])"
      ]
     },
     "execution_count": 73,
     "metadata": {},
     "output_type": "execute_result"
    }
   ],
   "source": [
    "stephania = get_similar_consumers(dataframe, 'Stephania')\n",
    "stephania['Cluster'].unique()"
   ]
  },
  {
   "cell_type": "code",
   "execution_count": 74,
   "metadata": {},
   "outputs": [
    {
     "data": {
      "text/plain": [
       "array([2])"
      ]
     },
     "execution_count": 74,
     "metadata": {},
     "output_type": "execute_result"
    }
   ],
   "source": [
    "lydia = get_similar_consumers(dataframe, 'Lydia')\n",
    "lydia['Cluster'].unique()"
   ]
  },
  {
   "cell_type": "markdown",
   "metadata": {},
   "source": [
    "### Conclusiones\n",
    "\n",
    "A partir de nuestro analisis de clustering jerarquico, determinamos que ninguna de las clientas recibiría las mismas recomendaciones de productos, ya que cada una de ellas pertenece a un cluster diferente. Los productos recomendados para Salomé se encuentran en el archivo `similar_to_salome.csv`. "
   ]
  }
 ],
 "metadata": {
  "kernelspec": {
   "display_name": ".venv",
   "language": "python",
   "name": "python3"
  },
  "language_info": {
   "codemirror_mode": {
    "name": "ipython",
    "version": 3
   },
   "file_extension": ".py",
   "mimetype": "text/x-python",
   "name": "python",
   "nbconvert_exporter": "python",
   "pygments_lexer": "ipython3",
   "version": "3.11.9"
  }
 },
 "nbformat": 4,
 "nbformat_minor": 2
}
