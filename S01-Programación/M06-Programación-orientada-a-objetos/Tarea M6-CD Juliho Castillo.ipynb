{
 "cells": [
  {
   "cell_type": "markdown",
   "metadata": {},
   "source": [
    "# Tarea 6\n",
    "\n",
    "Juliho Castillo Colmenares\n",
    "\n",
    "\n",
    "## Instrucciones \n",
    "\n",
    "Escriba una clase en Python denominada “Conversion” que permita la conversión de un número romano a un número entero a través de un método llamado “romano_entero”.\n",
    "\n",
    "\n",
    "\n",
    "Por ejemplo, si definimos un objeto de esta clase llamado ”numero”, al invocar:\n",
    "\n",
    "`numero.romano_entero(‘MMMCMLXXXVI‘)`\n",
    "\n",
    "debemos obtener: 3986"
   ]
  },
  {
   "cell_type": "code",
   "execution_count": 3,
   "metadata": {},
   "outputs": [],
   "source": [
    "class Conversion:\n",
    "    def __init__(self):\n",
    "        self.romanos = {\n",
    "            'I': 1,\n",
    "            'V': 5,\n",
    "            'X': 10,\n",
    "            'L': 50,\n",
    "            'C': 100,\n",
    "            'D': 500,\n",
    "            'M': 1000\n",
    "        }\n",
    "    \n",
    "    def romano_entero(self, romano):\n",
    "        entero = 0\n",
    "        i = 0\n",
    "        while i < len(romano):\n",
    "            # Si el símbolo actual tiene un valor menor que su siguiente símbolo, restamos el valor actual.\n",
    "            if i + 1 < len(romano) and self.romanos[romano[i]] < self.romanos[romano[i+1]]:\n",
    "                entero += self.romanos[romano[i+1]] - self.romanos[romano[i]]\n",
    "                i += 2\n",
    "            else:\n",
    "                entero += self.romanos[romano[i]]\n",
    "                i += 1\n",
    "        return entero"
   ]
  },
  {
   "cell_type": "code",
   "execution_count": 4,
   "metadata": {},
   "outputs": [
    {
     "name": "stdout",
     "output_type": "stream",
     "text": [
      "3986\n"
     ]
    }
   ],
   "source": [
    "\n",
    "# Ejemplo de uso\n",
    "numero = Conversion()\n",
    "print(numero.romano_entero('MMMCMLXXXVI'))"
   ]
  }
 ],
 "metadata": {
  "kernelspec": {
   "display_name": "machine_learning",
   "language": "python",
   "name": "python3"
  },
  "language_info": {
   "codemirror_mode": {
    "name": "ipython",
    "version": 3
   },
   "file_extension": ".py",
   "mimetype": "text/x-python",
   "name": "python",
   "nbconvert_exporter": "python",
   "pygments_lexer": "ipython3",
   "version": "3.11.5"
  }
 },
 "nbformat": 4,
 "nbformat_minor": 2
}
