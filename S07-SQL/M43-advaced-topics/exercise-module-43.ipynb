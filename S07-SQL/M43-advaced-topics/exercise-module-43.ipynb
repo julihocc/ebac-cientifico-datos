{
 "cells": [
  {
   "cell_type": "markdown",
   "metadata": {},
   "source": [
    "# Module 43: Advanced Topics on SQLite with Python\n",
    "\n",
    "Author: Juliho David Castillo Colmenares"
   ]
  },
  {
   "cell_type": "markdown",
   "metadata": {},
   "source": [
    "\n",
    "In this activity, you are required to propose a set of tables that you can relate to each other, similar to what was demonstrated in this module. Preferably, these tables should be related to your area of work.\n",
    "\n",
    "The goal is to create multiple relational databases in Python using CSV files and SQLite, allowing you to perform relational queries between them.\n",
    "\n",
    "## Step-by-Step Instructions:\n",
    "\n",
    "### 1. **Create a Relational Database:**\n",
    "   - Generate a relational database that contains the proposed tables.\n",
    "   - Explain the purpose of each table and describe the meaning of each field (column) in the table.\n",
    "\n",
    "### 2. **Provide Two Query Examples Using `INNER JOIN` and `LEFT JOIN`:**\n",
    "   - Write two specific SQL queries where you apply the `INNER JOIN` and `LEFT JOIN` operations.\n",
    "   - Explain the logic behind each query.\n",
    "\n",
    "### 3. **Develop a Query Using `CASE WHEN`:**\n",
    "   - Create a query that uses the `CASE WHEN` statement.\n",
    "   - Explain the problem this query resolves.\n",
    "\n",
    "### 4. **Provide Three Subquery Examples:**\n",
    "   - Develop three query examples using subqueries (e.g., Semi-Join, Anti-Join, or any other subquery of your choice).\n",
    "   - Explain the logic behind each subquery.\n",
    "\n",
    "## Final Submission\n",
    "\n",
    "### How to Submit Your Work:\n",
    "   - You should submit a **Jupyter Notebook (.ipynb file)** containing:\n",
    "     - The code developed for creating the database and running the queries.\n",
    "     - Explanations for each query, describing its purpose and logic.\n",
    "   - Include the **CSV files** used in the project.\n",
    "   - Provide a **PDF** with screenshots showing:\n",
    "     - The code execution.\n",
    "     - The output of the queries.\n",
    "     - Explanations and comments related to the specific questions asked.\n",
    "\n",
    "   **Note:** Submissions that do not include these elements will not be evaluated.\n",
    "\n",
    "### Estimated Time for Completion:\n",
    "   - This task should take approximately **40 minutes**.\n",
    "\n",
    "Submit your files to the tutor via the EBAC platform."
   ]
  },
  {
   "cell_type": "code",
   "execution_count": 62,
   "metadata": {},
   "outputs": [],
   "source": [
    "import sqlite3\n",
    "import csv\n",
    "import time\n",
    "\n",
    "# Connect to the SQLite database (it will be created if it doesn't exist)\n",
    "now = str(int(time.time()))\n",
    "conn = sqlite3.connect(f\"my_database_{now}.db\")\n",
    "cursor = conn.cursor()\n",
    "\n",
    "\n",
    "# Function to load data from a CSV file into a table\n",
    "def load_data_from_csv(csv_file, table_name, columns):\n",
    "    with open(csv_file, \"r\") as file:\n",
    "        dict_reader = csv.DictReader(file)\n",
    "        to_db = [tuple(row[col] for col in columns) for row in dict_reader]\n",
    "\n",
    "    cursor.execute(f'CREATE TABLE IF NOT EXISTS {table_name} ({\", \".join(columns)});')\n",
    "    cursor.executemany(\n",
    "        f'INSERT INTO {table_name} ({\", \".join(columns)}) VALUES ({\", \".join([\"?\" for _ in columns])});',\n",
    "        to_db,\n",
    "    )\n",
    "    conn.commit()\n",
    "\n",
    "\n",
    "# Define the columns and load data from Customers and Orders\n",
    "customers_columns = [\"customer_id\", \"customer_name\", \"address\", \"city\", \"country\"]\n",
    "orders_columns = [\"order_id\", \"customer_id\", \"order_date\", \"total_purchase\"]\n",
    "\n",
    "load_data_from_csv(\"Customers1.csv\", \"Customers\", customers_columns)\n",
    "load_data_from_csv(\"Orders.csv\", \"Orders\", orders_columns)"
   ]
  },
  {
   "cell_type": "code",
   "execution_count": 63,
   "metadata": {},
   "outputs": [
    {
     "name": "stdout",
     "output_type": "stream",
     "text": [
      "INNER JOIN Results:\n"
     ]
    },
    {
     "data": {
      "text/plain": [
       "[('Juan Perez', '2023-01-15', '250'),\n",
       " ('Juan Perez', '2024-08-05', '50'),\n",
       " ('Maria Lopez', '2023-02-10', '100'),\n",
       " ('Maria Lopez', '2024-09-20', '400'),\n",
       " ('Carlos Sanchez', '2023-03-05', '75')]"
      ]
     },
     "execution_count": 63,
     "metadata": {},
     "output_type": "execute_result"
    }
   ],
   "source": [
    "# Query to perform INNER JOIN between Customers and Orders\n",
    "inner_join_query = \"\"\"\n",
    "SELECT Customers.customer_name, Orders.order_date, Orders.total_purchase\n",
    "FROM Customers\n",
    "INNER JOIN Orders ON Customers.customer_id = Orders.customer_id;\n",
    "\"\"\"\n",
    "cursor.execute(inner_join_query)\n",
    "inner_join_results = cursor.fetchall()\n",
    "\n",
    "print(\"INNER JOIN Results:\")\n",
    "# for row in inner_join_results:\n",
    "#     print(row)\n",
    "inner_join_results[:5]"
   ]
  },
  {
   "cell_type": "code",
   "execution_count": 64,
   "metadata": {},
   "outputs": [
    {
     "name": "stdout",
     "output_type": "stream",
     "text": [
      "\n",
      "LEFT JOIN Results:\n"
     ]
    },
    {
     "data": {
      "text/plain": [
       "[('Juan Perez', '2023-01-15', '250'),\n",
       " ('Juan Perez', '2024-08-05', '50'),\n",
       " ('Maria Lopez', '2023-02-10', '100'),\n",
       " ('Maria Lopez', '2024-09-20', '400'),\n",
       " ('Carlos Sanchez', '2023-03-05', '75')]"
      ]
     },
     "execution_count": 64,
     "metadata": {},
     "output_type": "execute_result"
    }
   ],
   "source": [
    "# Query to perform LEFT JOIN between Customers and Orders\n",
    "left_join_query = \"\"\"\n",
    "SELECT Customers.customer_name, Orders.order_date, Orders.total_purchase\n",
    "FROM Customers\n",
    "LEFT JOIN Orders ON Customers.customer_id = Orders.customer_id;\n",
    "\"\"\"\n",
    "cursor.execute(left_join_query)\n",
    "left_join_results = cursor.fetchall()\n",
    "\n",
    "print(\"\\nLEFT JOIN Results:\")\n",
    "# for row in left_join_results:\n",
    "#     print(row)\n",
    "left_join_results[:5]"
   ]
  },
  {
   "cell_type": "code",
   "execution_count": 65,
   "metadata": {},
   "outputs": [
    {
     "name": "stdout",
     "output_type": "stream",
     "text": [
      "\n",
      "CASE WHEN Results:\n"
     ]
    },
    {
     "data": {
      "text/plain": [
       "[('1', 'High'), ('2', 'High'), ('3', 'High'), ('4', 'High'), ('5', 'High')]"
      ]
     },
     "execution_count": 65,
     "metadata": {},
     "output_type": "execute_result"
    }
   ],
   "source": [
    "# Query to categorize total purchases into Low, Medium, and High categories using CASE WHEN\n",
    "case_when_query = \"\"\"\n",
    "SELECT Orders.customer_id, \n",
    "       CASE\n",
    "           WHEN Orders.total_purchase < 100 THEN 'Low'\n",
    "           WHEN Orders.total_purchase BETWEEN 100 AND 500 THEN 'Medium'\n",
    "           ELSE 'High'\n",
    "       END AS purchase_category\n",
    "FROM Orders;\n",
    "\"\"\"\n",
    "cursor.execute(case_when_query)\n",
    "case_when_results = cursor.fetchall()\n",
    "\n",
    "print(\"\\nCASE WHEN Results:\")\n",
    "# for row in case_when_results:\n",
    "#     print(row)\n",
    "case_when_results[:5]"
   ]
  },
  {
   "cell_type": "code",
   "execution_count": 66,
   "metadata": {},
   "outputs": [
    {
     "name": "stdout",
     "output_type": "stream",
     "text": [
      "\n",
      "Semi-Join Results (Customers with orders):\n"
     ]
    },
    {
     "data": {
      "text/plain": [
       "[('Juan Perez',),\n",
       " ('Maria Lopez',),\n",
       " ('Carlos Sanchez',),\n",
       " ('Ana Gomez',),\n",
       " ('Pedro Rodriguez',)]"
      ]
     },
     "execution_count": 66,
     "metadata": {},
     "output_type": "execute_result"
    }
   ],
   "source": [
    "# Query to return customers who have placed at least one order (Semi-Join)\n",
    "semi_join_query = \"\"\"\n",
    "SELECT customer_name\n",
    "FROM Customers\n",
    "WHERE EXISTS (SELECT 1 FROM Orders WHERE Customers.customer_id = Orders.customer_id);\n",
    "\"\"\"\n",
    "cursor.execute(semi_join_query)\n",
    "semi_join_results = cursor.fetchall()\n",
    "\n",
    "print(\"\\nSemi-Join Results (Customers with orders):\")\n",
    "# for row in semi_join_results:\n",
    "#     print(row)\n",
    "semi_join_results[:5]"
   ]
  },
  {
   "cell_type": "code",
   "execution_count": 67,
   "metadata": {},
   "outputs": [
    {
     "name": "stdout",
     "output_type": "stream",
     "text": [
      "\n",
      "Anti-Join Results:\n"
     ]
    },
    {
     "data": {
      "text/plain": [
       "[]"
      ]
     },
     "execution_count": 67,
     "metadata": {},
     "output_type": "execute_result"
    }
   ],
   "source": [
    "# Query to return customers who have not placed any orders (Anti-Join)\n",
    "anti_join_query = \"\"\"\n",
    "SELECT customer_name\n",
    "FROM Customers\n",
    "WHERE NOT EXISTS (SELECT 1 FROM Orders WHERE Customers.customer_id = Orders.customer_id);\n",
    "\"\"\"\n",
    "cursor.execute(anti_join_query)\n",
    "anti_join_results = cursor.fetchall()\n",
    "\n",
    "print(\"\\nAnti-Join Results:\")\n",
    "# for row in anti_join_results:\n",
    "#     print(row)\n",
    "anti_join_results[:5]"
   ]
  },
  {
   "cell_type": "code",
   "execution_count": 68,
   "metadata": {},
   "outputs": [],
   "source": [
    "# Close the SQLite connection\n",
    "conn.close()"
   ]
  }
 ],
 "metadata": {
  "kernelspec": {
   "display_name": ".venv",
   "language": "python",
   "name": "python3"
  },
  "language_info": {
   "codemirror_mode": {
    "name": "ipython",
    "version": 3
   },
   "file_extension": ".py",
   "mimetype": "text/x-python",
   "name": "python",
   "nbconvert_exporter": "python",
   "pygments_lexer": "ipython3",
   "version": "3.12.7"
  }
 },
 "nbformat": 4,
 "nbformat_minor": 2
}
