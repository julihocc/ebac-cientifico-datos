{
 "cells": [
  {
   "cell_type": "markdown",
   "metadata": {},
   "source": [
    "# Module 41: Importing and most common queries in SQL using Python\n",
    "\n",
    "Author: Juliho David Castillo Colmenares"
   ]
  },
  {
   "cell_type": "code",
   "execution_count": 81,
   "metadata": {},
   "outputs": [],
   "source": [
    "import sqlite3\n",
    "import pandas"
   ]
  },
  {
   "cell_type": "code",
   "execution_count": 82,
   "metadata": {},
   "outputs": [
    {
     "data": {
      "text/html": [
       "<div>\n",
       "<style scoped>\n",
       "    .dataframe tbody tr th:only-of-type {\n",
       "        vertical-align: middle;\n",
       "    }\n",
       "\n",
       "    .dataframe tbody tr th {\n",
       "        vertical-align: top;\n",
       "    }\n",
       "\n",
       "    .dataframe thead th {\n",
       "        text-align: right;\n",
       "    }\n",
       "</style>\n",
       "<table border=\"1\" class=\"dataframe\">\n",
       "  <thead>\n",
       "    <tr style=\"text-align: right;\">\n",
       "      <th></th>\n",
       "      <th>satisfaction_level</th>\n",
       "      <th>last_evaluation</th>\n",
       "      <th>number_project</th>\n",
       "      <th>average_montly_hours</th>\n",
       "      <th>time_spend_company</th>\n",
       "      <th>Work_accident</th>\n",
       "      <th>left</th>\n",
       "      <th>promotion_last_5years</th>\n",
       "      <th>sales</th>\n",
       "      <th>salary</th>\n",
       "    </tr>\n",
       "  </thead>\n",
       "  <tbody>\n",
       "    <tr>\n",
       "      <th>0</th>\n",
       "      <td>0.38</td>\n",
       "      <td>0.53</td>\n",
       "      <td>2</td>\n",
       "      <td>157</td>\n",
       "      <td>3</td>\n",
       "      <td>0</td>\n",
       "      <td>1</td>\n",
       "      <td>0</td>\n",
       "      <td>sales</td>\n",
       "      <td>low</td>\n",
       "    </tr>\n",
       "    <tr>\n",
       "      <th>1</th>\n",
       "      <td>0.80</td>\n",
       "      <td>0.86</td>\n",
       "      <td>5</td>\n",
       "      <td>262</td>\n",
       "      <td>6</td>\n",
       "      <td>0</td>\n",
       "      <td>1</td>\n",
       "      <td>0</td>\n",
       "      <td>sales</td>\n",
       "      <td>medium</td>\n",
       "    </tr>\n",
       "    <tr>\n",
       "      <th>2</th>\n",
       "      <td>0.11</td>\n",
       "      <td>0.88</td>\n",
       "      <td>7</td>\n",
       "      <td>272</td>\n",
       "      <td>4</td>\n",
       "      <td>0</td>\n",
       "      <td>1</td>\n",
       "      <td>0</td>\n",
       "      <td>sales</td>\n",
       "      <td>medium</td>\n",
       "    </tr>\n",
       "    <tr>\n",
       "      <th>3</th>\n",
       "      <td>0.72</td>\n",
       "      <td>0.87</td>\n",
       "      <td>5</td>\n",
       "      <td>223</td>\n",
       "      <td>5</td>\n",
       "      <td>0</td>\n",
       "      <td>1</td>\n",
       "      <td>0</td>\n",
       "      <td>sales</td>\n",
       "      <td>low</td>\n",
       "    </tr>\n",
       "    <tr>\n",
       "      <th>4</th>\n",
       "      <td>0.37</td>\n",
       "      <td>0.52</td>\n",
       "      <td>2</td>\n",
       "      <td>159</td>\n",
       "      <td>3</td>\n",
       "      <td>0</td>\n",
       "      <td>1</td>\n",
       "      <td>0</td>\n",
       "      <td>sales</td>\n",
       "      <td>low</td>\n",
       "    </tr>\n",
       "  </tbody>\n",
       "</table>\n",
       "</div>"
      ],
      "text/plain": [
       "   satisfaction_level  last_evaluation  number_project  average_montly_hours  \\\n",
       "0                0.38             0.53               2                   157   \n",
       "1                0.80             0.86               5                   262   \n",
       "2                0.11             0.88               7                   272   \n",
       "3                0.72             0.87               5                   223   \n",
       "4                0.37             0.52               2                   159   \n",
       "\n",
       "   time_spend_company  Work_accident  left  promotion_last_5years  sales  \\\n",
       "0                   3              0     1                      0  sales   \n",
       "1                   6              0     1                      0  sales   \n",
       "2                   4              0     1                      0  sales   \n",
       "3                   5              0     1                      0  sales   \n",
       "4                   3              0     1                      0  sales   \n",
       "\n",
       "   salary  \n",
       "0     low  \n",
       "1  medium  \n",
       "2  medium  \n",
       "3     low  \n",
       "4     low  "
      ]
     },
     "execution_count": 82,
     "metadata": {},
     "output_type": "execute_result"
    }
   ],
   "source": [
    "# Create a datafile for the database\n",
    "data = pandas.read_csv(\"recursos_humanos.csv\")\n",
    "data.head()"
   ]
  },
  {
   "cell_type": "code",
   "execution_count": 83,
   "metadata": {},
   "outputs": [],
   "source": [
    "# Create a new SQLite database and establish a connection\n",
    "conn = sqlite3.connect(\"data.db\")\n",
    "cursor = conn.cursor()"
   ]
  },
  {
   "cell_type": "code",
   "execution_count": 84,
   "metadata": {},
   "outputs": [
    {
     "data": {
      "text/plain": [
       "<sqlite3.Cursor at 0x226ffccd640>"
      ]
     },
     "execution_count": 84,
     "metadata": {},
     "output_type": "execute_result"
    }
   ],
   "source": [
    "# Create a table named 'Details' that matches the structure of the CSV file\n",
    "cursor.execute(\n",
    "    \"\"\"\n",
    "CREATE TABLE IF NOT EXISTS Details (\n",
    "    satisfaction_level REAL,\n",
    "    last_evaluation REAL,\n",
    "    number_project INTEGER,\n",
    "    average_monthly_hours INTEGER,\n",
    "    time_spend_company INTEGER,\n",
    "    work_accident INTEGER,\n",
    "    left INTEGER,\n",
    "    promotion_last_5years INTEGER,\n",
    "    sales TEXT,\n",
    "    salary TEXT\n",
    ")\n",
    "\"\"\"\n",
    ")"
   ]
  },
  {
   "cell_type": "code",
   "execution_count": 85,
   "metadata": {},
   "outputs": [
    {
     "data": {
      "text/plain": [
       "14999"
      ]
     },
     "execution_count": 85,
     "metadata": {},
     "output_type": "execute_result"
    }
   ],
   "source": [
    "# Insert the CSV data into the 'Details' table\n",
    "data.columns = [\n",
    "    col.replace(\"average_montly_hours\", \"average_monthly_hours\").lower()\n",
    "    for col in data.columns\n",
    "]\n",
    "data.to_sql(\"Details\", conn, if_exists=\"replace\", index=False)"
   ]
  },
  {
   "cell_type": "code",
   "execution_count": 86,
   "metadata": {},
   "outputs": [
    {
     "data": {
      "text/plain": [
       "0.6128335222348156"
      ]
     },
     "execution_count": 86,
     "metadata": {},
     "output_type": "execute_result"
    }
   ],
   "source": [
    "# 1. Calculate the average satisfaction level of all employees\n",
    "cursor.execute(\"SELECT AVG(satisfaction_level) FROM Details\")\n",
    "avg_satisfaction = cursor.fetchone()[0]\n",
    "avg_satisfaction"
   ]
  },
  {
   "cell_type": "code",
   "execution_count": 87,
   "metadata": {},
   "outputs": [
    {
     "data": {
      "text/plain": [
       "0.44009801176141133"
      ]
     },
     "execution_count": 87,
     "metadata": {},
     "output_type": "execute_result"
    }
   ],
   "source": [
    "# 2. Compare satisfaction levels between employees who stayed and those who left\n",
    "cursor.execute(\"SELECT AVG(satisfaction_level) FROM Details WHERE left = 1\")\n",
    "avg_satisfaction_left = cursor.fetchone()[0]\n",
    "avg_satisfaction_left"
   ]
  },
  {
   "cell_type": "code",
   "execution_count": 88,
   "metadata": {},
   "outputs": [
    {
     "data": {
      "text/plain": [
       "0.666809590479524"
      ]
     },
     "execution_count": 88,
     "metadata": {},
     "output_type": "execute_result"
    }
   ],
   "source": [
    "cursor.execute(\"SELECT AVG(satisfaction_level) FROM Details WHERE left = 0\")\n",
    "avg_satisfaction_stayed = cursor.fetchone()[0]\n",
    "avg_satisfaction_stayed"
   ]
  },
  {
   "cell_type": "code",
   "execution_count": 89,
   "metadata": {},
   "outputs": [
    {
     "data": {
      "text/plain": [
       "201.15666327568667"
      ]
     },
     "execution_count": 89,
     "metadata": {},
     "output_type": "execute_result"
    }
   ],
   "source": [
    "# 3. Calculate the average monthly hours for employees with low or medium salary\n",
    "cursor.execute(\n",
    "    \"SELECT AVG(average_monthly_hours) FROM Details WHERE salary IN ('low', 'medium')\"\n",
    ")\n",
    "avg_hours_low_medium_salary = cursor.fetchone()[0]\n",
    "avg_hours_low_medium_salary"
   ]
  },
  {
   "cell_type": "code",
   "execution_count": 90,
   "metadata": {},
   "outputs": [
    {
     "data": {
      "text/plain": [
       "[(0.45, 0.51, 2, 160, 3, 1, 1, 1, 'sales', 'low'),\n",
       " (0.79, 0.59, 4, 139, 3, 0, 1, 1, 'management', 'low'),\n",
       " (0.41, 0.46, 2, 160, 3, 0, 1, 1, 'sales', 'low'),\n",
       " (0.11, 0.79, 6, 292, 4, 0, 1, 1, 'technical', 'low'),\n",
       " (0.41, 0.56, 2, 154, 3, 0, 1, 1, 'support', 'medium')]"
      ]
     },
     "execution_count": 90,
     "metadata": {},
     "output_type": "execute_result"
    }
   ],
   "source": [
    "# 4. Extract records of employees promoted in the last 5 years who left the company\n",
    "cursor.execute(\"SELECT * FROM Details WHERE promotion_last_5years = 1 AND left = 1\")\n",
    "promoted_left = cursor.fetchall()\n",
    "promoted_left[:5]"
   ]
  },
  {
   "cell_type": "code",
   "execution_count": 91,
   "metadata": {},
   "outputs": [
    {
     "data": {
      "text/plain": [
       "[(0.89, 1.0, 5, 224, 5, 0, 1, 0, 'sales', 'low'),\n",
       " (0.84, 0.92, 4, 234, 5, 0, 1, 0, 'sales', 'low'),\n",
       " (0.78, 0.99, 4, 255, 6, 0, 1, 0, 'sales', 'low'),\n",
       " (0.09, 0.95, 6, 304, 4, 0, 1, 0, 'sales', 'low'),\n",
       " (0.89, 0.92, 5, 242, 5, 0, 1, 0, 'sales', 'low')]"
      ]
     },
     "execution_count": 91,
     "metadata": {},
     "output_type": "execute_result"
    }
   ],
   "source": [
    "# 5. Extract records of employees with a last evaluation of 0.9 or higher\n",
    "cursor.execute(\"SELECT * FROM Details WHERE last_evaluation >= 0.9\")\n",
    "high_evaluation = cursor.fetchall()\n",
    "high_evaluation[:5]"
   ]
  },
  {
   "cell_type": "code",
   "execution_count": 92,
   "metadata": {},
   "outputs": [],
   "source": [
    "# Close the connection\n",
    "conn.close()"
   ]
  },
  {
   "cell_type": "code",
   "execution_count": 93,
   "metadata": {},
   "outputs": [
    {
     "name": "stdout",
     "output_type": "stream",
     "text": [
      "Average Satisfaction Level: 0.61\n",
      "Average Satisfaction Level (Left): 0.44\n",
      "Average Satisfaction Level (Stayed): 0.67\n",
      "Average Monthly Hours (Low/Medium Salary): 201.16\n",
      "Number of Promoted Employees Who Left: 19\n",
      "Number of Employees with High Evaluation: 2988\n"
     ]
    }
   ],
   "source": [
    "# Display the results to the user\n",
    "print(f\"Average Satisfaction Level: {avg_satisfaction:.2f}\")\n",
    "print(f\"Average Satisfaction Level (Left): {avg_satisfaction_left:.2f}\")\n",
    "print(f\"Average Satisfaction Level (Stayed): {avg_satisfaction_stayed:.2f}\")\n",
    "print(f\"Average Monthly Hours (Low/Medium Salary): {avg_hours_low_medium_salary:.2f}\")\n",
    "print(f\"Number of Promoted Employees Who Left: {len(promoted_left)}\")\n",
    "print(f\"Number of Employees with High Evaluation: {len(high_evaluation)}\")"
   ]
  }
 ],
 "metadata": {
  "kernelspec": {
   "display_name": ".venv",
   "language": "python",
   "name": "python3"
  },
  "language_info": {
   "codemirror_mode": {
    "name": "ipython",
    "version": 3
   },
   "file_extension": ".py",
   "mimetype": "text/x-python",
   "name": "python",
   "nbconvert_exporter": "python",
   "pygments_lexer": "ipython3",
   "version": "3.12.7"
  }
 },
 "nbformat": 4,
 "nbformat_minor": 2
}
