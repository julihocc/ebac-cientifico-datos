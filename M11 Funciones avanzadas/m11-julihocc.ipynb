{
 "cells": [
  {
   "cell_type": "markdown",
   "metadata": {},
   "source": [
    "# Módulo 11 | Funciones Avanzadas\n",
    "\n",
    "**Juliho Castillo**\n",
    "\n",
    "## Instrucciones \n",
    "\n",
    "1. Generar un archivo tipo Notebook de Python que contenga el código fuente de varios ejercicios aplicados a los conceptos vistos: \n",
    "   1. Función lambda para obtener la raíz cuadrada de un número.\n",
    "   2. Función map, para obtener el largo de una cadena de palabras. \n",
    "   3. Tip! La cadena tiene que ser dividida en palabras antes de empezar. \n",
    "   4. Función reduce, que sirva para calcular el producto de una lista \n",
    "   5. Función filter que sirva para encontrar palabras que contengan mayúsculas o números en un listado \n",
    "2. Por cada ejercicio es necesario realizar el código en Python sin utilizar la función estudiada, y además generar el código utilizando la función estudiada.  Incluir un ejemplo por cada una."
   ]
  },
  {
   "cell_type": "code",
   "execution_count": 1,
   "metadata": {},
   "outputs": [
    {
     "name": "stdout",
     "output_type": "stream",
     "text": [
      "Raíz cuadrada de 9 (tradicional): 3.0\n",
      "Raíz cuadrada de 9 (lambda): 3.0\n"
     ]
    }
   ],
   "source": [
    "# Importando las librerías necesarias\n",
    "from functools import reduce\n",
    "\n",
    "# Ejercicio 1: Función lambda para obtener la raíz cuadrada de un número.\n",
    "# Tradicional\n",
    "def raiz_cuadrada_tradicional(numero):\n",
    "    return numero ** 0.5\n",
    "\n",
    "# Con función lambda\n",
    "raiz_cuadrada_lambda = lambda numero: numero ** 0.5\n",
    "\n",
    "# Ejemplo de uso\n",
    "numero = 9\n",
    "print(f\"Raíz cuadrada de {numero} (tradicional): {raiz_cuadrada_tradicional(numero)}\")\n",
    "print(f\"Raíz cuadrada de {numero} (lambda): {raiz_cuadrada_lambda(numero)}\")\n"
   ]
  },
  {
   "cell_type": "code",
   "execution_count": 2,
   "metadata": {},
   "outputs": [
    {
     "name": "stdout",
     "output_type": "stream",
     "text": [
      "Largo de palabras (tradicional): [4, 5, 6, 1, 12]\n",
      "Largo de palabras (map): [4, 5, 6, 1, 12]\n"
     ]
    }
   ],
   "source": [
    "\n",
    "# Ejercicio 2: Función map para obtener el largo de una cadena de palabras.\n",
    "cadena = \"Hola mundo Python y programación\"\n",
    "# Tradicional\n",
    "def largo_palabras_tradicional(cadena):\n",
    "    palabras = cadena.split()\n",
    "    largo = []\n",
    "    for palabra in palabras:\n",
    "        largo.append(len(palabra))\n",
    "    return largo\n",
    "\n",
    "# Con función map\n",
    "largo_palabras_map = list(map(len, cadena.split()))\n",
    "\n",
    "# Ejemplo de uso\n",
    "print(f\"Largo de palabras (tradicional): {largo_palabras_tradicional(cadena)}\")\n",
    "print(f\"Largo de palabras (map): {largo_palabras_map}\")\n"
   ]
  },
  {
   "cell_type": "code",
   "execution_count": 3,
   "metadata": {},
   "outputs": [
    {
     "name": "stdout",
     "output_type": "stream",
     "text": [
      "Producto de la lista (tradicional): 120\n",
      "Producto de la lista (reduce): 120\n"
     ]
    }
   ],
   "source": [
    "\n",
    "# Ejercicio 3: Función reduce para calcular el producto de una lista.\n",
    "lista_numeros = [1, 2, 3, 4, 5]\n",
    "# Tradicional\n",
    "def producto_tradicional(lista):\n",
    "    resultado = 1\n",
    "    for numero in lista:\n",
    "        resultado *= numero\n",
    "    return resultado\n",
    "\n",
    "# Con función reduce\n",
    "producto_reduce = reduce(lambda x, y: x*y, lista_numeros)\n",
    "\n",
    "# Ejemplo de uso\n",
    "print(f\"Producto de la lista (tradicional): {producto_tradicional(lista_numeros)}\")\n",
    "print(f\"Producto de la lista (reduce): {producto_reduce}\")\n"
   ]
  },
  {
   "cell_type": "code",
   "execution_count": 4,
   "metadata": {},
   "outputs": [
    {
     "name": "stdout",
     "output_type": "stream",
     "text": [
      "Palabras con mayúsculas o números (tradicional): ['Hola', 'Mundo', 'python3', 'Programación', '2pac']\n",
      "Palabras con mayúsculas o números (filter): ['Hola', 'Mundo', 'python3', 'Programación', '2pac']\n"
     ]
    }
   ],
   "source": [
    "\n",
    "# Ejercicio 4: Función filter para encontrar palabras que contengan mayúsculas o números en un listado.\n",
    "listado_palabras = [\"Hola\", \"Mundo\", \"python3\", \"Programación\", \"2pac\"]\n",
    "# Tradicional\n",
    "def palabras_con_mayusculas_o_numeros_tradicional(listado):\n",
    "    resultado = []\n",
    "    for palabra in listado:\n",
    "        if any(c.isupper() for c in palabra) or any(c.isdigit() for c in palabra):\n",
    "            resultado.append(palabra)\n",
    "    return resultado\n",
    "\n",
    "# Con función filter\n",
    "palabras_con_mayusculas_o_numeros_filter = list(filter(lambda palabra: any(c.isupper() for c in palabra) or any(c.isdigit() for c in palabra), listado_palabras))\n",
    "\n",
    "# Ejemplo de uso\n",
    "print(f\"Palabras con mayúsculas o números (tradicional): {palabras_con_mayusculas_o_numeros_tradicional(listado_palabras)}\")\n",
    "print(f\"Palabras con mayúsculas o números (filter): {palabras_con_mayusculas_o_numeros_filter}\")\n"
   ]
  }
 ],
 "metadata": {
  "kernelspec": {
   "display_name": "machine_learning",
   "language": "python",
   "name": "python3"
  },
  "language_info": {
   "codemirror_mode": {
    "name": "ipython",
    "version": 3
   },
   "file_extension": ".py",
   "mimetype": "text/x-python",
   "name": "python",
   "nbconvert_exporter": "python",
   "pygments_lexer": "ipython3",
   "version": "3.11.5"
  }
 },
 "nbformat": 4,
 "nbformat_minor": 2
}
