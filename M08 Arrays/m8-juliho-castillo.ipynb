{
 "cells": [
  {
   "cell_type": "markdown",
   "metadata": {},
   "source": [
    "# Módulo 8 | Arrays\n",
    "\n",
    "¡Bienvenidos a la actividad práctica del módulo! \n",
    "\n",
    "Antes de empezar\n",
    "\n",
    "En este ejercicio, desarrollarás funciones utilizando las técnicas que hemos visto, con el objetivo de resolver los problemas detallados aquí.\n",
    "\n",
    "Entregable: Un Jupyter Notebook (archivo de extensión .ipynb), archivo PDF y capturas de pantallas en espacio de respuesta que muestren tanto el código desarrollado como la solución al problema planteado, incluyendo los comentarios que sean pertinentes a las preguntas que se plantean. Entregas sin estos elementos no serán calificadas.\n",
    "\n",
    "¡Buena suerte!\n",
    "\n",
    "Paso a paso:\n",
    "\n",
    "## Ejercicio 1\n",
    "Escribe un programa que mediante indexación en NumPy sea capaz de invertir un arreglo (donde el primer elemento se convierte en el último)"
   ]
  },
  {
   "cell_type": "code",
   "execution_count": 4,
   "metadata": {},
   "outputs": [
    {
     "name": "stdout",
     "output_type": "stream",
     "text": [
      "[5 4 3 2 1]\n"
     ]
    }
   ],
   "source": [
    "import numpy as np\n",
    "\n",
    "def invertir_arreglo(arreglo):\n",
    "    return arreglo[::-1]\n",
    "\n",
    "# Crear un arreglo de ejemplo\n",
    "arreglo_original = np.array([1, 2, 3, 4, 5])\n",
    "\n",
    "# Usar la función para invertir el arreglo\n",
    "arreglo_invertido = invertir_arreglo(arreglo_original)\n",
    "\n",
    "print(arreglo_invertido)"
   ]
  },
  {
   "cell_type": "code",
   "execution_count": 5,
   "metadata": {},
   "outputs": [
    {
     "data": {
      "text/plain": [
       "array([20, 19, 18, 17, 16, 15, 14, 13, 12])"
      ]
     },
     "execution_count": 5,
     "metadata": {},
     "output_type": "execute_result"
    }
   ],
   "source": [
    "arr = np.array([12,13,14,15,16,17,18,19,20])\n",
    "invertir_arreglo(arr)"
   ]
  },
  {
   "cell_type": "markdown",
   "metadata": {},
   "source": [
    "## Ejercicio 2\n",
    "Escribe un programa con NumPy para convertir valores de grados Fahrenheit a grados centigrados. Los valores se almacenan en un arreglo de salida."
   ]
  },
  {
   "cell_type": "code",
   "execution_count": 6,
   "metadata": {},
   "outputs": [
    {
     "name": "stdout",
     "output_type": "stream",
     "text": [
      "[  0.         100.         -17.77777778  37.77777778  20.        ]\n"
     ]
    }
   ],
   "source": [
    "import numpy as np\n",
    "\n",
    "def fahrenheit_a_celsius(grados_fahrenheit):\n",
    "    return (grados_fahrenheit - 32) * 5/9\n",
    "\n",
    "# Arreglo de ejemplo con temperaturas en grados Fahrenheit\n",
    "temperaturas_fahrenheit = np.array([32, 212, 0, 100, 68])\n",
    "\n",
    "# Convertir a Celsius\n",
    "temperaturas_celsius = fahrenheit_a_celsius(temperaturas_fahrenheit)\n",
    "\n",
    "print(temperaturas_celsius)\n"
   ]
  },
  {
   "cell_type": "code",
   "execution_count": 7,
   "metadata": {},
   "outputs": [
    {
     "data": {
      "text/plain": [
       "array([-17.77777778, -11.11111111,   7.33888889,   1.11111111,\n",
       "        37.72777778,   0.        ])"
      ]
     },
     "execution_count": 7,
     "metadata": {},
     "output_type": "execute_result"
    }
   ],
   "source": [
    "arr = np.array([0, 12, 45.21 ,34, 99.91, 32])\n",
    "fahrenheit_a_celsius(arr)"
   ]
  },
  {
   "cell_type": "markdown",
   "metadata": {},
   "source": [
    "# Ejercicio 3\n",
    "\n",
    "Escribe un programa con NumPy para encontrar la unión de dos arreglos. La unión debe devolver un arreglo ordenado de valores que están en cualquiera de los dos arreglos de entrada (sin repetición)."
   ]
  },
  {
   "cell_type": "code",
   "execution_count": 8,
   "metadata": {},
   "outputs": [
    {
     "name": "stdout",
     "output_type": "stream",
     "text": [
      "[1 2 3 4 5 6 7]\n"
     ]
    }
   ],
   "source": [
    "import numpy as np\n",
    "\n",
    "def union_arreglos(arreglo1, arreglo2):\n",
    "    # Concatenar los dos arreglos\n",
    "    arreglos_concatenados = np.concatenate((arreglo1, arreglo2))\n",
    "    # Encontrar elementos únicos y ordenarlos\n",
    "    return np.sort(np.unique(arreglos_concatenados))\n",
    "\n",
    "# Definir dos arreglos de ejemplo\n",
    "arreglo1 = np.array([1, 2, 3, 4, 5])\n",
    "arreglo2 = np.array([3, 4, 5, 6, 7])\n",
    "\n",
    "# Encontrar la unión de los dos arreglos de manera funcional\n",
    "union = union_arreglos(arreglo1, arreglo2)\n",
    "\n",
    "print(union)\n"
   ]
  },
  {
   "cell_type": "code",
   "execution_count": 9,
   "metadata": {},
   "outputs": [
    {
     "data": {
      "text/plain": [
       "array([ 0, 10, 20, 30])"
      ]
     },
     "execution_count": 9,
     "metadata": {},
     "output_type": "execute_result"
    }
   ],
   "source": [
    "arr1 = np.array([0,10,20])\n",
    "arr2 = np.array([20,10,30])\n",
    "union_arreglos(arr1,arr2)"
   ]
  }
 ],
 "metadata": {
  "kernelspec": {
   "display_name": "machine_learning",
   "language": "python",
   "name": "python3"
  },
  "language_info": {
   "codemirror_mode": {
    "name": "ipython",
    "version": 3
   },
   "file_extension": ".py",
   "mimetype": "text/x-python",
   "name": "python",
   "nbconvert_exporter": "python",
   "pygments_lexer": "ipython3",
   "version": "3.11.5"
  }
 },
 "nbformat": 4,
 "nbformat_minor": 2
}
