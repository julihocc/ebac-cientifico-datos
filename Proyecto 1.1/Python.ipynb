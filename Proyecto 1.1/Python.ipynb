{
 "cells": [
  {
   "cell_type": "markdown",
   "metadata": {},
   "source": [
    "## 1. Google Play Store apps and reviews\n",
    "<p>Las aplicaciones móviles están en todas partes. Son fáciles de crear y pueden resultar muy lucrativas. Debido a estos dos factores, se están desarrollando cada vez más aplicaciones. En este ejercicio, haremos un análisis completo del mercado de aplicaciones de Android comparando más de diez mil aplicaciones en Google Play en diferentes categorías. Buscaremos información valiosa en los datos para diseñar estrategias que impulsen el crecimiento y la retención.</p>\n",
    "<p><img src=\"https://assets.datacamp.com/production/project_619/img/google_play_store.png\" alt=\"Google Play logo\"></p>\n",
    "<p>Tenemos dos fuentes de datos:</p>\n",
    "<ul>\n",
    "<li><code>apps.csv</code>: contiene todos los detalles de las aplicaciones en Google Play. Hay 13 características que describen una aplicación determinada.</li>\n",
    "<li><code>user_reviews.csv</code>: contiene 100 reseñas para cada aplicación, <a href=\"https://www.androidpolice.com/2019/01/21/google-play-stores-redesigned-ratings-and-reviews-section-lets-you-easily-filter-by-star-rating/\">reviews</a>. El texto de cada reseña se ha procesado previamente y se le atribuyen tres características nuevas: Sentimiento (positivo, negativo o neutral), Polaridad del sentimiento y Subjetividad del sentimiento..</li>\n",
    "</ul>"
   ]
  },
  {
   "cell_type": "code",
   "execution_count": null,
   "metadata": {},
   "outputs": [],
   "source": [
    "# Importa las librerías de pandas y matplotlin\n",
    "import ___\n",
    "\n",
    "\n",
    "# Importa el datase apps.csv\n",
    "apps = ____\n",
    "\n",
    "# Borra todos los duplicados del dataset\n",
    "apps = ____\n",
    "\n",
    "# Imprime el total de apps que se van a analizar que quedan (dimensión)\n",
    "print('Total number of apps in the dataset = ', ____)\n",
    "\n",
    "# Imprime la estádistica descriptiva de resumen\n",
    "print(____)\n",
    "\n",
    "# Vamos a echar un vistazo al DataFrame final\n",
    "print(____)"
   ]
  },
  {
   "cell_type": "markdown",
   "metadata": {},
   "source": [
    "## 2. Data cleaning\n",
    "<p>Las cuatro variables con las que trabajaremos con más frecuencia de ahora en adelante son <i>Installs</i>, <i>Size</i>, <i>Rating</i> y <i>Price</i>. La función <code>info()</code> nos dice que las columnas <i>Installs</i> y <i>Price</i> son de tipo <code>object</code>, no son de tipo <code>int</code> o <code>float</code> como esperaríamos. Esto se debe a que la columna contiene algunos caracteres más que solo [0,9] dígitos. Idealmente, queremos que estas columnas fueran puramente numéricas<br>\n",
    "<br>\n",
    "Por lo tanto, ahora necesitamos limpiar nuestros datos. Específicamente, los caracteres especiales <code>,</code> y <code>+</code> que se encuentran en la columna <i>Installs</i> y <code>$</code> que esta en la columna <i>Price</i>.</p>\n",
    "\n",
    "<p>Aquí un link donde podrás ver un poco más a detalle que es una <a href=\"https://www.freecodecamp.org/espanol/news/expresiones-lambda-en-python/\">función lambda</a>"
   ]
  },
  {
   "cell_type": "code",
   "execution_count": null,
   "metadata": {},
   "outputs": [],
   "source": [
    "# Lista de caracteres a eliminar\n",
    "chars_to_remove = [____]\n",
    "# Lista de las columnas a limpiar\n",
    "cols_to_clean = [____]\n",
    "\n",
    "# Loop para cada columna\n",
    "for col in cols_to_clean:\n",
    "    # Loop para cada caracter especial\n",
    "    for char in chars_to_remove:\n",
    "        # Reemplaza con una función lambda el caracter especial por un texto vacío ('')\n",
    "        apps[col] = apps[____].apply(lambda x: x.replace(____, ____))\n",
    "    # Convierte la columna a tipo flotante (float)\n",
    "    apps[col] = apps[col].astype(____)"
   ]
  },
  {
   "cell_type": "markdown",
   "metadata": {},
   "source": [
    "## 3. Exploring App's categories\n",
    "<p>Con más de mil millones de usuarios activos en 190 países de todo el mundo, Google Play sigue siendo una importante plataforma de distribución para crear una audiencia global. Para que las empresas muestren sus aplicaciones a los usuarios, es importante hacerlas más rápida y fácilmente visibles en Google Play. Para mejorar la experiencia de búsqueda general, Google ha introducido el concepto de agrupar aplicaciones en categorías.</p>\n",
    "<p>Esto nos lleva a las siguientes preguntas:</p>\n",
    "<ul>\n",
    "<li>¿Qué categoría tiene la mayor participación de aplicaciones (activas) en el mercado?</li>\n",
    "<li>¿Alguna categoría específica domina el mercado?</li>\n",
    "<li>¿Qué categorías tienen la menor cantidad de aplicaciones?</li>\n",
    "</ul>\n",
    "<p>Vamos a responder estas preguntas aquí <code>33</code> categorías unicas estan presentas en nuestro dataset. Las apps de <em>Family</em> y <em>Game</em> tienen la mayor prevalencia del mercado. Curiosamente, <em>Tools</em>, <em>Business</em> y <em>Medical</em> también están en el top.</p>"
   ]
  },
  {
   "cell_type": "code",
   "execution_count": null,
   "metadata": {},
   "outputs": [],
   "source": [
    "# Imprime el total de categorías únicas\n",
    "num_categories = ____\n",
    "print('Number of categories = ', num_categories)\n",
    "\n",
    "# Cuenta el número de aplicaciones en cada Categoría y ordena de manera descendente \n",
    "num_apps_in_category = ____\n",
    "\n",
    "# Muestra el resultado en una gráfica de barras\n",
    "____\n",
    "plt.show()"
   ]
  },
  {
   "cell_type": "markdown",
   "metadata": {},
   "source": [
    "## 4. Ratings Distribution\n",
    "<p>Después de analizar la participación de mercado para cada categoría de las aplicaciones, veamos cómo se posicionan de acuerdo a las calificaciones (en una escala del 1 al 5) las cuales afectan la imagen de la marca general de la empresa. Las calificaciones son un indicador clave de rendimiento de una aplicación.</p>"
   ]
  },
  {
   "cell_type": "code",
   "execution_count": null,
   "metadata": {},
   "outputs": [],
   "source": [
    "# Calcular el promedio de calificación de las apps\n",
    "avg_app_rating = ____\n",
    "print('Average app rating = ', avg_app_rating)\n",
    "\n",
    "# Calcula el promedio de calificación por categoría\n",
    "____\n",
    "\n",
    "# Visualiza en un histograma el comportamiento del Rating\n",
    "____\n",
    "plt.show()"
   ]
  },
  {
   "cell_type": "markdown",
   "metadata": {},
   "source": [
    "## 5. Size and Price\n",
    "<p>Examinemos ahora el tamaño y el precio de la aplicación. En cuanto al tamaño, si la aplicación móvil es demasiado grande, puede ser difícil y/o costoso para los usuarios descargarla. Los tiempos de descarga prolongados pueden desanimar a los usuarios incluso antes de que experimenten su aplicación móvil. Además, el dispositivo de cada usuario tiene una cantidad limitada de espacio en disco. Por el precio, algunos usuarios esperan que sus aplicaciones sean gratuitas o económicas. Estos problemas se agravan si el mercado objetivo es en países en vías de desarrollo; especialmente debido a las velocidades de Internet, el poder adquisitivo, los tipos de cambio, etc.</p>\n",
    "<p>How can we effectively come up with strategies to size and price our app?</p>\n",
    "<ul>\n",
    "<li>¿El tamaño de una aplicación afecta su calificación?</li>\n",
    "<li>¿Los usuarios realmente se preocupan por las aplicaciones pesadas del sistema o prefieren las aplicaciones ligeras? </li>\n",
    "<li>¿El precio de una aplicación afecta su calificación? </li>\n",
    "<li>¿Los usuarios siempre prefieren las aplicaciones gratuitas a las de paga?</li>\n",
    "</ul>"
   ]
  },
  {
   "cell_type": "code",
   "execution_count": null,
   "metadata": {},
   "outputs": [],
   "source": [
    "import seaborn as sns\n",
    "import warnings\n",
    "warnings.filterwarnings(\"ignore\")\n",
    "\n",
    "sns.set_style(\"darkgrid\")\n",
    "\n",
    "# Filtra filas donde los valores de 'Rating' y 'Size' no sean nulos\n",
    "apps_with_size_and_rating_present = ____\n",
    "\n",
    "# Filtra las categorías con al menos 250 apps\n",
    "large_categories = apps_with_size_and_rating_present.groupby(____).filter(lambda x: len(x) >= ____)\n",
    "\n",
    "# Gráfica size vs. rating\n",
    "plt1 = sns.jointplot(x = large_categories[____], y = large_categories[____])\n",
    "\n",
    "# Selecciona las apps de paga 'Type' = 'Paid'\n",
    "paid_apps = ____\n",
    "\n",
    "# Grafica price vs. rating de las paplicaciones de paga\n",
    "plt2 = sns.jointplot(x = paid_apps[____], y = paid_apps[____])\n",
    "plt.show()"
   ]
  },
  {
   "cell_type": "markdown",
   "metadata": {},
   "source": [
    "## 6. Relation between Category & Price\n",
    "<p>Así que ahora viene la parte difícil. ¿Cómo se supone que las empresas y los desarrolladores cubran sus cuotas de fin de mes? ¿Qué estrategias de monetización pueden utilizar las empresas para maximizar las ganancias? Los costos de las aplicaciones se basan en gran medida en las características, la complejidad y la plataforma. Hay muchos factores a considerar al seleccionar la estrategia de precios adecuada para las aplicaciones moviles. Es importante considerar la disposición de su cliente a pagar por la aplicación. Un precio elevado puede hacer que los clientes no se vean atraídos por descargarlaque ocurra la descarga o pueden eliminar una aplicación que han descargado después de recibir demasiados anuncios o simplemente no obtener el valor que esperaban de su dinero.</p>\n",
    "\n",
    "<p>Las diferentes categorías exigen diferentes rangos de precios. Algunas aplicaciones que son simples y se usan a diario, como la aplicación de calculadora, probablemente deberían mantenerse gratuitas. Sin embargo, tendría sentido cobrar por una aplicación médica altamente especializada que diagnostica a pacientes diabéticos, así que vamos a descubrir y encontrar la respuesta</p>"
   ]
  },
  {
   "cell_type": "code",
   "execution_count": null,
   "metadata": {},
   "outputs": [],
   "source": [
    "import matplotlib.pyplot as plt\n",
    "fig, ax = plt.subplots()\n",
    "fig.set_size_inches(15, 8)\n",
    "\n",
    "# Lista de categorías populares\n",
    "popular_app_cats = apps[apps.Category.isin(['GAME', 'FAMILY', 'PHOTOGRAPHY',\n",
    "                                            'MEDICAL', 'TOOLS', 'FINANCE',\n",
    "                                            'LIFESTYLE','BUSINESS'])]\n",
    "\n",
    "# Examina la tendencia de precio graficando el Precio por Categoría\n",
    "ax = sns.stripplot(x = popular_app_cats[____], y = popular_app_cats[____], jitter=True, linewidth=1)\n",
    "ax.set_title('App pricing trend across categories')\n",
    "\n",
    "# Selecciona las apps con un precio mayor a 200\n",
    "apps_above_200 = ____\n",
    "apps_above_200[['Category', 'App', 'Price']]"
   ]
  },
  {
   "cell_type": "markdown",
   "metadata": {},
   "source": [
    "## 7. Paid apps vs Free apps\n",
    "<p>Para las aplicaciones de Play Store en la actualidad, existen cinco tipos de estrategias de precios: gratis, \"freemium\", de pago, \"paymium\" y de suscripción. Centrémonos solo en aplicaciones gratuitas y de pago. \n",
    "\n",
    "Algunas características de las aplicaciones gratuitas son:</p>\n",
    "<ul>\n",
    "<li>Libres de descarga.</li>\n",
    "<li>La principal fuente de ingresos a menudo proviene de la publicidad.</li>\n",
    "<li>Por lo general son creadaa por empresas que tienen otros productos y la aplicación sirve como una extensión de esos productos.</li>\n",
    "<li>Puede servir como una herramienta para la retención de clientes, la comunicación y el servicio al cliente.</li>\n",
    "</ul>\n",
    "<p>Algunas características de las aplicaciones de paga son:</p>\n",
    "<ul>\n",
    "<li>Tienen un tiempo de servicio de prueba gratuito, esto para que el usuario pueda conocerla.</li>\n",
    "<li>Ofrecen un servicio de mayor especialidad.</li>\n",
    "</ul>\n",
    "<p>¿Además de esto que otras características diferencías a las aplicaciones de pago las aplicaciones gratuitas?</p>"
   ]
  },
  {
   "cell_type": "code",
   "execution_count": null,
   "metadata": {},
   "outputs": [],
   "source": [
    "____"
   ]
  },
  {
   "cell_type": "markdown",
   "metadata": {},
   "source": [
    "## 8. Sentiment analysis\n",
    "<p>La minería de datos de reseñas de usuarios para determinar cómo se sienten las personas acerca de su producto, marca o servicio se puede realizar mediante una técnica llamada análisis de sentimientos. Las reseñas de los usuarios de las aplicaciones se pueden analizar para identificar si el estado de ánimo es positivo, negativo o neutral con respecto a esa aplicación. Por ejemplo, las palabras positivas en la revisión de una aplicación pueden incluir palabras como \"asombroso\", \"amigable\", \"bueno\", \"excelente\" y \"amor\". Las palabras negativas pueden ser palabras como 'malware', 'odio', 'problema', 'reembolso' e 'incompetente'.</p>\n",
    "\n",
    "<p>¿Qué podemos decir acerca del analisis de sentimiento de las aplicaciones?</p>"
   ]
  },
  {
   "cell_type": "code",
   "execution_count": null,
   "metadata": {},
   "outputs": [],
   "source": [
    "# Carga el archivo user_reviews.csv\n",
    "reviews_df = ____\n",
    "\n",
    "# Une los dos DataFrames (join)\n",
    "merged_df = ____\n",
    "\n",
    "# Elimina los valores nulos (NA) de las columnas Sentiment y Review\n",
    "merged_df = merged_df.dropna(subset = ['Sentiment', 'Review'])\n",
    "\n",
    "# Grafica la polaridad de sentimientos para apps gratuitas y de paga\n",
    "sns.set_style('ticks')\n",
    "fig, ax = plt.subplots()\n",
    "fig.set_size_inches(11, 8)\n",
    "\n",
    "ax = sns.boxplot(x = ____, y = ____, data = ____)\n",
    "ax.set_title('Sentiment Polarity Distribution')"
   ]
  },
  {
   "cell_type": "markdown",
   "metadata": {},
   "source": [
    "## 9. Conclusion\n",
    "<p>En este cuaderno, analizamos más de diez mil aplicaciones de Google Play Store. Podemos usar nuestros hallazgos para poder encontrar información valiosa por si alguna vez deseamos crear una aplicación nosotros mismos. Espero que hayas disfrutado el curso!!! :)\n",
    "    \n",
    "Atte. <a href=\"https://www.linkedin.com/in/ivan-alducin-a87a71108/\">Ivan Alducin</a></p>"
   ]
  }
 ],
 "metadata": {
  "kernelspec": {
   "display_name": "Python 3 (ipykernel)",
   "language": "python",
   "name": "python3"
  },
  "language_info": {
   "codemirror_mode": {
    "name": "ipython",
    "version": 3
   },
   "file_extension": ".py",
   "mimetype": "text/x-python",
   "name": "python",
   "nbconvert_exporter": "python",
   "pygments_lexer": "ipython3",
   "version": "3.11.5"
  }
 },
 "nbformat": 4,
 "nbformat_minor": 4
}
