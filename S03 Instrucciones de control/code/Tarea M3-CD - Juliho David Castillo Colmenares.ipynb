{
 "cells": [
  {
   "cell_type": "code",
   "execution_count": 12,
   "metadata": {},
   "outputs": [],
   "source": [
    "def calculo(horas, tarifa):\n",
    "    if horas <= 40:\n",
    "        salario = horas * tarifa\n",
    "    elif horas > 40 and horas <= 50:\n",
    "        salario = 40 * tarifa + (horas - 40) * tarifa * 1.1\n",
    "    elif horas > 50:\n",
    "        salario = 40 * tarifa + 10 * tarifa * 1.1 + (horas - 50) * tarifa * 1.2\n",
    "    else:\n",
    "        salario = \"Parámetros incorrectos\"\n",
    "    return salario"
   ]
  },
  {
   "cell_type": "code",
   "execution_count": 13,
   "metadata": {},
   "outputs": [
    {
     "name": "stdout",
     "output_type": "stream",
     "text": [
      "285.0\n"
     ]
    }
   ],
   "source": [
    "\"\"\"\n",
    "Número de horas trabajadas: 55 \n",
    "\n",
    "\n",
    "\n",
    "Tarifa por hora: 5                       \n",
    "\n",
    "\n",
    "\n",
    "Monto a pagar: 40(5) + 10(5)(1.1) + 5(5)(1.2) = 285 \n",
    "\"\"\"\n",
    "print(calculo(55, 5)) # 285"
   ]
  },
  {
   "cell_type": "code",
   "execution_count": 14,
   "metadata": {},
   "outputs": [
    {
     "name": "stdout",
     "output_type": "stream",
     "text": [
      "350\n"
     ]
    }
   ],
   "source": [
    "\"\"\"\n",
    "Caso 1:\n",
    "\n",
    "Número de horas trabajadas: 35\n",
    "\n",
    "Tarifa por hora: 10 \n",
    "\"\"\"\n",
    "print(calculo(35, 10)) "
   ]
  },
  {
   "cell_type": "code",
   "execution_count": 15,
   "metadata": {},
   "outputs": [
    {
     "name": "stdout",
     "output_type": "stream",
     "text": [
      "381.6\n"
     ]
    }
   ],
   "source": [
    "\"\"\"\n",
    "Caso 2:\n",
    "\n",
    "Número de horas trabajadas: 47\n",
    "\n",
    "Tarifa por hora: 8 \n",
    "\"\"\"\n",
    "\n",
    "print(calculo(47, 8)) "
   ]
  },
  {
   "cell_type": "code",
   "execution_count": 16,
   "metadata": {},
   "outputs": [
    {
     "name": "stdout",
     "output_type": "stream",
     "text": [
      "1035.0\n"
     ]
    }
   ],
   "source": [
    "\"\"\"\n",
    "Caso 3:\n",
    "\n",
    "Número de horas trabajadas: 65\n",
    "\n",
    "Tarifa por hora: 15\n",
    "\"\"\"\n",
    "print(calculo(65, 15)) "
   ]
  }
 ],
 "metadata": {
  "kernelspec": {
   "display_name": "machine_learning",
   "language": "python",
   "name": "python3"
  },
  "language_info": {
   "codemirror_mode": {
    "name": "ipython",
    "version": 3
   },
   "file_extension": ".py",
   "mimetype": "text/x-python",
   "name": "python",
   "nbconvert_exporter": "python",
   "pygments_lexer": "ipython3",
   "version": "3.11.5"
  }
 },
 "nbformat": 4,
 "nbformat_minor": 2
}
