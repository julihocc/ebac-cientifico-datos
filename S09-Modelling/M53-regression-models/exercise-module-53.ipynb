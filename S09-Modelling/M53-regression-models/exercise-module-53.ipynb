{
 "cells": [
  {
   "cell_type": "markdown",
   "metadata": {},
   "source": [
    "# Module 53: Regression models\n",
    "Author: Juliho Castillo Colmenares Ph.D."
   ]
  },
  {
   "cell_type": "code",
   "execution_count": 75,
   "metadata": {},
   "outputs": [],
   "source": [
    "import pandas as pd\n",
    "import numpy as np\n",
    "from sklearn.model_selection import train_test_split\n",
    "import statsmodels.api as sm\n",
    "from statsmodels.stats.outliers_influence import variance_inflation_factor\n",
    "from statsmodels.stats.diagnostic import het_white\n",
    "from statsmodels.stats.stattools import jarque_bera, durbin_watson\n",
    "from scipy import stats\n",
    "from sklearn.metrics import mean_squared_error, mean_absolute_error"
   ]
  },
  {
   "cell_type": "code",
   "execution_count": 76,
   "metadata": {},
   "outputs": [
    {
     "data": {
      "text/html": [
       "<div>\n",
       "<style scoped>\n",
       "    .dataframe tbody tr th:only-of-type {\n",
       "        vertical-align: middle;\n",
       "    }\n",
       "\n",
       "    .dataframe tbody tr th {\n",
       "        vertical-align: top;\n",
       "    }\n",
       "\n",
       "    .dataframe thead th {\n",
       "        text-align: right;\n",
       "    }\n",
       "</style>\n",
       "<table border=\"1\" class=\"dataframe\">\n",
       "  <thead>\n",
       "    <tr style=\"text-align: right;\">\n",
       "      <th></th>\n",
       "      <th>TV</th>\n",
       "      <th>Radio</th>\n",
       "      <th>Newspaper</th>\n",
       "      <th>Sales</th>\n",
       "    </tr>\n",
       "  </thead>\n",
       "  <tbody>\n",
       "    <tr>\n",
       "      <th>0</th>\n",
       "      <td>230.1</td>\n",
       "      <td>37.8</td>\n",
       "      <td>69.2</td>\n",
       "      <td>22.1</td>\n",
       "    </tr>\n",
       "    <tr>\n",
       "      <th>1</th>\n",
       "      <td>44.5</td>\n",
       "      <td>39.3</td>\n",
       "      <td>45.1</td>\n",
       "      <td>10.4</td>\n",
       "    </tr>\n",
       "    <tr>\n",
       "      <th>2</th>\n",
       "      <td>17.2</td>\n",
       "      <td>45.9</td>\n",
       "      <td>69.3</td>\n",
       "      <td>12.0</td>\n",
       "    </tr>\n",
       "    <tr>\n",
       "      <th>3</th>\n",
       "      <td>151.5</td>\n",
       "      <td>41.3</td>\n",
       "      <td>58.5</td>\n",
       "      <td>16.5</td>\n",
       "    </tr>\n",
       "    <tr>\n",
       "      <th>4</th>\n",
       "      <td>180.8</td>\n",
       "      <td>10.8</td>\n",
       "      <td>58.4</td>\n",
       "      <td>17.9</td>\n",
       "    </tr>\n",
       "  </tbody>\n",
       "</table>\n",
       "</div>"
      ],
      "text/plain": [
       "      TV  Radio  Newspaper  Sales\n",
       "0  230.1   37.8       69.2   22.1\n",
       "1   44.5   39.3       45.1   10.4\n",
       "2   17.2   45.9       69.3   12.0\n",
       "3  151.5   41.3       58.5   16.5\n",
       "4  180.8   10.8       58.4   17.9"
      ]
     },
     "execution_count": 76,
     "metadata": {},
     "output_type": "execute_result"
    }
   ],
   "source": [
    "# Load the data\n",
    "data = pd.read_csv(\"advertising.csv\")\n",
    "data.head()"
   ]
  },
  {
   "cell_type": "code",
   "execution_count": 77,
   "metadata": {},
   "outputs": [],
   "source": [
    "# Define features and target variable\n",
    "X = data[[\"TV\", \"Radio\", \"Newspaper\"]]\n",
    "y = data[\"Sales\"]"
   ]
  },
  {
   "cell_type": "code",
   "execution_count": 78,
   "metadata": {},
   "outputs": [],
   "source": [
    "# Split data into training (70%) and testing (30%) sets\n",
    "X_train, X_test, y_train, y_test = train_test_split(X, y, test_size=0.3, random_state=1)"
   ]
  },
  {
   "cell_type": "code",
   "execution_count": 79,
   "metadata": {},
   "outputs": [],
   "source": [
    "# Add a constant to the model (intercept)\n",
    "X_train_const = sm.add_constant(X_train)"
   ]
  },
  {
   "cell_type": "code",
   "execution_count": 80,
   "metadata": {},
   "outputs": [],
   "source": [
    "# Fit the initial model\n",
    "model = sm.OLS(y_train, X_train_const).fit()"
   ]
  },
  {
   "cell_type": "code",
   "execution_count": 81,
   "metadata": {},
   "outputs": [
    {
     "data": {
      "text/plain": [
       "['TV', 'Radio', 'Newspaper']"
      ]
     },
     "execution_count": 81,
     "metadata": {},
     "output_type": "execute_result"
    }
   ],
   "source": [
    "# Stepwise selection process\n",
    "significant_features = list(X.columns)\n",
    "significant_features"
   ]
  },
  {
   "cell_type": "code",
   "execution_count": 82,
   "metadata": {},
   "outputs": [],
   "source": [
    "while True:\n",
    "    model = sm.OLS(y_train, sm.add_constant(X_train[significant_features])).fit()\n",
    "    p_values = model.pvalues.iloc[1:]  # Exclude intercept\n",
    "    max_p_value = p_values.max()\n",
    "    if max_p_value > 0.05:\n",
    "        excluded_feature = p_values.idxmax()\n",
    "        significant_features.remove(excluded_feature)\n",
    "    else:\n",
    "        break"
   ]
  },
  {
   "cell_type": "code",
   "execution_count": 83,
   "metadata": {},
   "outputs": [],
   "source": [
    "# Final model with significant features only\n",
    "X_train_final = X_train[significant_features]\n",
    "X_train_final_const = sm.add_constant(X_train_final)\n",
    "final_model = sm.OLS(y_train, X_train_final_const).fit()"
   ]
  },
  {
   "cell_type": "code",
   "execution_count": 84,
   "metadata": {},
   "outputs": [],
   "source": [
    "# Evaluate model on test data\n",
    "X_test_final = X_test[significant_features]\n",
    "X_test_final_const = sm.add_constant(X_test_final)\n",
    "y_pred = final_model.predict(X_test_final_const)"
   ]
  },
  {
   "cell_type": "code",
   "execution_count": 85,
   "metadata": {},
   "outputs": [
    {
     "name": "stdout",
     "output_type": "stream",
     "text": [
      "R-squared: 0.8993439479032659\n",
      "Adjusted R-squared: 0.8978745164857953\n",
      "MSE: 2.3645069433762367\n",
      "MAE: 1.1919753277836762\n"
     ]
    }
   ],
   "source": [
    "# Calculate R-squared, Adjusted R-squared, MSE, and MAE\n",
    "r_squared = final_model.rsquared\n",
    "adjusted_r_squared = final_model.rsquared_adj\n",
    "mse = mean_squared_error(y_test, y_pred)\n",
    "mae = mean_absolute_error(y_test, y_pred)\n",
    "\n",
    "print(f\"R-squared: {r_squared}\")\n",
    "print(f\"Adjusted R-squared: {adjusted_r_squared}\")\n",
    "print(f\"MSE: {mse}\")\n",
    "print(f\"MAE: {mae}\")"
   ]
  },
  {
   "cell_type": "code",
   "execution_count": 86,
   "metadata": {},
   "outputs": [
    {
     "data": {
      "text/html": [
       "<div>\n",
       "<style scoped>\n",
       "    .dataframe tbody tr th:only-of-type {\n",
       "        vertical-align: middle;\n",
       "    }\n",
       "\n",
       "    .dataframe tbody tr th {\n",
       "        vertical-align: top;\n",
       "    }\n",
       "\n",
       "    .dataframe thead th {\n",
       "        text-align: right;\n",
       "    }\n",
       "</style>\n",
       "<table border=\"1\" class=\"dataframe\">\n",
       "  <thead>\n",
       "    <tr style=\"text-align: right;\">\n",
       "      <th></th>\n",
       "      <th>const</th>\n",
       "      <th>TV</th>\n",
       "      <th>Radio</th>\n",
       "    </tr>\n",
       "  </thead>\n",
       "  <tbody>\n",
       "    <tr>\n",
       "      <th>116</th>\n",
       "      <td>1.0</td>\n",
       "      <td>139.2</td>\n",
       "      <td>14.3</td>\n",
       "    </tr>\n",
       "    <tr>\n",
       "      <th>67</th>\n",
       "      <td>1.0</td>\n",
       "      <td>139.3</td>\n",
       "      <td>14.5</td>\n",
       "    </tr>\n",
       "    <tr>\n",
       "      <th>78</th>\n",
       "      <td>1.0</td>\n",
       "      <td>5.4</td>\n",
       "      <td>29.9</td>\n",
       "    </tr>\n",
       "    <tr>\n",
       "      <th>42</th>\n",
       "      <td>1.0</td>\n",
       "      <td>293.6</td>\n",
       "      <td>27.7</td>\n",
       "    </tr>\n",
       "    <tr>\n",
       "      <th>17</th>\n",
       "      <td>1.0</td>\n",
       "      <td>281.4</td>\n",
       "      <td>39.6</td>\n",
       "    </tr>\n",
       "    <tr>\n",
       "      <th>...</th>\n",
       "      <td>...</td>\n",
       "      <td>...</td>\n",
       "      <td>...</td>\n",
       "    </tr>\n",
       "    <tr>\n",
       "      <th>133</th>\n",
       "      <td>1.0</td>\n",
       "      <td>219.8</td>\n",
       "      <td>33.5</td>\n",
       "    </tr>\n",
       "    <tr>\n",
       "      <th>137</th>\n",
       "      <td>1.0</td>\n",
       "      <td>273.7</td>\n",
       "      <td>28.9</td>\n",
       "    </tr>\n",
       "    <tr>\n",
       "      <th>72</th>\n",
       "      <td>1.0</td>\n",
       "      <td>26.8</td>\n",
       "      <td>33.0</td>\n",
       "    </tr>\n",
       "    <tr>\n",
       "      <th>140</th>\n",
       "      <td>1.0</td>\n",
       "      <td>73.4</td>\n",
       "      <td>17.0</td>\n",
       "    </tr>\n",
       "    <tr>\n",
       "      <th>37</th>\n",
       "      <td>1.0</td>\n",
       "      <td>74.7</td>\n",
       "      <td>49.4</td>\n",
       "    </tr>\n",
       "  </tbody>\n",
       "</table>\n",
       "<p>140 rows × 3 columns</p>\n",
       "</div>"
      ],
      "text/plain": [
       "     const     TV  Radio\n",
       "116    1.0  139.2   14.3\n",
       "67     1.0  139.3   14.5\n",
       "78     1.0    5.4   29.9\n",
       "42     1.0  293.6   27.7\n",
       "17     1.0  281.4   39.6\n",
       "..     ...    ...    ...\n",
       "133    1.0  219.8   33.5\n",
       "137    1.0  273.7   28.9\n",
       "72     1.0   26.8   33.0\n",
       "140    1.0   73.4   17.0\n",
       "37     1.0   74.7   49.4\n",
       "\n",
       "[140 rows x 3 columns]"
      ]
     },
     "execution_count": 86,
     "metadata": {},
     "output_type": "execute_result"
    }
   ],
   "source": [
    "X_train_final_const"
   ]
  },
  {
   "cell_type": "code",
   "execution_count": 87,
   "metadata": {},
   "outputs": [
    {
     "name": "stdout",
     "output_type": "stream",
     "text": [
      "Significant features in the final model: ['TV', 'Radio']\n"
     ]
    }
   ],
   "source": [
    "# Confirm the significant features in the final model\n",
    "print(\"Significant features in the final model:\", significant_features)"
   ]
  },
  {
   "cell_type": "code",
   "execution_count": 88,
   "metadata": {},
   "outputs": [
    {
     "data": {
      "text/html": [
       "<div>\n",
       "<style scoped>\n",
       "    .dataframe tbody tr th:only-of-type {\n",
       "        vertical-align: middle;\n",
       "    }\n",
       "\n",
       "    .dataframe tbody tr th {\n",
       "        vertical-align: top;\n",
       "    }\n",
       "\n",
       "    .dataframe thead th {\n",
       "        text-align: right;\n",
       "    }\n",
       "</style>\n",
       "<table border=\"1\" class=\"dataframe\">\n",
       "  <thead>\n",
       "    <tr style=\"text-align: right;\">\n",
       "      <th></th>\n",
       "      <th>const</th>\n",
       "      <th>TV</th>\n",
       "      <th>Radio</th>\n",
       "    </tr>\n",
       "  </thead>\n",
       "  <tbody>\n",
       "    <tr>\n",
       "      <th>0</th>\n",
       "      <td>1.0</td>\n",
       "      <td>100</td>\n",
       "      <td>50</td>\n",
       "    </tr>\n",
       "  </tbody>\n",
       "</table>\n",
       "</div>"
      ],
      "text/plain": [
       "   const   TV  Radio\n",
       "0    1.0  100     50"
      ]
     },
     "execution_count": 88,
     "metadata": {},
     "output_type": "execute_result"
    }
   ],
   "source": [
    "# Prepare new data based on only the significant features\n",
    "\n",
    "# Creating the new input values dictionary with only significant features\n",
    "new_data_values = {\"TV\": 100, \"Radio\": 50, \"Newspaper\": 70}\n",
    "# Filter the dictionary to include only the significant features\n",
    "new_data_final = pd.DataFrame(\n",
    "    [{feature: new_data_values[feature] for feature in significant_features}]\n",
    ")\n",
    "\n",
    "# Add a constant to align with the model's intercept term\n",
    "new_data_final_const = sm.add_constant(new_data_final, has_constant=\"add\")\n",
    "new_data_final_const"
   ]
  },
  {
   "cell_type": "code",
   "execution_count": 89,
   "metadata": {},
   "outputs": [
    {
     "name": "stdout",
     "output_type": "stream",
     "text": [
      "90% Confidence Interval for sales prediction: [[14.71820447 15.72514686]]\n"
     ]
    }
   ],
   "source": [
    "# Predict with a 90% confidence interval for the filtered input\n",
    "predicted_sales = final_model.get_prediction(new_data_final_const)\n",
    "ci_90 = predicted_sales.conf_int(alpha=0.1)  # 90% confidence level\n",
    "\n",
    "print(f\"90% Confidence Interval for sales prediction: {ci_90}\")"
   ]
  },
  {
   "cell_type": "code",
   "execution_count": 90,
   "metadata": {},
   "outputs": [],
   "source": [
    "# Assumption Validation\n",
    "# Residuals\n",
    "residuals = final_model.resid"
   ]
  },
  {
   "cell_type": "code",
   "execution_count": 91,
   "metadata": {},
   "outputs": [
    {
     "name": "stdout",
     "output_type": "stream",
     "text": [
      "Jarque-Bera Test: Statistic=24.662861496030988, p-value=4.410904674141444e-06\n"
     ]
    }
   ],
   "source": [
    "# 1. Normality of Residuals (Jarque-Bera)\n",
    "jb_stat, jb_pvalue, _, __ = jarque_bera(residuals)\n",
    "print(f\"Jarque-Bera Test: Statistic={jb_stat}, p-value={jb_pvalue}\")"
   ]
  },
  {
   "cell_type": "code",
   "execution_count": 92,
   "metadata": {},
   "outputs": [
    {
     "name": "stdout",
     "output_type": "stream",
     "text": [
      "White's Test: Statistic=11.353378151633706, p-value=0.04480664163871973\n"
     ]
    }
   ],
   "source": [
    "# 2. Homoscedasticity (White's Test)\n",
    "white_test = het_white(residuals, final_model.model.exog)\n",
    "print(f\"White's Test: Statistic={white_test[0]}, p-value={white_test[1]}\")"
   ]
  },
  {
   "cell_type": "code",
   "execution_count": 93,
   "metadata": {},
   "outputs": [
    {
     "name": "stdout",
     "output_type": "stream",
     "text": [
      "Durbin-Watson Statistic: 2.0375161916374998\n"
     ]
    }
   ],
   "source": [
    "# 3. Autocorrelation (Durbin-Watson Test)\n",
    "dw_stat = durbin_watson(residuals)\n",
    "print(f\"Durbin-Watson Statistic: {dw_stat}\")"
   ]
  },
  {
   "cell_type": "code",
   "execution_count": 94,
   "metadata": {},
   "outputs": [
    {
     "name": "stdout",
     "output_type": "stream",
     "text": [
      "  feature       VIF\n",
      "0      TV  2.111535\n",
      "1   Radio  2.111535\n"
     ]
    }
   ],
   "source": [
    "# 4. Multicollinearity (Variance Inflation Factor - VIF)\n",
    "vif_data = pd.DataFrame()\n",
    "vif_data[\"feature\"] = X_train_final.columns\n",
    "vif_data[\"VIF\"] = [\n",
    "    variance_inflation_factor(X_train_final.values, i)\n",
    "    for i in range(X_train_final.shape[1])\n",
    "]\n",
    "print(vif_data)"
   ]
  },
  {
   "cell_type": "code",
   "execution_count": 95,
   "metadata": {},
   "outputs": [
    {
     "name": "stdout",
     "output_type": "stream",
     "text": [
      "The residuals do not appear normally distributed (Jarque-Bera test).\n",
      "Heteroscedasticity detected (White's test).\n",
      "No significant autocorrelation detected (Durbin-Watson test).\n",
      "No multicollinearity issues (VIF test).\n"
     ]
    }
   ],
   "source": [
    "# Interpret Results\n",
    "if jb_pvalue > 0.1:\n",
    "    print(\"The residuals are normally distributed (Jarque-Bera test).\")\n",
    "else:\n",
    "    print(\"The residuals do not appear normally distributed (Jarque-Bera test).\")\n",
    "\n",
    "if white_test[1] > 0.1:\n",
    "    print(\"Homoscedasticity is present (White's test).\")\n",
    "else:\n",
    "    print(\"Heteroscedasticity detected (White's test).\")\n",
    "\n",
    "if 1.5 < dw_stat < 2.5:\n",
    "    print(\"No significant autocorrelation detected (Durbin-Watson test).\")\n",
    "else:\n",
    "    print(\"Autocorrelation may be present (Durbin-Watson test).\")\n",
    "\n",
    "if vif_data[\"VIF\"].max() < 10:\n",
    "    print(\"No multicollinearity issues (VIF test).\")\n",
    "else:\n",
    "    print(\"Multicollinearity detected (VIF test).\")"
   ]
  }
 ],
 "metadata": {
  "kernelspec": {
   "display_name": ".venv",
   "language": "python",
   "name": "python3"
  },
  "language_info": {
   "codemirror_mode": {
    "name": "ipython",
    "version": 3
   },
   "file_extension": ".py",
   "mimetype": "text/x-python",
   "name": "python",
   "nbconvert_exporter": "python",
   "pygments_lexer": "ipython3",
   "version": "3.12.7"
  }
 },
 "nbformat": 4,
 "nbformat_minor": 2
}
