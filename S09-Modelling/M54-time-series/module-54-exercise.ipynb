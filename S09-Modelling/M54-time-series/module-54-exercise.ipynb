{
 "cells": [
  {
   "cell_type": "code",
   "execution_count": 4,
   "metadata": {},
   "outputs": [],
   "source": [
    "import yfinance as yf\n",
    "import pandas as pd\n",
    "import matplotlib.pyplot as plt\n",
    "from statsmodels.tsa.stattools import adfuller\n",
    "from statsmodels.graphics.tsaplots import plot_acf\n",
    "from statsmodels.tsa.seasonal import seasonal_decompose"
   ]
  },
  {
   "cell_type": "code",
   "execution_count": null,
   "metadata": {},
   "outputs": [
    {
     "name": "stderr",
     "output_type": "stream",
     "text": [
      "[*********************100%***********************]  1 of 1 completed"
     ]
    },
    {
     "name": "stderr",
     "output_type": "stream",
     "text": [
      "\n",
      "[*********************100%***********************]  1 of 1 completed\n"
     ]
    }
   ],
   "source": [
    "# Step 1: Download historical data\n",
    "start_date = \"2019-01-01\"\n",
    "end_date = \"2024-01-01\"\n",
    "ibm_data = yf.download(\"IBM\", start=start_date, end=end_date)\n",
    "walmart_data = yf.download(\"WMT\", start=start_date, end=end_date)"
   ]
  },
  {
   "cell_type": "code",
   "execution_count": 10,
   "metadata": {},
   "outputs": [
    {
     "data": {
      "text/html": [
       "<div>\n",
       "<style scoped>\n",
       "    .dataframe tbody tr th:only-of-type {\n",
       "        vertical-align: middle;\n",
       "    }\n",
       "\n",
       "    .dataframe tbody tr th {\n",
       "        vertical-align: top;\n",
       "    }\n",
       "\n",
       "    .dataframe thead tr th {\n",
       "        text-align: left;\n",
       "    }\n",
       "\n",
       "    .dataframe thead tr:last-of-type th {\n",
       "        text-align: right;\n",
       "    }\n",
       "</style>\n",
       "<table border=\"1\" class=\"dataframe\">\n",
       "  <thead>\n",
       "    <tr>\n",
       "      <th>Price</th>\n",
       "      <th>Close_IBM</th>\n",
       "    </tr>\n",
       "    <tr>\n",
       "      <th>Ticker</th>\n",
       "      <th>IBM</th>\n",
       "    </tr>\n",
       "    <tr>\n",
       "      <th>Date</th>\n",
       "      <th></th>\n",
       "    </tr>\n",
       "  </thead>\n",
       "  <tbody>\n",
       "    <tr>\n",
       "      <th>2018-01-02 00:00:00+00:00</th>\n",
       "      <td>147.466537</td>\n",
       "    </tr>\n",
       "    <tr>\n",
       "      <th>2018-01-03 00:00:00+00:00</th>\n",
       "      <td>151.520081</td>\n",
       "    </tr>\n",
       "    <tr>\n",
       "      <th>2018-01-04 00:00:00+00:00</th>\n",
       "      <td>154.588913</td>\n",
       "    </tr>\n",
       "    <tr>\n",
       "      <th>2018-01-05 00:00:00+00:00</th>\n",
       "      <td>155.344162</td>\n",
       "    </tr>\n",
       "    <tr>\n",
       "      <th>2018-01-08 00:00:00+00:00</th>\n",
       "      <td>156.281067</td>\n",
       "    </tr>\n",
       "    <tr>\n",
       "      <th>...</th>\n",
       "      <td>...</td>\n",
       "    </tr>\n",
       "    <tr>\n",
       "      <th>2022-12-23 00:00:00+00:00</th>\n",
       "      <td>141.649994</td>\n",
       "    </tr>\n",
       "    <tr>\n",
       "      <th>2022-12-27 00:00:00+00:00</th>\n",
       "      <td>142.419998</td>\n",
       "    </tr>\n",
       "    <tr>\n",
       "      <th>2022-12-28 00:00:00+00:00</th>\n",
       "      <td>140.020004</td>\n",
       "    </tr>\n",
       "    <tr>\n",
       "      <th>2022-12-29 00:00:00+00:00</th>\n",
       "      <td>141.059998</td>\n",
       "    </tr>\n",
       "    <tr>\n",
       "      <th>2022-12-30 00:00:00+00:00</th>\n",
       "      <td>140.889999</td>\n",
       "    </tr>\n",
       "  </tbody>\n",
       "</table>\n",
       "<p>1259 rows × 1 columns</p>\n",
       "</div>"
      ],
      "text/plain": [
       "Price                       Close_IBM\n",
       "Ticker                            IBM\n",
       "Date                                 \n",
       "2018-01-02 00:00:00+00:00  147.466537\n",
       "2018-01-03 00:00:00+00:00  151.520081\n",
       "2018-01-04 00:00:00+00:00  154.588913\n",
       "2018-01-05 00:00:00+00:00  155.344162\n",
       "2018-01-08 00:00:00+00:00  156.281067\n",
       "...                               ...\n",
       "2022-12-23 00:00:00+00:00  141.649994\n",
       "2022-12-27 00:00:00+00:00  142.419998\n",
       "2022-12-28 00:00:00+00:00  140.020004\n",
       "2022-12-29 00:00:00+00:00  141.059998\n",
       "2022-12-30 00:00:00+00:00  140.889999\n",
       "\n",
       "[1259 rows x 1 columns]"
      ]
     },
     "execution_count": 10,
     "metadata": {},
     "output_type": "execute_result"
    }
   ],
   "source": [
    "# Step 2: Correlation Analysis\n",
    "\n",
    "# Create DataFrames from the Close prices for alignment\n",
    "ibm_close = ibm_data[[\"Close\"]].rename(columns={\"Close\": \"Close_IBM\"})\n",
    "ibm_close"
   ]
  },
  {
   "cell_type": "code",
   "execution_count": null,
   "metadata": {},
   "outputs": [],
   "source": [
    "walmart_close = walmart_data[[\"Close\"]].rename(columns={\"Close\": \"Close_WMT\"})\n",
    "walmart_close"
   ]
  },
  {
   "cell_type": "code",
   "execution_count": null,
   "metadata": {},
   "outputs": [],
   "source": [
    "# Align the IBM and Walmart closing prices by date\n",
    "aligned_data = ibm_close.join(walmart_close, how=\"inner\")\n",
    "aligned_data"
   ]
  },
  {
   "cell_type": "code",
   "execution_count": 1,
   "metadata": {},
   "outputs": [
    {
     "ename": "NameError",
     "evalue": "name 'aligned_data' is not defined",
     "output_type": "error",
     "traceback": [
      "\u001b[1;31m---------------------------------------------------------------------------\u001b[0m",
      "\u001b[1;31mNameError\u001b[0m                                 Traceback (most recent call last)",
      "Cell \u001b[1;32mIn[1], line 2\u001b[0m\n\u001b[0;32m      1\u001b[0m \u001b[38;5;66;03m# Calculate the correlation between IBM and Walmart closing prices\u001b[39;00m\n\u001b[1;32m----> 2\u001b[0m correlation \u001b[38;5;241m=\u001b[39m \u001b[43maligned_data\u001b[49m[\u001b[38;5;124m\"\u001b[39m\u001b[38;5;124mClose_IBM\u001b[39m\u001b[38;5;124m\"\u001b[39m]\u001b[38;5;241m.\u001b[39mcorr(aligned_data[\u001b[38;5;124m\"\u001b[39m\u001b[38;5;124mClose_WMT\u001b[39m\u001b[38;5;124m\"\u001b[39m])\n\u001b[0;32m      3\u001b[0m \u001b[38;5;28mprint\u001b[39m(\u001b[38;5;124mf\u001b[39m\u001b[38;5;124m\"\u001b[39m\u001b[38;5;124mCorrelation between IBM and Walmart stock prices: \u001b[39m\u001b[38;5;132;01m{\u001b[39;00mcorrelation\u001b[38;5;132;01m}\u001b[39;00m\u001b[38;5;124m\"\u001b[39m)\n",
      "\u001b[1;31mNameError\u001b[0m: name 'aligned_data' is not defined"
     ]
    }
   ],
   "source": [
    "# Calculate the correlation between IBM and Walmart closing prices\n",
    "correlation = aligned_data[\"Close_IBM\"].corr(aligned_data[\"Close_WMT\"])\n",
    "print(f\"Correlation between IBM and Walmart stock prices: {correlation}\")"
   ]
  },
  {
   "cell_type": "code",
   "execution_count": null,
   "metadata": {},
   "outputs": [],
   "source": [
    "# Plot scatter plot for visual correlation\n",
    "plt.figure(figsize=(10, 5))\n",
    "plt.scatter(aligned_data[\"Close_IBM\"], aligned_data[\"Close_WMT\"])\n",
    "plt.xlabel(\"IBM Closing Price\")\n",
    "plt.ylabel(\"Walmart Closing Price\")\n",
    "plt.title(f\"Correlation between IBM and Walmart Prices: {correlation:.2f}\")\n",
    "plt.show()"
   ]
  },
  {
   "cell_type": "code",
   "execution_count": null,
   "metadata": {},
   "outputs": [],
   "source": [
    "# Plot scatter plot for visual correlation\n",
    "plt.figure(figsize=(10, 5))\n",
    "plt.scatter(ibm_data[\"Close\"], walmart_data[\"Close\"])\n",
    "plt.xlabel(\"IBM Closing Price\")\n",
    "plt.ylabel(\"Walmart Closing Price\")\n",
    "plt.title(f\"Correlation between IBM and Walmart Prices: {correlation:.2f}\")\n",
    "plt.show()\n",
    "\n",
    "# Step 3: Time Series Decomposition\n",
    "# Decompose both time series and plot\n",
    "for stock_data, name in zip([ibm_data, walmart_data], [\"IBM\", \"Walmart\"]):\n",
    "    decomposed = seasonal_decompose(stock_data[\"Close\"], model=\"additive\", period=365)\n",
    "    decomposed.plot()\n",
    "    plt.suptitle(f\"{name} Stock Price Decomposition\")\n",
    "    plt.show()\n",
    "\n",
    "# Plot correlograms for both IBM and Walmart stock prices\n",
    "for stock_data, name in zip([ibm_data, walmart_data], [\"IBM\", \"Walmart\"]):\n",
    "    plt.figure(figsize=(10, 5))\n",
    "    plot_acf(stock_data[\"Close\"].dropna(), lags=40)\n",
    "    plt.title(f\"{name} Autocorrelation Plot\")\n",
    "    plt.show()\n",
    "\n",
    "\n",
    "# Step 4: Dickey-Fuller Test for stationarity\n",
    "def adf_test(series, name):\n",
    "    result = adfuller(series)\n",
    "    print(f\"ADF Statistic for {name}: {result[0]}\")\n",
    "    print(f\"p-value for {name}: {result[1]}\")\n",
    "    if result[1] < 0.05:\n",
    "        print(f\"The {name} series is stationary.\")\n",
    "    else:\n",
    "        print(f\"The {name} series is not stationary.\")\n",
    "\n",
    "\n",
    "adf_test(ibm_data[\"Close\"], \"IBM\")\n",
    "adf_test(walmart_data[\"Close\"], \"Walmart\")\n",
    "\n",
    "# Step 5: Moving Average Analysis\n",
    "# Calculate 30-day moving average for both stocks\n",
    "for stock_data, name in zip([ibm_data, walmart_data], [\"IBM\", \"Walmart\"]):\n",
    "    stock_data[\"30_day_MA\"] = stock_data[\"Close\"].rolling(window=30).mean()\n",
    "\n",
    "    # Plot original and moving average prices\n",
    "    plt.figure(figsize=(12, 6))\n",
    "    plt.plot(stock_data[\"Close\"], label=f\"{name} Close Price\")\n",
    "    plt.plot(stock_data[\"30_day_MA\"], label=\"30-Day Moving Average\", linestyle=\"--\")\n",
    "    plt.title(f\"{name} Close Price and 30-Day Moving Average\")\n",
    "    plt.xlabel(\"Date\")\n",
    "    plt.ylabel(\"Price\")\n",
    "    plt.legend()\n",
    "    plt.show()\n",
    "\n",
    "# Step 6: One-Day Forecast (simple projection using last moving average value)\n",
    "# For simplicity, we use the last available 30-day moving average as the forecast\n",
    "for stock_data, name in zip([ibm_data, walmart_data], [\"IBM\", \"Walmart\"]):\n",
    "    last_moving_avg = stock_data[\"30_day_MA\"].iloc[-1]\n",
    "    print(\n",
    "        f\"One-day forecast for {name} based on the 30-day moving average: {last_moving_avg}\"\n",
    "    )"
   ]
  }
 ],
 "metadata": {
  "kernelspec": {
   "display_name": ".venv",
   "language": "python",
   "name": "python3"
  },
  "language_info": {
   "codemirror_mode": {
    "name": "ipython",
    "version": 3
   },
   "file_extension": ".py",
   "mimetype": "text/x-python",
   "name": "python",
   "nbconvert_exporter": "python",
   "pygments_lexer": "ipython3",
   "version": "3.12.7"
  }
 },
 "nbformat": 4,
 "nbformat_minor": 2
}
