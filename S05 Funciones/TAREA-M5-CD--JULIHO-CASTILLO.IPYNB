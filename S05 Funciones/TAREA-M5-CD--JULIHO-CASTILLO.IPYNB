{
 "cells": [
  {
   "cell_type": "code",
   "execution_count": 28,
   "metadata": {},
   "outputs": [
    {
     "name": "stdout",
     "output_type": "stream",
     "text": [
      "cba321\n"
     ]
    }
   ],
   "source": [
    "'''\n",
    "1.Desarrolle un programa en Python que a través de una función denominada “Invierte_cadena” sea capaz de invertir una cadena de caracteres.\n",
    "'''\n",
    "\n",
    "def invierte_cadena(cadena: str) -> str:\n",
    "    \"\"\"\n",
    "    Retorna la cadena de caracteres invertida.\n",
    "\n",
    "    Parameters:\n",
    "    cadena (str): La cadena de caracteres a invertir.\n",
    "\n",
    "    Returns:\n",
    "    str: La cadena invertida\n",
    "    \"\"\"\n",
    "    return cadena[::-1]\n",
    "\n",
    "# ejemplos\n",
    "print(invierte_cadena(\"123abc\"))"
   ]
  },
  {
   "cell_type": "code",
   "execution_count": 29,
   "metadata": {},
   "outputs": [
    {
     "name": "stdout",
     "output_type": "stream",
     "text": [
      "1 False\n",
      "2 True\n",
      "3 True\n",
      "4 False\n",
      "5 True\n",
      "6 False\n",
      "7 True\n",
      "8 False\n",
      "9 False\n",
      "10 False\n",
      "11 True\n",
      "12 False\n",
      "13 True\n",
      "14 False\n",
      "15 False\n",
      "16 False\n",
      "17 True\n",
      "18 False\n",
      "19 True\n"
     ]
    }
   ],
   "source": [
    "'''\n",
    "2.Escribe una función en Python llamada “prueba_primo” que tome un número como parámetro y compruebe si el número es primo o no.\n",
    "\n",
    "Nota: Un número primo es un número natural mayor que 1 y que no tiene divisores positivos más que 1 y él mismo.\n",
    "'''\n",
    "\n",
    "def prueba_primo(n: int) -> bool:\n",
    "    '''\n",
    "    Comprueba si un número entero es primo o no.\n",
    "    \n",
    "    Parameters:\n",
    "    n (int): El número a comprobar.\n",
    "    \n",
    "    Returns:\n",
    "    bool: True si el número es primo, False si no lo es.\n",
    "    '''\n",
    "    if n < 2:\n",
    "        return False\n",
    "    for i in range(2,n):\n",
    "        if n % i == 0:\n",
    "            return False\n",
    "    return True\n",
    "\n",
    "# ejemplos\n",
    "for i in range(1,20):\n",
    "    print(i,prueba_primo(i))\n",
    "\n"
   ]
  }
 ],
 "metadata": {
  "kernelspec": {
   "display_name": "machine_learning",
   "language": "python",
   "name": "python3"
  },
  "language_info": {
   "codemirror_mode": {
    "name": "ipython",
    "version": 3
   },
   "file_extension": ".py",
   "mimetype": "text/x-python",
   "name": "python",
   "nbconvert_exporter": "python",
   "pygments_lexer": "ipython3",
   "version": "3.11.5"
  }
 },
 "nbformat": 4,
 "nbformat_minor": 2
}
