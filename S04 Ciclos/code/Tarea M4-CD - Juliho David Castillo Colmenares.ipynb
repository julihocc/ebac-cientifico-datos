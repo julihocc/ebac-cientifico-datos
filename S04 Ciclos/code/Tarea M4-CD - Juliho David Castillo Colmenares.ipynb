{
 "cells": [
  {
   "cell_type": "markdown",
   "metadata": {},
   "source": [
    "### Problema 1.\n",
    "\n",
    "Desarrolle un programa en Python que mediante el uso de un ciclo ‘while’ determine si un número n (proporcionado por el usuario) puede ser expresado como 2K donde K es entero \n",
    "\n",
    "\n",
    "Por ejemplo:         \n",
    "\n",
    "Si n = 8,    Puede ser expresado como 23 = 8\n",
    "\n",
    "Si n = 32,  Puede ser expresado como 25 = 32\n",
    "\n",
    "Si n = 40, No puede ser expresado como 2K = 40 \n",
    "\n",
    "\n",
    "\n",
    "Pruebe cada uno de los ejemplos anteriores en su código para verificar resultados, así como alguno adicional.\n",
    "\n",
    "**Comentario**\n",
    "\n",
    "El problema esta mal planteado, ya que 2K significa multiplicación, y por supuesto que 40 se puede expresar como múltiplo 2. Sin embargo, por los dos primeros casos de ejemplo, supongo que la expresión correcta es 2**K, por lo que resolveré este problema.\n"
   ]
  },
  {
   "cell_type": "code",
   "execution_count": 43,
   "metadata": {},
   "outputs": [],
   "source": [
    "def esPotenciaDe2(n):\n",
    "\n",
    "    while n > 1:\n",
    "        if n % 2 != 0:\n",
    "            return False\n",
    "        n = n // 2\n",
    "\n",
    "    return True "
   ]
  },
  {
   "cell_type": "code",
   "execution_count": 44,
   "metadata": {},
   "outputs": [
    {
     "data": {
      "text/plain": [
       "True"
      ]
     },
     "execution_count": 44,
     "metadata": {},
     "output_type": "execute_result"
    }
   ],
   "source": [
    "esPotenciaDe2(8)"
   ]
  },
  {
   "cell_type": "code",
   "execution_count": 45,
   "metadata": {},
   "outputs": [
    {
     "data": {
      "text/plain": [
       "True"
      ]
     },
     "execution_count": 45,
     "metadata": {},
     "output_type": "execute_result"
    }
   ],
   "source": [
    "esPotenciaDe2(32)"
   ]
  },
  {
   "cell_type": "code",
   "execution_count": 46,
   "metadata": {},
   "outputs": [
    {
     "data": {
      "text/plain": [
       "False"
      ]
     },
     "execution_count": 46,
     "metadata": {},
     "output_type": "execute_result"
    }
   ],
   "source": [
    "esPotenciaDe2(40)"
   ]
  },
  {
   "cell_type": "markdown",
   "metadata": {},
   "source": [
    "### Problema 2\n",
    "\n",
    "El factorial de un número entero positivo n se define de la siguiente manera:\n",
    "\n",
    "n!= 1(2)(3)...n Por ejemplo: 4!=1(2)(3)(4) = 24\n",
    "\n",
    "\n",
    "\n",
    "Desarrolle un programa en Python que mediante el uso de ciclos calcule el factorial del número que indique el usuario. En caso de que el valor proporcionado sea inválido (por ejemplo, que sea negativo o fraccionado), deberá devolver un mensaje de “Error de captura”. Pruebe su código calculando los factoriales de 4, 5 y 6 respectivamente así como el de 7.5"
   ]
  },
  {
   "cell_type": "code",
   "execution_count": 47,
   "metadata": {},
   "outputs": [],
   "source": [
    "def factorial(n):\n",
    "    if n == int(n) and n>=0:\n",
    "        if n == 0:\n",
    "            return 1\n",
    "        else:\n",
    "            acum = 1\n",
    "            while n > 0:\n",
    "                acum = acum * n\n",
    "                n = n - 1\n",
    "            return acum\n",
    "    return \"Error de captura\""
   ]
  },
  {
   "cell_type": "code",
   "execution_count": 48,
   "metadata": {},
   "outputs": [
    {
     "data": {
      "text/plain": [
       "24"
      ]
     },
     "execution_count": 48,
     "metadata": {},
     "output_type": "execute_result"
    }
   ],
   "source": [
    "factorial(4)"
   ]
  },
  {
   "cell_type": "code",
   "execution_count": 49,
   "metadata": {},
   "outputs": [
    {
     "data": {
      "text/plain": [
       "120"
      ]
     },
     "execution_count": 49,
     "metadata": {},
     "output_type": "execute_result"
    }
   ],
   "source": [
    "factorial(5)"
   ]
  },
  {
   "cell_type": "code",
   "execution_count": 50,
   "metadata": {},
   "outputs": [
    {
     "data": {
      "text/plain": [
       "720"
      ]
     },
     "execution_count": 50,
     "metadata": {},
     "output_type": "execute_result"
    }
   ],
   "source": [
    "factorial(6)"
   ]
  },
  {
   "cell_type": "code",
   "execution_count": 51,
   "metadata": {},
   "outputs": [
    {
     "data": {
      "text/plain": [
       "'Error de captura'"
      ]
     },
     "execution_count": 51,
     "metadata": {},
     "output_type": "execute_result"
    }
   ],
   "source": [
    "factorial(7.5)"
   ]
  },
  {
   "cell_type": "code",
   "execution_count": 52,
   "metadata": {},
   "outputs": [
    {
     "data": {
      "text/plain": [
       "'Error de captura'"
      ]
     },
     "execution_count": 52,
     "metadata": {},
     "output_type": "execute_result"
    }
   ],
   "source": [
    "factorial(-3)"
   ]
  }
 ],
 "metadata": {
  "kernelspec": {
   "display_name": "machine_learning",
   "language": "python",
   "name": "python3"
  },
  "language_info": {
   "codemirror_mode": {
    "name": "ipython",
    "version": 3
   },
   "file_extension": ".py",
   "mimetype": "text/x-python",
   "name": "python",
   "nbconvert_exporter": "python",
   "pygments_lexer": "ipython3",
   "version": "3.11.5"
  }
 },
 "nbformat": 4,
 "nbformat_minor": 2
}
